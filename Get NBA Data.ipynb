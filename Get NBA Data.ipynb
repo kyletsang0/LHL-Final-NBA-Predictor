{
 "cells": [
  {
   "cell_type": "markdown",
   "metadata": {},
   "source": [
    "# Get NBA Data"
   ]
  },
  {
   "cell_type": "markdown",
   "metadata": {},
   "source": [
    "## Importing Packages"
   ]
  },
  {
   "cell_type": "code",
   "execution_count": 1,
   "metadata": {},
   "outputs": [],
   "source": [
    "import requests\n",
    "import json\n",
    "import csv\n",
    "import time\n",
    "import pandas as pd"
   ]
  },
  {
   "cell_type": "markdown",
   "metadata": {},
   "source": [
    "## Testing connection to API"
   ]
  },
  {
   "cell_type": "code",
   "execution_count": 2,
   "metadata": {},
   "outputs": [],
   "source": [
    "base = \"https://www.balldontlie.io/api/v1/\"\n",
    "url = \"games\"\n",
    "\n",
    "\n",
    "seasons = 2018\n",
    "query = f'seasons[]={seasons}&per_page=100'\n",
    "api_key = '35a5e451092228a0be8d70198cd41eef'\n",
    "params = f'?{query}' "
   ]
  },
  {
   "cell_type": "code",
   "execution_count": 3,
   "metadata": {},
   "outputs": [],
   "source": [
    "res = requests.get(base+url+params)"
   ]
  },
  {
   "cell_type": "code",
   "execution_count": 4,
   "metadata": {},
   "outputs": [
    {
     "data": {
      "text/plain": [
       "200"
      ]
     },
     "execution_count": 4,
     "metadata": {},
     "output_type": "execute_result"
    }
   ],
   "source": [
    "res.status_code"
   ]
  },
  {
   "cell_type": "code",
   "execution_count": 5,
   "metadata": {},
   "outputs": [
    {
     "data": {
      "text/plain": [
       "{'total_pages': 14,\n",
       " 'current_page': 1,\n",
       " 'next_page': 2,\n",
       " 'per_page': 100,\n",
       " 'total_count': 1311}"
      ]
     },
     "execution_count": 5,
     "metadata": {},
     "output_type": "execute_result"
    }
   ],
   "source": [
    "res.json()['meta']"
   ]
  },
  {
   "cell_type": "markdown",
   "metadata": {},
   "source": [
    "# Build function to retrieve data by season"
   ]
  },
  {
   "cell_type": "code",
   "execution_count": 59,
   "metadata": {},
   "outputs": [],
   "source": [
    "def get_season_data(stat, seasons):\n",
    "    url = f\"https://www.balldontlie.io/api/v1/{stat}?seasons[]={season}&per_page=100\"\n",
    "    res = requests.get(url)\n",
    "    status = res.status_code\n",
    "    print(f'Status: {status}')\n",
    "    \n",
    "    #get total number of pages\n",
    "    pages = res.json()['meta']['total_pages']\n",
    "    filename = f'data/{stat}_{season}_season.csv'\n",
    "    \n",
    "    # Creates a DataFrame with the flattened JSON results\n",
    "    df = pd.json_normalize(res.json()['data'])\n",
    "    \n",
    "    #repeat get request for each page from page 2 onwards, adding it to the dataframe\n",
    "    for page in range(2,pages+1):\n",
    "        url = f\"https://www.balldontlie.io/api/v1/{stat}?seasons[]={season}&per_page=100&page={page}\"\n",
    "        res = requests.get(url)\n",
    "        status = res.status_code\n",
    "        \n",
    "        # If we get anything but 200 as status, tell us what page\n",
    "        if status != 200:\n",
    "            print(f'Page {page} Status: {status}')\n",
    "        \n",
    "        # normalize JSON result and add results to dataframe\n",
    "        df_page = pd.json_normalize(res.json()['data'])\n",
    "        df = pd.concat([df, df_page])\n",
    "        \n",
    "        # sleep for 1 second after each call. BDL API is limited to 60 per minute\n",
    "        time.sleep(1)\n",
    "    \n",
    "    # Save dataframe to csv\n",
    "    df.to_csv(filename, index=False)\n",
    "    print(f'{filename} saved')"
   ]
  },
  {
   "cell_type": "code",
   "execution_count": null,
   "metadata": {},
   "outputs": [],
   "source": []
  },
  {
   "cell_type": "markdown",
   "metadata": {},
   "source": [
    "# Get Games Data"
   ]
  },
  {
   "cell_type": "code",
   "execution_count": 8,
   "metadata": {},
   "outputs": [
    {
     "name": "stdout",
     "output_type": "stream",
     "text": [
      "Getting game data for 1998 season\n",
      "Status: 200\n",
      "data/games_1998_season.csv saved\n",
      "Getting game data for 1999 season\n",
      "Status: 200\n",
      "data/games_1999_season.csv saved\n",
      "Getting game data for 2000 season\n",
      "Status: 200\n",
      "data/games_2000_season.csv saved\n",
      "Getting game data for 2001 season\n",
      "Status: 200\n",
      "data/games_2001_season.csv saved\n",
      "Getting game data for 2002 season\n",
      "Status: 200\n",
      "data/games_2002_season.csv saved\n",
      "Getting game data for 2003 season\n",
      "Status: 200\n",
      "data/games_2003_season.csv saved\n",
      "Getting game data for 2004 season\n",
      "Status: 200\n",
      "data/games_2004_season.csv saved\n",
      "Getting game data for 2005 season\n",
      "Status: 200\n",
      "data/games_2005_season.csv saved\n",
      "Getting game data for 2006 season\n",
      "Status: 200\n",
      "data/games_2006_season.csv saved\n",
      "Getting game data for 2007 season\n",
      "Status: 200\n",
      "data/games_2007_season.csv saved\n"
     ]
    }
   ],
   "source": [
    "#seasons = [2008, 2009, 2010, 2011, 2012, 2013, 2014, 2015, 2016, 2017, 2018]\n",
    "seasons = [1998, 1999, 2000, 2001, 2002, 2003, 2004, 2005, 2006, 2007]\n",
    "for season in seasons:\n",
    "    print(f'Getting game data for {season} season')\n",
    "    get_season_data('games', season)"
   ]
  },
  {
   "cell_type": "markdown",
   "metadata": {},
   "source": [
    "# Get player stats"
   ]
  },
  {
   "cell_type": "code",
   "execution_count": 8,
   "metadata": {},
   "outputs": [
    {
     "name": "stdout",
     "output_type": "stream",
     "text": [
      "Getting player stats for 1998 season\n",
      "Status: 200\n",
      "data/stats_1998_season.csv saved\n",
      "Getting player stats for 1999 season\n",
      "Status: 200\n",
      "data/stats_1999_season.csv saved\n",
      "Getting player stats for 2000 season\n",
      "Status: 200\n",
      "data/stats_2000_season.csv saved\n",
      "Getting player stats for 2001 season\n",
      "Status: 200\n",
      "data/stats_2001_season.csv saved\n",
      "Getting player stats for 2002 season\n",
      "Status: 200\n",
      "data/stats_2002_season.csv saved\n",
      "Getting player stats for 2003 season\n",
      "Status: 200\n",
      "data/stats_2003_season.csv saved\n",
      "Getting player stats for 2004 season\n",
      "Status: 200\n",
      "data/stats_2004_season.csv saved\n",
      "Getting player stats for 2005 season\n",
      "Status: 200\n",
      "data/stats_2005_season.csv saved\n",
      "Getting player stats for 2006 season\n",
      "Status: 200\n",
      "data/stats_2006_season.csv saved\n",
      "Getting player stats for 2007 season\n",
      "Status: 200\n",
      "data/stats_2007_season.csv saved\n"
     ]
    }
   ],
   "source": [
    "seasons = [1998, 1999, 2000, 2001, 2002, 2003, 2004, 2005, 2006, 2007]\n",
    "\n",
    "\n",
    "for season in seasons:\n",
    "    print(f'Getting player stats for {season} season')\n",
    "    get_season_data('stats', season)"
   ]
  },
  {
   "cell_type": "code",
   "execution_count": 10,
   "metadata": {},
   "outputs": [
    {
     "name": "stdout",
     "output_type": "stream",
     "text": [
      "Status: 200\n",
      "data/stats_2007_season.csv saved\n"
     ]
    }
   ],
   "source": [
    "get_season_data('stats',2016)"
   ]
  },
  {
   "cell_type": "code",
   "execution_count": null,
   "metadata": {},
   "outputs": [],
   "source": []
  },
  {
   "cell_type": "code",
   "execution_count": 62,
   "metadata": {},
   "outputs": [],
   "source": [
    "def get_game_stats(game):\n",
    "    url = f\"https://www.balldontlie.io/api/v1/stats?game_ids[]={game}\"\n",
    "    res = requests.get(url)\n",
    "    status = res.status_code\n",
    "    filename = f'game_{game}.csv'\n",
    "\n",
    "    # Creates a DataFrame with the flattened JSON results\n",
    "    df = pd.json_normalize(res.json()['data'])\n",
    "\n",
    "    # Save dataframe to csv\n",
    "    df.to_csv(filename, index=False)\n",
    "    print(f'{filename} saved')"
   ]
  },
  {
   "cell_type": "code",
   "execution_count": 67,
   "metadata": {},
   "outputs": [
    {
     "name": "stdout",
     "output_type": "stream",
     "text": [
      "game_23949.csv saved\n"
     ]
    }
   ],
   "source": [
    "get_game_stats(23949)"
   ]
  },
  {
   "cell_type": "code",
   "execution_count": 54,
   "metadata": {},
   "outputs": [],
   "source": []
  },
  {
   "cell_type": "code",
   "execution_count": null,
   "metadata": {},
   "outputs": [],
   "source": []
  }
 ],
 "metadata": {
  "kernelspec": {
   "display_name": "datacamp",
   "language": "python",
   "name": "datacamp"
  },
  "language_info": {
   "codemirror_mode": {
    "name": "ipython",
    "version": 3
   },
   "file_extension": ".py",
   "mimetype": "text/x-python",
   "name": "python",
   "nbconvert_exporter": "python",
   "pygments_lexer": "ipython3",
   "version": "3.6.12"
  }
 },
 "nbformat": 4,
 "nbformat_minor": 4
}
