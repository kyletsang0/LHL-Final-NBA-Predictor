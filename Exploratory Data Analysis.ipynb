{
 "cells": [
  {
   "cell_type": "code",
   "execution_count": 127,
   "metadata": {},
   "outputs": [],
   "source": [
    "import pandas as pd\n",
    "import numpy as np\n",
    "\n",
    "import seaborn as sns\n",
    "import plotly.graph_objs as go\n",
    "import matplotlib.pyplot as plt"
   ]
  },
  {
   "cell_type": "code",
   "execution_count": 91,
   "metadata": {},
   "outputs": [],
   "source": [
    "# 2018 season will be used for testing\n",
    "games2018 = pd.read_csv('data/games_2018_season.csv')\n",
    "stats2018 = pd.read_csv('data/stats_2018_season.csv')"
   ]
  },
  {
   "cell_type": "code",
   "execution_count": 223,
   "metadata": {},
   "outputs": [
    {
     "data": {
      "text/html": [
       "<div>\n",
       "<style scoped>\n",
       "    .dataframe tbody tr th:only-of-type {\n",
       "        vertical-align: middle;\n",
       "    }\n",
       "\n",
       "    .dataframe tbody tr th {\n",
       "        vertical-align: top;\n",
       "    }\n",
       "\n",
       "    .dataframe thead th {\n",
       "        text-align: right;\n",
       "    }\n",
       "</style>\n",
       "<table border=\"1\" class=\"dataframe\">\n",
       "  <thead>\n",
       "    <tr style=\"text-align: right;\">\n",
       "      <th></th>\n",
       "      <th>id</th>\n",
       "      <th>date</th>\n",
       "      <th>home_team_score</th>\n",
       "      <th>period</th>\n",
       "      <th>postseason</th>\n",
       "      <th>season</th>\n",
       "      <th>status</th>\n",
       "      <th>time</th>\n",
       "      <th>visitor_team_score</th>\n",
       "      <th>home_team.id</th>\n",
       "      <th>...</th>\n",
       "      <th>home_team.division</th>\n",
       "      <th>home_team.full_name</th>\n",
       "      <th>home_team.name</th>\n",
       "      <th>visitor_team.id</th>\n",
       "      <th>visitor_team.abbreviation</th>\n",
       "      <th>visitor_team.city</th>\n",
       "      <th>visitor_team.conference</th>\n",
       "      <th>visitor_team.division</th>\n",
       "      <th>visitor_team.full_name</th>\n",
       "      <th>visitor_team.name</th>\n",
       "    </tr>\n",
       "  </thead>\n",
       "  <tbody>\n",
       "    <tr>\n",
       "      <th>0</th>\n",
       "      <td>24362</td>\n",
       "      <td>2010-10-27T00:00:00.000Z</td>\n",
       "      <td>95</td>\n",
       "      <td>4</td>\n",
       "      <td>False</td>\n",
       "      <td>2010</td>\n",
       "      <td>Final</td>\n",
       "      <td></td>\n",
       "      <td>87</td>\n",
       "      <td>6</td>\n",
       "      <td>...</td>\n",
       "      <td>Central</td>\n",
       "      <td>Cleveland Cavaliers</td>\n",
       "      <td>Cavaliers</td>\n",
       "      <td>2</td>\n",
       "      <td>BOS</td>\n",
       "      <td>Boston</td>\n",
       "      <td>East</td>\n",
       "      <td>Atlantic</td>\n",
       "      <td>Boston Celtics</td>\n",
       "      <td>Celtics</td>\n",
       "    </tr>\n",
       "    <tr>\n",
       "      <th>1</th>\n",
       "      <td>24363</td>\n",
       "      <td>2010-10-27T00:00:00.000Z</td>\n",
       "      <td>104</td>\n",
       "      <td>4</td>\n",
       "      <td>False</td>\n",
       "      <td>2010</td>\n",
       "      <td>Final</td>\n",
       "      <td></td>\n",
       "      <td>119</td>\n",
       "      <td>15</td>\n",
       "      <td>...</td>\n",
       "      <td>Southwest</td>\n",
       "      <td>Memphis Grizzlies</td>\n",
       "      <td>Grizzlies</td>\n",
       "      <td>1</td>\n",
       "      <td>ATL</td>\n",
       "      <td>Atlanta</td>\n",
       "      <td>East</td>\n",
       "      <td>Southeast</td>\n",
       "      <td>Atlanta Hawks</td>\n",
       "      <td>Hawks</td>\n",
       "    </tr>\n",
       "    <tr>\n",
       "      <th>2</th>\n",
       "      <td>24364</td>\n",
       "      <td>2010-10-27T00:00:00.000Z</td>\n",
       "      <td>106</td>\n",
       "      <td>4</td>\n",
       "      <td>False</td>\n",
       "      <td>2010</td>\n",
       "      <td>Final</td>\n",
       "      <td></td>\n",
       "      <td>95</td>\n",
       "      <td>21</td>\n",
       "      <td>...</td>\n",
       "      <td>Northwest</td>\n",
       "      <td>Oklahoma City Thunder</td>\n",
       "      <td>Thunder</td>\n",
       "      <td>5</td>\n",
       "      <td>CHI</td>\n",
       "      <td>Chicago</td>\n",
       "      <td>East</td>\n",
       "      <td>Central</td>\n",
       "      <td>Chicago Bulls</td>\n",
       "      <td>Bulls</td>\n",
       "    </tr>\n",
       "    <tr>\n",
       "      <th>3</th>\n",
       "      <td>24365</td>\n",
       "      <td>2010-10-27T00:00:00.000Z</td>\n",
       "      <td>122</td>\n",
       "      <td>4</td>\n",
       "      <td>False</td>\n",
       "      <td>2010</td>\n",
       "      <td>Final</td>\n",
       "      <td></td>\n",
       "      <td>109</td>\n",
       "      <td>27</td>\n",
       "      <td>...</td>\n",
       "      <td>Southwest</td>\n",
       "      <td>San Antonio Spurs</td>\n",
       "      <td>Spurs</td>\n",
       "      <td>12</td>\n",
       "      <td>IND</td>\n",
       "      <td>Indiana</td>\n",
       "      <td>East</td>\n",
       "      <td>Central</td>\n",
       "      <td>Indiana Pacers</td>\n",
       "      <td>Pacers</td>\n",
       "    </tr>\n",
       "    <tr>\n",
       "      <th>4</th>\n",
       "      <td>24366</td>\n",
       "      <td>2010-10-29T00:00:00.000Z</td>\n",
       "      <td>101</td>\n",
       "      <td>4</td>\n",
       "      <td>False</td>\n",
       "      <td>2010</td>\n",
       "      <td>Final</td>\n",
       "      <td></td>\n",
       "      <td>95</td>\n",
       "      <td>19</td>\n",
       "      <td>...</td>\n",
       "      <td>Southwest</td>\n",
       "      <td>New Orleans Pelicans</td>\n",
       "      <td>Pelicans</td>\n",
       "      <td>8</td>\n",
       "      <td>DEN</td>\n",
       "      <td>Denver</td>\n",
       "      <td>West</td>\n",
       "      <td>Northwest</td>\n",
       "      <td>Denver Nuggets</td>\n",
       "      <td>Nuggets</td>\n",
       "    </tr>\n",
       "  </tbody>\n",
       "</table>\n",
       "<p>5 rows × 23 columns</p>\n",
       "</div>"
      ],
      "text/plain": [
       "      id                      date  home_team_score  period  postseason  \\\n",
       "0  24362  2010-10-27T00:00:00.000Z               95       4       False   \n",
       "1  24363  2010-10-27T00:00:00.000Z              104       4       False   \n",
       "2  24364  2010-10-27T00:00:00.000Z              106       4       False   \n",
       "3  24365  2010-10-27T00:00:00.000Z              122       4       False   \n",
       "4  24366  2010-10-29T00:00:00.000Z              101       4       False   \n",
       "\n",
       "   season status time  visitor_team_score  home_team.id  ...  \\\n",
       "0    2010  Final                       87             6  ...   \n",
       "1    2010  Final                      119            15  ...   \n",
       "2    2010  Final                       95            21  ...   \n",
       "3    2010  Final                      109            27  ...   \n",
       "4    2010  Final                       95            19  ...   \n",
       "\n",
       "  home_team.division    home_team.full_name home_team.name visitor_team.id  \\\n",
       "0            Central    Cleveland Cavaliers      Cavaliers               2   \n",
       "1          Southwest      Memphis Grizzlies      Grizzlies               1   \n",
       "2          Northwest  Oklahoma City Thunder        Thunder               5   \n",
       "3          Southwest      San Antonio Spurs          Spurs              12   \n",
       "4          Southwest   New Orleans Pelicans       Pelicans               8   \n",
       "\n",
       "  visitor_team.abbreviation visitor_team.city  visitor_team.conference  \\\n",
       "0                       BOS            Boston                     East   \n",
       "1                       ATL           Atlanta                     East   \n",
       "2                       CHI           Chicago                     East   \n",
       "3                       IND           Indiana                     East   \n",
       "4                       DEN            Denver                     West   \n",
       "\n",
       "  visitor_team.division visitor_team.full_name visitor_team.name  \n",
       "0              Atlantic         Boston Celtics           Celtics  \n",
       "1             Southeast          Atlanta Hawks             Hawks  \n",
       "2               Central          Chicago Bulls             Bulls  \n",
       "3               Central         Indiana Pacers            Pacers  \n",
       "4             Northwest         Denver Nuggets           Nuggets  \n",
       "\n",
       "[5 rows x 23 columns]"
      ]
     },
     "execution_count": 223,
     "metadata": {},
     "output_type": "execute_result"
    }
   ],
   "source": [
    "df_games = pd.concat(\n",
    "    [pd.read_csv('data/games_2010_season.csv'),\n",
    "     pd.read_csv('data/games_2011_season.csv'),\n",
    "     pd.read_csv('data/games_2012_season.csv'),\n",
    "     pd.read_csv('data/games_2013_season.csv'),\n",
    "     pd.read_csv('data/games_2014_season.csv'),\n",
    "     pd.read_csv('data/games_2015_season.csv'),\n",
    "     pd.read_csv('data/games_2016_season.csv'),\n",
    "     pd.read_csv('data/games_2017_season.csv')]\n",
    ")\n",
    "\n",
    "df_games.head()"
   ]
  },
  {
   "cell_type": "code",
   "execution_count": 224,
   "metadata": {},
   "outputs": [],
   "source": [
    "seasons = [2013, 2014, 2015, 2016, 2017]\n",
    "\n",
    "df_stats = pd.concat(\n",
    "    [pd.read_csv('data/stats_2013_season.csv'),\n",
    "     pd.read_csv('data/stats_2014_season.csv'),\n",
    "     pd.read_csv('data/stats_2015_season.csv'),\n",
    "     pd.read_csv('data/stats_2016_season.csv'),\n",
    "     pd.read_csv('data/stats_2017_season.csv')]\n",
    ")"
   ]
  },
  {
   "cell_type": "code",
   "execution_count": 225,
   "metadata": {},
   "outputs": [
    {
     "data": {
      "text/html": [
       "<div>\n",
       "<style scoped>\n",
       "    .dataframe tbody tr th:only-of-type {\n",
       "        vertical-align: middle;\n",
       "    }\n",
       "\n",
       "    .dataframe tbody tr th {\n",
       "        vertical-align: top;\n",
       "    }\n",
       "\n",
       "    .dataframe thead th {\n",
       "        text-align: right;\n",
       "    }\n",
       "</style>\n",
       "<table border=\"1\" class=\"dataframe\">\n",
       "  <thead>\n",
       "    <tr style=\"text-align: right;\">\n",
       "      <th></th>\n",
       "      <th>id</th>\n",
       "      <th>date</th>\n",
       "      <th>home_team_score</th>\n",
       "      <th>period</th>\n",
       "      <th>postseason</th>\n",
       "      <th>season</th>\n",
       "      <th>status</th>\n",
       "      <th>time</th>\n",
       "      <th>visitor_team_score</th>\n",
       "      <th>home_team.id</th>\n",
       "      <th>...</th>\n",
       "      <th>home_team.division</th>\n",
       "      <th>home_team.full_name</th>\n",
       "      <th>home_team.name</th>\n",
       "      <th>visitor_team.id</th>\n",
       "      <th>visitor_team.abbreviation</th>\n",
       "      <th>visitor_team.city</th>\n",
       "      <th>visitor_team.conference</th>\n",
       "      <th>visitor_team.division</th>\n",
       "      <th>visitor_team.full_name</th>\n",
       "      <th>visitor_team.name</th>\n",
       "    </tr>\n",
       "  </thead>\n",
       "  <tbody>\n",
       "    <tr>\n",
       "      <th>0</th>\n",
       "      <td>24362</td>\n",
       "      <td>2010-10-27T00:00:00.000Z</td>\n",
       "      <td>95</td>\n",
       "      <td>4</td>\n",
       "      <td>False</td>\n",
       "      <td>2010</td>\n",
       "      <td>Final</td>\n",
       "      <td></td>\n",
       "      <td>87</td>\n",
       "      <td>6</td>\n",
       "      <td>...</td>\n",
       "      <td>Central</td>\n",
       "      <td>Cleveland Cavaliers</td>\n",
       "      <td>Cavaliers</td>\n",
       "      <td>2</td>\n",
       "      <td>BOS</td>\n",
       "      <td>Boston</td>\n",
       "      <td>East</td>\n",
       "      <td>Atlantic</td>\n",
       "      <td>Boston Celtics</td>\n",
       "      <td>Celtics</td>\n",
       "    </tr>\n",
       "    <tr>\n",
       "      <th>1</th>\n",
       "      <td>24363</td>\n",
       "      <td>2010-10-27T00:00:00.000Z</td>\n",
       "      <td>104</td>\n",
       "      <td>4</td>\n",
       "      <td>False</td>\n",
       "      <td>2010</td>\n",
       "      <td>Final</td>\n",
       "      <td></td>\n",
       "      <td>119</td>\n",
       "      <td>15</td>\n",
       "      <td>...</td>\n",
       "      <td>Southwest</td>\n",
       "      <td>Memphis Grizzlies</td>\n",
       "      <td>Grizzlies</td>\n",
       "      <td>1</td>\n",
       "      <td>ATL</td>\n",
       "      <td>Atlanta</td>\n",
       "      <td>East</td>\n",
       "      <td>Southeast</td>\n",
       "      <td>Atlanta Hawks</td>\n",
       "      <td>Hawks</td>\n",
       "    </tr>\n",
       "    <tr>\n",
       "      <th>2</th>\n",
       "      <td>24364</td>\n",
       "      <td>2010-10-27T00:00:00.000Z</td>\n",
       "      <td>106</td>\n",
       "      <td>4</td>\n",
       "      <td>False</td>\n",
       "      <td>2010</td>\n",
       "      <td>Final</td>\n",
       "      <td></td>\n",
       "      <td>95</td>\n",
       "      <td>21</td>\n",
       "      <td>...</td>\n",
       "      <td>Northwest</td>\n",
       "      <td>Oklahoma City Thunder</td>\n",
       "      <td>Thunder</td>\n",
       "      <td>5</td>\n",
       "      <td>CHI</td>\n",
       "      <td>Chicago</td>\n",
       "      <td>East</td>\n",
       "      <td>Central</td>\n",
       "      <td>Chicago Bulls</td>\n",
       "      <td>Bulls</td>\n",
       "    </tr>\n",
       "    <tr>\n",
       "      <th>3</th>\n",
       "      <td>24365</td>\n",
       "      <td>2010-10-27T00:00:00.000Z</td>\n",
       "      <td>122</td>\n",
       "      <td>4</td>\n",
       "      <td>False</td>\n",
       "      <td>2010</td>\n",
       "      <td>Final</td>\n",
       "      <td></td>\n",
       "      <td>109</td>\n",
       "      <td>27</td>\n",
       "      <td>...</td>\n",
       "      <td>Southwest</td>\n",
       "      <td>San Antonio Spurs</td>\n",
       "      <td>Spurs</td>\n",
       "      <td>12</td>\n",
       "      <td>IND</td>\n",
       "      <td>Indiana</td>\n",
       "      <td>East</td>\n",
       "      <td>Central</td>\n",
       "      <td>Indiana Pacers</td>\n",
       "      <td>Pacers</td>\n",
       "    </tr>\n",
       "    <tr>\n",
       "      <th>4</th>\n",
       "      <td>24366</td>\n",
       "      <td>2010-10-29T00:00:00.000Z</td>\n",
       "      <td>101</td>\n",
       "      <td>4</td>\n",
       "      <td>False</td>\n",
       "      <td>2010</td>\n",
       "      <td>Final</td>\n",
       "      <td></td>\n",
       "      <td>95</td>\n",
       "      <td>19</td>\n",
       "      <td>...</td>\n",
       "      <td>Southwest</td>\n",
       "      <td>New Orleans Pelicans</td>\n",
       "      <td>Pelicans</td>\n",
       "      <td>8</td>\n",
       "      <td>DEN</td>\n",
       "      <td>Denver</td>\n",
       "      <td>West</td>\n",
       "      <td>Northwest</td>\n",
       "      <td>Denver Nuggets</td>\n",
       "      <td>Nuggets</td>\n",
       "    </tr>\n",
       "  </tbody>\n",
       "</table>\n",
       "<p>5 rows × 23 columns</p>\n",
       "</div>"
      ],
      "text/plain": [
       "      id                      date  home_team_score  period  postseason  \\\n",
       "0  24362  2010-10-27T00:00:00.000Z               95       4       False   \n",
       "1  24363  2010-10-27T00:00:00.000Z              104       4       False   \n",
       "2  24364  2010-10-27T00:00:00.000Z              106       4       False   \n",
       "3  24365  2010-10-27T00:00:00.000Z              122       4       False   \n",
       "4  24366  2010-10-29T00:00:00.000Z              101       4       False   \n",
       "\n",
       "   season status time  visitor_team_score  home_team.id  ...  \\\n",
       "0    2010  Final                       87             6  ...   \n",
       "1    2010  Final                      119            15  ...   \n",
       "2    2010  Final                       95            21  ...   \n",
       "3    2010  Final                      109            27  ...   \n",
       "4    2010  Final                       95            19  ...   \n",
       "\n",
       "  home_team.division    home_team.full_name home_team.name visitor_team.id  \\\n",
       "0            Central    Cleveland Cavaliers      Cavaliers               2   \n",
       "1          Southwest      Memphis Grizzlies      Grizzlies               1   \n",
       "2          Northwest  Oklahoma City Thunder        Thunder               5   \n",
       "3          Southwest      San Antonio Spurs          Spurs              12   \n",
       "4          Southwest   New Orleans Pelicans       Pelicans               8   \n",
       "\n",
       "  visitor_team.abbreviation visitor_team.city  visitor_team.conference  \\\n",
       "0                       BOS            Boston                     East   \n",
       "1                       ATL           Atlanta                     East   \n",
       "2                       CHI           Chicago                     East   \n",
       "3                       IND           Indiana                     East   \n",
       "4                       DEN            Denver                     West   \n",
       "\n",
       "  visitor_team.division visitor_team.full_name visitor_team.name  \n",
       "0              Atlantic         Boston Celtics           Celtics  \n",
       "1             Southeast          Atlanta Hawks             Hawks  \n",
       "2               Central          Chicago Bulls             Bulls  \n",
       "3               Central         Indiana Pacers            Pacers  \n",
       "4             Northwest         Denver Nuggets           Nuggets  \n",
       "\n",
       "[5 rows x 23 columns]"
      ]
     },
     "execution_count": 225,
     "metadata": {},
     "output_type": "execute_result"
    }
   ],
   "source": [
    "df_games.head()"
   ]
  },
  {
   "cell_type": "code",
   "execution_count": 226,
   "metadata": {},
   "outputs": [
    {
     "data": {
      "text/html": [
       "<div>\n",
       "<style scoped>\n",
       "    .dataframe tbody tr th:only-of-type {\n",
       "        vertical-align: middle;\n",
       "    }\n",
       "\n",
       "    .dataframe tbody tr th {\n",
       "        vertical-align: top;\n",
       "    }\n",
       "\n",
       "    .dataframe thead th {\n",
       "        text-align: right;\n",
       "    }\n",
       "</style>\n",
       "<table border=\"1\" class=\"dataframe\">\n",
       "  <thead>\n",
       "    <tr style=\"text-align: right;\">\n",
       "      <th></th>\n",
       "      <th>id</th>\n",
       "      <th>ast</th>\n",
       "      <th>blk</th>\n",
       "      <th>dreb</th>\n",
       "      <th>fg3_pct</th>\n",
       "      <th>fg3a</th>\n",
       "      <th>fg3m</th>\n",
       "      <th>fg_pct</th>\n",
       "      <th>fga</th>\n",
       "      <th>fgm</th>\n",
       "      <th>...</th>\n",
       "      <th>player.position</th>\n",
       "      <th>player.team_id</th>\n",
       "      <th>player.weight_pounds</th>\n",
       "      <th>team.id</th>\n",
       "      <th>team.abbreviation</th>\n",
       "      <th>team.city</th>\n",
       "      <th>team.conference</th>\n",
       "      <th>team.division</th>\n",
       "      <th>team.full_name</th>\n",
       "      <th>team.name</th>\n",
       "    </tr>\n",
       "  </thead>\n",
       "  <tbody>\n",
       "    <tr>\n",
       "      <th>0</th>\n",
       "      <td>688007</td>\n",
       "      <td>0.0</td>\n",
       "      <td>0.0</td>\n",
       "      <td>0.0</td>\n",
       "      <td>0.0</td>\n",
       "      <td>0.0</td>\n",
       "      <td>0.0</td>\n",
       "      <td>0.0</td>\n",
       "      <td>1.0</td>\n",
       "      <td>0.0</td>\n",
       "      <td>...</td>\n",
       "      <td>F</td>\n",
       "      <td>3</td>\n",
       "      <td>NaN</td>\n",
       "      <td>20</td>\n",
       "      <td>NYK</td>\n",
       "      <td>New York</td>\n",
       "      <td>East</td>\n",
       "      <td>Atlantic</td>\n",
       "      <td>New York Knicks</td>\n",
       "      <td>Knicks</td>\n",
       "    </tr>\n",
       "    <tr>\n",
       "      <th>1</th>\n",
       "      <td>688004</td>\n",
       "      <td>3.0</td>\n",
       "      <td>1.0</td>\n",
       "      <td>7.0</td>\n",
       "      <td>0.0</td>\n",
       "      <td>0.0</td>\n",
       "      <td>0.0</td>\n",
       "      <td>0.5</td>\n",
       "      <td>8.0</td>\n",
       "      <td>4.0</td>\n",
       "      <td>...</td>\n",
       "      <td>C</td>\n",
       "      <td>11</td>\n",
       "      <td>240.0</td>\n",
       "      <td>20</td>\n",
       "      <td>NYK</td>\n",
       "      <td>New York</td>\n",
       "      <td>East</td>\n",
       "      <td>Atlantic</td>\n",
       "      <td>New York Knicks</td>\n",
       "      <td>Knicks</td>\n",
       "    </tr>\n",
       "    <tr>\n",
       "      <th>2</th>\n",
       "      <td>688008</td>\n",
       "      <td>0.0</td>\n",
       "      <td>0.0</td>\n",
       "      <td>2.0</td>\n",
       "      <td>0.0</td>\n",
       "      <td>0.0</td>\n",
       "      <td>0.0</td>\n",
       "      <td>0.5</td>\n",
       "      <td>6.0</td>\n",
       "      <td>3.0</td>\n",
       "      <td>...</td>\n",
       "      <td>NaN</td>\n",
       "      <td>24</td>\n",
       "      <td>NaN</td>\n",
       "      <td>20</td>\n",
       "      <td>NYK</td>\n",
       "      <td>New York</td>\n",
       "      <td>East</td>\n",
       "      <td>Atlantic</td>\n",
       "      <td>New York Knicks</td>\n",
       "      <td>Knicks</td>\n",
       "    </tr>\n",
       "    <tr>\n",
       "      <th>3</th>\n",
       "      <td>688025</td>\n",
       "      <td>0.0</td>\n",
       "      <td>0.0</td>\n",
       "      <td>0.0</td>\n",
       "      <td>0.0</td>\n",
       "      <td>1.0</td>\n",
       "      <td>0.0</td>\n",
       "      <td>0.0</td>\n",
       "      <td>3.0</td>\n",
       "      <td>0.0</td>\n",
       "      <td>...</td>\n",
       "      <td>NaN</td>\n",
       "      <td>16</td>\n",
       "      <td>NaN</td>\n",
       "      <td>12</td>\n",
       "      <td>IND</td>\n",
       "      <td>Indiana</td>\n",
       "      <td>East</td>\n",
       "      <td>Central</td>\n",
       "      <td>Indiana Pacers</td>\n",
       "      <td>Pacers</td>\n",
       "    </tr>\n",
       "    <tr>\n",
       "      <th>4</th>\n",
       "      <td>688022</td>\n",
       "      <td>1.0</td>\n",
       "      <td>0.0</td>\n",
       "      <td>7.0</td>\n",
       "      <td>0.0</td>\n",
       "      <td>1.0</td>\n",
       "      <td>0.0</td>\n",
       "      <td>0.5</td>\n",
       "      <td>8.0</td>\n",
       "      <td>4.0</td>\n",
       "      <td>...</td>\n",
       "      <td>NaN</td>\n",
       "      <td>11</td>\n",
       "      <td>NaN</td>\n",
       "      <td>12</td>\n",
       "      <td>IND</td>\n",
       "      <td>Indiana</td>\n",
       "      <td>East</td>\n",
       "      <td>Central</td>\n",
       "      <td>Indiana Pacers</td>\n",
       "      <td>Pacers</td>\n",
       "    </tr>\n",
       "  </tbody>\n",
       "</table>\n",
       "<p>5 rows × 46 columns</p>\n",
       "</div>"
      ],
      "text/plain": [
       "       id  ast  blk  dreb  fg3_pct  fg3a  fg3m  fg_pct  fga  fgm  ...  \\\n",
       "0  688007  0.0  0.0   0.0      0.0   0.0   0.0     0.0  1.0  0.0  ...   \n",
       "1  688004  3.0  1.0   7.0      0.0   0.0   0.0     0.5  8.0  4.0  ...   \n",
       "2  688008  0.0  0.0   2.0      0.0   0.0   0.0     0.5  6.0  3.0  ...   \n",
       "3  688025  0.0  0.0   0.0      0.0   1.0   0.0     0.0  3.0  0.0  ...   \n",
       "4  688022  1.0  0.0   7.0      0.0   1.0   0.0     0.5  8.0  4.0  ...   \n",
       "\n",
       "   player.position  player.team_id  player.weight_pounds team.id  \\\n",
       "0                F               3                   NaN      20   \n",
       "1                C              11                 240.0      20   \n",
       "2              NaN              24                   NaN      20   \n",
       "3              NaN              16                   NaN      12   \n",
       "4              NaN              11                   NaN      12   \n",
       "\n",
       "   team.abbreviation  team.city  team.conference  team.division  \\\n",
       "0                NYK   New York             East       Atlantic   \n",
       "1                NYK   New York             East       Atlantic   \n",
       "2                NYK   New York             East       Atlantic   \n",
       "3                IND    Indiana             East        Central   \n",
       "4                IND    Indiana             East        Central   \n",
       "\n",
       "    team.full_name  team.name  \n",
       "0  New York Knicks     Knicks  \n",
       "1  New York Knicks     Knicks  \n",
       "2  New York Knicks     Knicks  \n",
       "3   Indiana Pacers     Pacers  \n",
       "4   Indiana Pacers     Pacers  \n",
       "\n",
       "[5 rows x 46 columns]"
      ]
     },
     "execution_count": 226,
     "metadata": {},
     "output_type": "execute_result"
    }
   ],
   "source": [
    "df_stats.head()"
   ]
  },
  {
   "cell_type": "code",
   "execution_count": 227,
   "metadata": {},
   "outputs": [
    {
     "data": {
      "text/plain": [
       "Index(['id', 'ast', 'blk', 'dreb', 'fg3_pct', 'fg3a', 'fg3m', 'fg_pct', 'fga',\n",
       "       'fgm', 'ft_pct', 'fta', 'ftm', 'min', 'oreb', 'pf', 'pts', 'reb', 'stl',\n",
       "       'turnover', 'game.id', 'game.date', 'game.home_team_id',\n",
       "       'game.home_team_score', 'game.period', 'game.postseason', 'game.season',\n",
       "       'game.status', 'game.time', 'game.visitor_team_id',\n",
       "       'game.visitor_team_score', 'player.id', 'player.first_name',\n",
       "       'player.height_feet', 'player.height_inches', 'player.last_name',\n",
       "       'player.position', 'player.team_id', 'player.weight_pounds', 'team.id',\n",
       "       'team.abbreviation', 'team.city', 'team.conference', 'team.division',\n",
       "       'team.full_name', 'team.name'],\n",
       "      dtype='object')"
      ]
     },
     "execution_count": 227,
     "metadata": {},
     "output_type": "execute_result"
    }
   ],
   "source": [
    "df_stats.columns"
   ]
  },
  {
   "cell_type": "code",
   "execution_count": 228,
   "metadata": {},
   "outputs": [
    {
     "data": {
      "text/plain": [
       "Index(['id', 'date', 'home_team_score', 'period', 'postseason', 'season',\n",
       "       'status', 'time', 'visitor_team_score', 'home_team.id',\n",
       "       'home_team.abbreviation', 'home_team.city', 'home_team.conference',\n",
       "       'home_team.division', 'home_team.full_name', 'home_team.name',\n",
       "       'visitor_team.id', 'visitor_team.abbreviation', 'visitor_team.city',\n",
       "       'visitor_team.conference', 'visitor_team.division',\n",
       "       'visitor_team.full_name', 'visitor_team.name'],\n",
       "      dtype='object')"
      ]
     },
     "execution_count": 228,
     "metadata": {},
     "output_type": "execute_result"
    }
   ],
   "source": [
    "df_games.columns"
   ]
  },
  {
   "cell_type": "code",
   "execution_count": null,
   "metadata": {},
   "outputs": [],
   "source": []
  },
  {
   "cell_type": "markdown",
   "metadata": {},
   "source": [
    "# Exploratory Data Analysis"
   ]
  },
  {
   "cell_type": "code",
   "execution_count": 229,
   "metadata": {},
   "outputs": [],
   "source": [
    "df = df_games.copy()"
   ]
  },
  {
   "cell_type": "code",
   "execution_count": 230,
   "metadata": {},
   "outputs": [],
   "source": [
    "df['home_team_diff'] = df['home_team_score'] - df['visitor_team_score']\n",
    "df['visitor_team_diff'] = df['visitor_team_score'] - df['home_team_score']"
   ]
  },
  {
   "cell_type": "code",
   "execution_count": 231,
   "metadata": {},
   "outputs": [],
   "source": [
    "df['winner'] = np.where(df['home_team_score'] > df['visitor_team_score'], 'Home', 'Visitor')"
   ]
  },
  {
   "cell_type": "code",
   "execution_count": 232,
   "metadata": {},
   "outputs": [
    {
     "data": {
      "text/html": [
       "<div>\n",
       "<style scoped>\n",
       "    .dataframe tbody tr th:only-of-type {\n",
       "        vertical-align: middle;\n",
       "    }\n",
       "\n",
       "    .dataframe tbody tr th {\n",
       "        vertical-align: top;\n",
       "    }\n",
       "\n",
       "    .dataframe thead th {\n",
       "        text-align: right;\n",
       "    }\n",
       "</style>\n",
       "<table border=\"1\" class=\"dataframe\">\n",
       "  <thead>\n",
       "    <tr style=\"text-align: right;\">\n",
       "      <th></th>\n",
       "      <th>id</th>\n",
       "      <th>date</th>\n",
       "      <th>home_team_score</th>\n",
       "      <th>period</th>\n",
       "      <th>postseason</th>\n",
       "      <th>season</th>\n",
       "      <th>status</th>\n",
       "      <th>time</th>\n",
       "      <th>visitor_team_score</th>\n",
       "      <th>home_team.id</th>\n",
       "      <th>...</th>\n",
       "      <th>visitor_team.id</th>\n",
       "      <th>visitor_team.abbreviation</th>\n",
       "      <th>visitor_team.city</th>\n",
       "      <th>visitor_team.conference</th>\n",
       "      <th>visitor_team.division</th>\n",
       "      <th>visitor_team.full_name</th>\n",
       "      <th>visitor_team.name</th>\n",
       "      <th>home_team_diff</th>\n",
       "      <th>visitor_team_diff</th>\n",
       "      <th>winner</th>\n",
       "    </tr>\n",
       "  </thead>\n",
       "  <tbody>\n",
       "    <tr>\n",
       "      <th>0</th>\n",
       "      <td>24362</td>\n",
       "      <td>2010-10-27T00:00:00.000Z</td>\n",
       "      <td>95</td>\n",
       "      <td>4</td>\n",
       "      <td>False</td>\n",
       "      <td>2010</td>\n",
       "      <td>Final</td>\n",
       "      <td></td>\n",
       "      <td>87</td>\n",
       "      <td>6</td>\n",
       "      <td>...</td>\n",
       "      <td>2</td>\n",
       "      <td>BOS</td>\n",
       "      <td>Boston</td>\n",
       "      <td>East</td>\n",
       "      <td>Atlantic</td>\n",
       "      <td>Boston Celtics</td>\n",
       "      <td>Celtics</td>\n",
       "      <td>8</td>\n",
       "      <td>-8</td>\n",
       "      <td>Home</td>\n",
       "    </tr>\n",
       "    <tr>\n",
       "      <th>1</th>\n",
       "      <td>24363</td>\n",
       "      <td>2010-10-27T00:00:00.000Z</td>\n",
       "      <td>104</td>\n",
       "      <td>4</td>\n",
       "      <td>False</td>\n",
       "      <td>2010</td>\n",
       "      <td>Final</td>\n",
       "      <td></td>\n",
       "      <td>119</td>\n",
       "      <td>15</td>\n",
       "      <td>...</td>\n",
       "      <td>1</td>\n",
       "      <td>ATL</td>\n",
       "      <td>Atlanta</td>\n",
       "      <td>East</td>\n",
       "      <td>Southeast</td>\n",
       "      <td>Atlanta Hawks</td>\n",
       "      <td>Hawks</td>\n",
       "      <td>-15</td>\n",
       "      <td>15</td>\n",
       "      <td>Visitor</td>\n",
       "    </tr>\n",
       "    <tr>\n",
       "      <th>2</th>\n",
       "      <td>24364</td>\n",
       "      <td>2010-10-27T00:00:00.000Z</td>\n",
       "      <td>106</td>\n",
       "      <td>4</td>\n",
       "      <td>False</td>\n",
       "      <td>2010</td>\n",
       "      <td>Final</td>\n",
       "      <td></td>\n",
       "      <td>95</td>\n",
       "      <td>21</td>\n",
       "      <td>...</td>\n",
       "      <td>5</td>\n",
       "      <td>CHI</td>\n",
       "      <td>Chicago</td>\n",
       "      <td>East</td>\n",
       "      <td>Central</td>\n",
       "      <td>Chicago Bulls</td>\n",
       "      <td>Bulls</td>\n",
       "      <td>11</td>\n",
       "      <td>-11</td>\n",
       "      <td>Home</td>\n",
       "    </tr>\n",
       "    <tr>\n",
       "      <th>3</th>\n",
       "      <td>24365</td>\n",
       "      <td>2010-10-27T00:00:00.000Z</td>\n",
       "      <td>122</td>\n",
       "      <td>4</td>\n",
       "      <td>False</td>\n",
       "      <td>2010</td>\n",
       "      <td>Final</td>\n",
       "      <td></td>\n",
       "      <td>109</td>\n",
       "      <td>27</td>\n",
       "      <td>...</td>\n",
       "      <td>12</td>\n",
       "      <td>IND</td>\n",
       "      <td>Indiana</td>\n",
       "      <td>East</td>\n",
       "      <td>Central</td>\n",
       "      <td>Indiana Pacers</td>\n",
       "      <td>Pacers</td>\n",
       "      <td>13</td>\n",
       "      <td>-13</td>\n",
       "      <td>Home</td>\n",
       "    </tr>\n",
       "    <tr>\n",
       "      <th>4</th>\n",
       "      <td>24366</td>\n",
       "      <td>2010-10-29T00:00:00.000Z</td>\n",
       "      <td>101</td>\n",
       "      <td>4</td>\n",
       "      <td>False</td>\n",
       "      <td>2010</td>\n",
       "      <td>Final</td>\n",
       "      <td></td>\n",
       "      <td>95</td>\n",
       "      <td>19</td>\n",
       "      <td>...</td>\n",
       "      <td>8</td>\n",
       "      <td>DEN</td>\n",
       "      <td>Denver</td>\n",
       "      <td>West</td>\n",
       "      <td>Northwest</td>\n",
       "      <td>Denver Nuggets</td>\n",
       "      <td>Nuggets</td>\n",
       "      <td>6</td>\n",
       "      <td>-6</td>\n",
       "      <td>Home</td>\n",
       "    </tr>\n",
       "  </tbody>\n",
       "</table>\n",
       "<p>5 rows × 26 columns</p>\n",
       "</div>"
      ],
      "text/plain": [
       "      id                      date  home_team_score  period  postseason  \\\n",
       "0  24362  2010-10-27T00:00:00.000Z               95       4       False   \n",
       "1  24363  2010-10-27T00:00:00.000Z              104       4       False   \n",
       "2  24364  2010-10-27T00:00:00.000Z              106       4       False   \n",
       "3  24365  2010-10-27T00:00:00.000Z              122       4       False   \n",
       "4  24366  2010-10-29T00:00:00.000Z              101       4       False   \n",
       "\n",
       "   season status time  visitor_team_score  home_team.id  ... visitor_team.id  \\\n",
       "0    2010  Final                       87             6  ...               2   \n",
       "1    2010  Final                      119            15  ...               1   \n",
       "2    2010  Final                       95            21  ...               5   \n",
       "3    2010  Final                      109            27  ...              12   \n",
       "4    2010  Final                       95            19  ...               8   \n",
       "\n",
       "  visitor_team.abbreviation visitor_team.city visitor_team.conference  \\\n",
       "0                       BOS            Boston                    East   \n",
       "1                       ATL           Atlanta                    East   \n",
       "2                       CHI           Chicago                    East   \n",
       "3                       IND           Indiana                    East   \n",
       "4                       DEN            Denver                    West   \n",
       "\n",
       "  visitor_team.division visitor_team.full_name  visitor_team.name  \\\n",
       "0              Atlantic         Boston Celtics            Celtics   \n",
       "1             Southeast          Atlanta Hawks              Hawks   \n",
       "2               Central          Chicago Bulls              Bulls   \n",
       "3               Central         Indiana Pacers             Pacers   \n",
       "4             Northwest         Denver Nuggets            Nuggets   \n",
       "\n",
       "  home_team_diff visitor_team_diff   winner  \n",
       "0              8                -8     Home  \n",
       "1            -15                15  Visitor  \n",
       "2             11               -11     Home  \n",
       "3             13               -13     Home  \n",
       "4              6                -6     Home  \n",
       "\n",
       "[5 rows x 26 columns]"
      ]
     },
     "execution_count": 232,
     "metadata": {},
     "output_type": "execute_result"
    }
   ],
   "source": [
    "df.head()"
   ]
  },
  {
   "cell_type": "code",
   "execution_count": 233,
   "metadata": {},
   "outputs": [
    {
     "data": {
      "text/html": [
       "<div>\n",
       "<style scoped>\n",
       "    .dataframe tbody tr th:only-of-type {\n",
       "        vertical-align: middle;\n",
       "    }\n",
       "\n",
       "    .dataframe tbody tr th {\n",
       "        vertical-align: top;\n",
       "    }\n",
       "\n",
       "    .dataframe thead th {\n",
       "        text-align: right;\n",
       "    }\n",
       "</style>\n",
       "<table border=\"1\" class=\"dataframe\">\n",
       "  <thead>\n",
       "    <tr style=\"text-align: right;\">\n",
       "      <th></th>\n",
       "      <th>home avg score</th>\n",
       "      <th>home avg opponent score</th>\n",
       "    </tr>\n",
       "    <tr>\n",
       "      <th>team_season</th>\n",
       "      <th></th>\n",
       "      <th></th>\n",
       "    </tr>\n",
       "  </thead>\n",
       "  <tbody>\n",
       "    <tr>\n",
       "      <th>ATL_2010</th>\n",
       "      <td>93.851064</td>\n",
       "      <td>94.914894</td>\n",
       "    </tr>\n",
       "    <tr>\n",
       "      <th>ATL_2011</th>\n",
       "      <td>97.777778</td>\n",
       "      <td>93.222222</td>\n",
       "    </tr>\n",
       "    <tr>\n",
       "      <th>ATL_2012</th>\n",
       "      <td>98.636364</td>\n",
       "      <td>97.090909</td>\n",
       "    </tr>\n",
       "    <tr>\n",
       "      <th>ATL_2013</th>\n",
       "      <td>100.204545</td>\n",
       "      <td>98.477273</td>\n",
       "    </tr>\n",
       "    <tr>\n",
       "      <th>ATL_2014</th>\n",
       "      <td>102.122449</td>\n",
       "      <td>94.714286</td>\n",
       "    </tr>\n",
       "  </tbody>\n",
       "</table>\n",
       "</div>"
      ],
      "text/plain": [
       "             home avg score  home avg opponent score\n",
       "team_season                                         \n",
       "ATL_2010          93.851064                94.914894\n",
       "ATL_2011          97.777778                93.222222\n",
       "ATL_2012          98.636364                97.090909\n",
       "ATL_2013         100.204545                98.477273\n",
       "ATL_2014         102.122449                94.714286"
      ]
     },
     "execution_count": 233,
     "metadata": {},
     "output_type": "execute_result"
    }
   ],
   "source": [
    "df_home = df_games.copy()\n",
    "df_home['team_season'] = df_home['home_team.abbreviation'] + \"_\" + df_home['season'].astype(str)\n",
    "df_home = df_home[['team_season','home_team_score','visitor_team_score']]\n",
    "df_home = df_home.groupby('team_season')[['home_team_score','visitor_team_score']].mean()\n",
    "df_home = df_home.rename(columns={\"home_team_score\": \"home avg score\", \"visitor_team_score\":\"home avg opponent score\"})\n",
    "df_home.head()"
   ]
  },
  {
   "cell_type": "code",
   "execution_count": 234,
   "metadata": {},
   "outputs": [
    {
     "data": {
      "text/html": [
       "<div>\n",
       "<style scoped>\n",
       "    .dataframe tbody tr th:only-of-type {\n",
       "        vertical-align: middle;\n",
       "    }\n",
       "\n",
       "    .dataframe tbody tr th {\n",
       "        vertical-align: top;\n",
       "    }\n",
       "\n",
       "    .dataframe thead th {\n",
       "        text-align: right;\n",
       "    }\n",
       "</style>\n",
       "<table border=\"1\" class=\"dataframe\">\n",
       "  <thead>\n",
       "    <tr style=\"text-align: right;\">\n",
       "      <th></th>\n",
       "      <th>away avg score</th>\n",
       "      <th>away avg opponent score</th>\n",
       "    </tr>\n",
       "    <tr>\n",
       "      <th>team_season</th>\n",
       "      <th></th>\n",
       "      <th></th>\n",
       "    </tr>\n",
       "  </thead>\n",
       "  <tbody>\n",
       "    <tr>\n",
       "      <th>ATL_2010</th>\n",
       "      <td>93.914894</td>\n",
       "      <td>95.404255</td>\n",
       "    </tr>\n",
       "    <tr>\n",
       "      <th>ATL_2011</th>\n",
       "      <td>93.000000</td>\n",
       "      <td>92.027778</td>\n",
       "    </tr>\n",
       "    <tr>\n",
       "      <th>ATL_2012</th>\n",
       "      <td>96.090909</td>\n",
       "      <td>97.590909</td>\n",
       "    </tr>\n",
       "    <tr>\n",
       "      <th>ATL_2013</th>\n",
       "      <td>100.444444</td>\n",
       "      <td>103.155556</td>\n",
       "    </tr>\n",
       "    <tr>\n",
       "      <th>ATL_2014</th>\n",
       "      <td>101.489796</td>\n",
       "      <td>99.877551</td>\n",
       "    </tr>\n",
       "  </tbody>\n",
       "</table>\n",
       "</div>"
      ],
      "text/plain": [
       "             away avg score  away avg opponent score\n",
       "team_season                                         \n",
       "ATL_2010          93.914894                95.404255\n",
       "ATL_2011          93.000000                92.027778\n",
       "ATL_2012          96.090909                97.590909\n",
       "ATL_2013         100.444444               103.155556\n",
       "ATL_2014         101.489796                99.877551"
      ]
     },
     "execution_count": 234,
     "metadata": {},
     "output_type": "execute_result"
    }
   ],
   "source": [
    "df_away = df_games.copy()\n",
    "df_away['team_season'] = df_away['visitor_team.abbreviation'] + \"_\" + df_away['season'].astype(str)\n",
    "df_away = df_away[['team_season','visitor_team_score','home_team_score']]\n",
    "df_away = df_away.groupby(['team_season'])[['visitor_team_score','home_team_score']].mean()\n",
    "df_away = df_away.rename(columns={\"visitor_team_score\": \"away avg score\", \"home_team_score\":\"away avg opponent score\"})\n",
    "df_away.head()"
   ]
  },
  {
   "cell_type": "code",
   "execution_count": 235,
   "metadata": {},
   "outputs": [],
   "source": [
    "df_scores = pd.merge(df_home, df_away, on=['team_season']).reset_index()\n",
    "df_scores['avg score'] = (df_scores['home avg score'] + df_scores['away avg score']) / 2\n",
    "df_scores['avg opp score'] = (df_scores['home avg opponent score'] + df_scores['away avg opponent score']) / 2\n",
    "df_scores['avg home diff'] = df_scores['home avg score'] - df_scores['home avg opponent score']\n",
    "df_scores['avg away diff'] = df_scores['away avg score'] - df_scores['away avg opponent score']\n",
    "df_scores['avg diff'] = df_scores['avg score'] - df_scores['avg opp score']\n",
    "df_scores['diff differential'] = df_scores['avg home diff'] - df_scores['avg away diff']\n"
   ]
  },
  {
   "cell_type": "code",
   "execution_count": 236,
   "metadata": {},
   "outputs": [
    {
     "data": {
      "text/html": [
       "<div>\n",
       "<style scoped>\n",
       "    .dataframe tbody tr th:only-of-type {\n",
       "        vertical-align: middle;\n",
       "    }\n",
       "\n",
       "    .dataframe tbody tr th {\n",
       "        vertical-align: top;\n",
       "    }\n",
       "\n",
       "    .dataframe thead th {\n",
       "        text-align: right;\n",
       "    }\n",
       "</style>\n",
       "<table border=\"1\" class=\"dataframe\">\n",
       "  <thead>\n",
       "    <tr style=\"text-align: right;\">\n",
       "      <th></th>\n",
       "      <th>team_season</th>\n",
       "      <th>home avg score</th>\n",
       "      <th>home avg opponent score</th>\n",
       "      <th>away avg score</th>\n",
       "      <th>away avg opponent score</th>\n",
       "      <th>avg score</th>\n",
       "      <th>avg opp score</th>\n",
       "      <th>avg home diff</th>\n",
       "      <th>avg away diff</th>\n",
       "      <th>avg diff</th>\n",
       "      <th>diff differential</th>\n",
       "    </tr>\n",
       "  </thead>\n",
       "  <tbody>\n",
       "    <tr>\n",
       "      <th>0</th>\n",
       "      <td>ATL_2010</td>\n",
       "      <td>93.851064</td>\n",
       "      <td>94.914894</td>\n",
       "      <td>93.914894</td>\n",
       "      <td>95.404255</td>\n",
       "      <td>93.882979</td>\n",
       "      <td>95.159574</td>\n",
       "      <td>-1.063830</td>\n",
       "      <td>-1.489362</td>\n",
       "      <td>-1.276596</td>\n",
       "      <td>0.425532</td>\n",
       "    </tr>\n",
       "    <tr>\n",
       "      <th>1</th>\n",
       "      <td>ATL_2011</td>\n",
       "      <td>97.777778</td>\n",
       "      <td>93.222222</td>\n",
       "      <td>93.000000</td>\n",
       "      <td>92.027778</td>\n",
       "      <td>95.388889</td>\n",
       "      <td>92.625000</td>\n",
       "      <td>4.555556</td>\n",
       "      <td>0.972222</td>\n",
       "      <td>2.763889</td>\n",
       "      <td>3.583333</td>\n",
       "    </tr>\n",
       "    <tr>\n",
       "      <th>2</th>\n",
       "      <td>ATL_2012</td>\n",
       "      <td>98.636364</td>\n",
       "      <td>97.090909</td>\n",
       "      <td>96.090909</td>\n",
       "      <td>97.590909</td>\n",
       "      <td>97.363636</td>\n",
       "      <td>97.340909</td>\n",
       "      <td>1.545455</td>\n",
       "      <td>-1.500000</td>\n",
       "      <td>0.022727</td>\n",
       "      <td>3.045455</td>\n",
       "    </tr>\n",
       "    <tr>\n",
       "      <th>3</th>\n",
       "      <td>ATL_2013</td>\n",
       "      <td>100.204545</td>\n",
       "      <td>98.477273</td>\n",
       "      <td>100.444444</td>\n",
       "      <td>103.155556</td>\n",
       "      <td>100.324495</td>\n",
       "      <td>100.816414</td>\n",
       "      <td>1.727273</td>\n",
       "      <td>-2.711111</td>\n",
       "      <td>-0.491919</td>\n",
       "      <td>4.438384</td>\n",
       "    </tr>\n",
       "    <tr>\n",
       "      <th>4</th>\n",
       "      <td>ATL_2014</td>\n",
       "      <td>102.122449</td>\n",
       "      <td>94.714286</td>\n",
       "      <td>101.489796</td>\n",
       "      <td>99.877551</td>\n",
       "      <td>101.806122</td>\n",
       "      <td>97.295918</td>\n",
       "      <td>7.408163</td>\n",
       "      <td>1.612245</td>\n",
       "      <td>4.510204</td>\n",
       "      <td>5.795918</td>\n",
       "    </tr>\n",
       "    <tr>\n",
       "      <th>...</th>\n",
       "      <td>...</td>\n",
       "      <td>...</td>\n",
       "      <td>...</td>\n",
       "      <td>...</td>\n",
       "      <td>...</td>\n",
       "      <td>...</td>\n",
       "      <td>...</td>\n",
       "      <td>...</td>\n",
       "      <td>...</td>\n",
       "      <td>...</td>\n",
       "      <td>...</td>\n",
       "    </tr>\n",
       "    <tr>\n",
       "      <th>235</th>\n",
       "      <td>WAS_2013</td>\n",
       "      <td>98.782609</td>\n",
       "      <td>97.652174</td>\n",
       "      <td>100.085106</td>\n",
       "      <td>98.765957</td>\n",
       "      <td>99.433858</td>\n",
       "      <td>98.209066</td>\n",
       "      <td>1.130435</td>\n",
       "      <td>1.319149</td>\n",
       "      <td>1.224792</td>\n",
       "      <td>-0.188714</td>\n",
       "    </tr>\n",
       "    <tr>\n",
       "      <th>236</th>\n",
       "      <td>WAS_2014</td>\n",
       "      <td>102.630435</td>\n",
       "      <td>96.565217</td>\n",
       "      <td>95.000000</td>\n",
       "      <td>98.934783</td>\n",
       "      <td>98.815217</td>\n",
       "      <td>97.750000</td>\n",
       "      <td>6.065217</td>\n",
       "      <td>-3.934783</td>\n",
       "      <td>1.065217</td>\n",
       "      <td>10.000000</td>\n",
       "    </tr>\n",
       "    <tr>\n",
       "      <th>237</th>\n",
       "      <td>WAS_2015</td>\n",
       "      <td>106.024390</td>\n",
       "      <td>103.487805</td>\n",
       "      <td>102.121951</td>\n",
       "      <td>105.658537</td>\n",
       "      <td>104.073171</td>\n",
       "      <td>104.573171</td>\n",
       "      <td>2.536585</td>\n",
       "      <td>-3.536585</td>\n",
       "      <td>-0.500000</td>\n",
       "      <td>6.073171</td>\n",
       "    </tr>\n",
       "    <tr>\n",
       "      <th>238</th>\n",
       "      <td>WAS_2016</td>\n",
       "      <td>110.255319</td>\n",
       "      <td>104.553191</td>\n",
       "      <td>107.833333</td>\n",
       "      <td>110.333333</td>\n",
       "      <td>109.044326</td>\n",
       "      <td>107.443262</td>\n",
       "      <td>5.702128</td>\n",
       "      <td>-2.500000</td>\n",
       "      <td>1.601064</td>\n",
       "      <td>8.202128</td>\n",
       "    </tr>\n",
       "    <tr>\n",
       "      <th>239</th>\n",
       "      <td>WAS_2017</td>\n",
       "      <td>108.363636</td>\n",
       "      <td>105.000000</td>\n",
       "      <td>104.931818</td>\n",
       "      <td>107.477273</td>\n",
       "      <td>106.647727</td>\n",
       "      <td>106.238636</td>\n",
       "      <td>3.363636</td>\n",
       "      <td>-2.545455</td>\n",
       "      <td>0.409091</td>\n",
       "      <td>5.909091</td>\n",
       "    </tr>\n",
       "  </tbody>\n",
       "</table>\n",
       "<p>240 rows × 11 columns</p>\n",
       "</div>"
      ],
      "text/plain": [
       "    team_season  home avg score  home avg opponent score  away avg score  \\\n",
       "0      ATL_2010       93.851064                94.914894       93.914894   \n",
       "1      ATL_2011       97.777778                93.222222       93.000000   \n",
       "2      ATL_2012       98.636364                97.090909       96.090909   \n",
       "3      ATL_2013      100.204545                98.477273      100.444444   \n",
       "4      ATL_2014      102.122449                94.714286      101.489796   \n",
       "..          ...             ...                      ...             ...   \n",
       "235    WAS_2013       98.782609                97.652174      100.085106   \n",
       "236    WAS_2014      102.630435                96.565217       95.000000   \n",
       "237    WAS_2015      106.024390               103.487805      102.121951   \n",
       "238    WAS_2016      110.255319               104.553191      107.833333   \n",
       "239    WAS_2017      108.363636               105.000000      104.931818   \n",
       "\n",
       "     away avg opponent score   avg score  avg opp score  avg home diff  \\\n",
       "0                  95.404255   93.882979      95.159574      -1.063830   \n",
       "1                  92.027778   95.388889      92.625000       4.555556   \n",
       "2                  97.590909   97.363636      97.340909       1.545455   \n",
       "3                 103.155556  100.324495     100.816414       1.727273   \n",
       "4                  99.877551  101.806122      97.295918       7.408163   \n",
       "..                       ...         ...            ...            ...   \n",
       "235                98.765957   99.433858      98.209066       1.130435   \n",
       "236                98.934783   98.815217      97.750000       6.065217   \n",
       "237               105.658537  104.073171     104.573171       2.536585   \n",
       "238               110.333333  109.044326     107.443262       5.702128   \n",
       "239               107.477273  106.647727     106.238636       3.363636   \n",
       "\n",
       "     avg away diff  avg diff  diff differential  \n",
       "0        -1.489362 -1.276596           0.425532  \n",
       "1         0.972222  2.763889           3.583333  \n",
       "2        -1.500000  0.022727           3.045455  \n",
       "3        -2.711111 -0.491919           4.438384  \n",
       "4         1.612245  4.510204           5.795918  \n",
       "..             ...       ...                ...  \n",
       "235       1.319149  1.224792          -0.188714  \n",
       "236      -3.934783  1.065217          10.000000  \n",
       "237      -3.536585 -0.500000           6.073171  \n",
       "238      -2.500000  1.601064           8.202128  \n",
       "239      -2.545455  0.409091           5.909091  \n",
       "\n",
       "[240 rows x 11 columns]"
      ]
     },
     "execution_count": 236,
     "metadata": {},
     "output_type": "execute_result"
    }
   ],
   "source": [
    "df_scores"
   ]
  },
  {
   "cell_type": "markdown",
   "metadata": {},
   "source": [
    "#### What are each team's average score and opponent score per season?"
   ]
  },
  {
   "cell_type": "code",
   "execution_count": 237,
   "metadata": {},
   "outputs": [
    {
     "data": {
      "application/vnd.plotly.v1+json": {
       "config": {
        "plotlyServerURL": "https://plot.ly"
       },
       "data": [
        {
         "hovertext": [
          "ATL_2010",
          "ATL_2011",
          "ATL_2012",
          "ATL_2013",
          "ATL_2014",
          "ATL_2015",
          "ATL_2016",
          "ATL_2017",
          "BKN_2010",
          "BKN_2011",
          "BKN_2012",
          "BKN_2013",
          "BKN_2014",
          "BKN_2015",
          "BKN_2016",
          "BKN_2017",
          "BOS_2010",
          "BOS_2011",
          "BOS_2012",
          "BOS_2013",
          "BOS_2014",
          "BOS_2015",
          "BOS_2016",
          "BOS_2017",
          "CHA_2010",
          "CHA_2011",
          "CHA_2012",
          "CHA_2013",
          "CHA_2014",
          "CHA_2015",
          "CHA_2016",
          "CHA_2017",
          "CHI_2010",
          "CHI_2011",
          "CHI_2012",
          "CHI_2013",
          "CHI_2014",
          "CHI_2015",
          "CHI_2016",
          "CHI_2017",
          "CLE_2010",
          "CLE_2011",
          "CLE_2012",
          "CLE_2013",
          "CLE_2014",
          "CLE_2015",
          "CLE_2016",
          "CLE_2017",
          "DAL_2010",
          "DAL_2011",
          "DAL_2012",
          "DAL_2013",
          "DAL_2014",
          "DAL_2015",
          "DAL_2016",
          "DAL_2017",
          "DEN_2010",
          "DEN_2011",
          "DEN_2012",
          "DEN_2013",
          "DEN_2014",
          "DEN_2015",
          "DEN_2016",
          "DEN_2017",
          "DET_2010",
          "DET_2011",
          "DET_2012",
          "DET_2013",
          "DET_2014",
          "DET_2015",
          "DET_2016",
          "DET_2017",
          "GSW_2010",
          "GSW_2011",
          "GSW_2012",
          "GSW_2013",
          "GSW_2014",
          "GSW_2015",
          "GSW_2016",
          "GSW_2017",
          "HOU_2010",
          "HOU_2011",
          "HOU_2012",
          "HOU_2013",
          "HOU_2014",
          "HOU_2015",
          "HOU_2016",
          "HOU_2017",
          "IND_2010",
          "IND_2011",
          "IND_2012",
          "IND_2013",
          "IND_2014",
          "IND_2015",
          "IND_2016",
          "IND_2017",
          "LAC_2010",
          "LAC_2011",
          "LAC_2012",
          "LAC_2013",
          "LAC_2014",
          "LAC_2015",
          "LAC_2016",
          "LAC_2017",
          "LAL_2010",
          "LAL_2011",
          "LAL_2012",
          "LAL_2013",
          "LAL_2014",
          "LAL_2015",
          "LAL_2016",
          "LAL_2017",
          "MEM_2010",
          "MEM_2011",
          "MEM_2012",
          "MEM_2013",
          "MEM_2014",
          "MEM_2015",
          "MEM_2016",
          "MEM_2017",
          "MIA_2010",
          "MIA_2011",
          "MIA_2012",
          "MIA_2013",
          "MIA_2014",
          "MIA_2015",
          "MIA_2016",
          "MIA_2017",
          "MIL_2010",
          "MIL_2011",
          "MIL_2012",
          "MIL_2013",
          "MIL_2014",
          "MIL_2015",
          "MIL_2016",
          "MIL_2017",
          "MIN_2010",
          "MIN_2011",
          "MIN_2012",
          "MIN_2013",
          "MIN_2014",
          "MIN_2015",
          "MIN_2016",
          "MIN_2017",
          "NOP_2010",
          "NOP_2011",
          "NOP_2012",
          "NOP_2013",
          "NOP_2014",
          "NOP_2015",
          "NOP_2016",
          "NOP_2017",
          "NYK_2010",
          "NYK_2011",
          "NYK_2012",
          "NYK_2013",
          "NYK_2014",
          "NYK_2015",
          "NYK_2016",
          "NYK_2017",
          "OKC_2010",
          "OKC_2011",
          "OKC_2012",
          "OKC_2013",
          "OKC_2014",
          "OKC_2015",
          "OKC_2016",
          "OKC_2017",
          "ORL_2010",
          "ORL_2011",
          "ORL_2012",
          "ORL_2013",
          "ORL_2014",
          "ORL_2015",
          "ORL_2016",
          "ORL_2017",
          "PHI_2010",
          "PHI_2011",
          "PHI_2012",
          "PHI_2013",
          "PHI_2014",
          "PHI_2015",
          "PHI_2016",
          "PHI_2017",
          "PHX_2010",
          "PHX_2011",
          "PHX_2012",
          "PHX_2013",
          "PHX_2014",
          "PHX_2015",
          "PHX_2016",
          "PHX_2017",
          "POR_2010",
          "POR_2011",
          "POR_2012",
          "POR_2013",
          "POR_2014",
          "POR_2015",
          "POR_2016",
          "POR_2017",
          "SAC_2010",
          "SAC_2011",
          "SAC_2012",
          "SAC_2013",
          "SAC_2014",
          "SAC_2015",
          "SAC_2016",
          "SAC_2017",
          "SAS_2010",
          "SAS_2011",
          "SAS_2012",
          "SAS_2013",
          "SAS_2014",
          "SAS_2015",
          "SAS_2016",
          "SAS_2017",
          "TOR_2010",
          "TOR_2011",
          "TOR_2012",
          "TOR_2013",
          "TOR_2014",
          "TOR_2015",
          "TOR_2016",
          "TOR_2017",
          "UTA_2010",
          "UTA_2011",
          "UTA_2012",
          "UTA_2013",
          "UTA_2014",
          "UTA_2015",
          "UTA_2016",
          "UTA_2017",
          "WAS_2010",
          "WAS_2011",
          "WAS_2012",
          "WAS_2013",
          "WAS_2014",
          "WAS_2015",
          "WAS_2016",
          "WAS_2017"
         ],
         "mode": "markers",
         "type": "scatter",
         "x": [
          93.88297872340425,
          95.38888888888889,
          97.36363636363637,
          100.32449494949495,
          101.8061224489796,
          102.54347826086956,
          103.31818181818181,
          103.35365853658536,
          94.17073170731707,
          93.0909090909091,
          97.07272727272726,
          98.17753623188406,
          97.9090909090909,
          98.64634146341463,
          105.76829268292683,
          106.59756097560975,
          96.34661835748793,
          91.30232558139535,
          95.56263213530656,
          96.2439024390244,
          101.05813953488372,
          104.9090909090909,
          107.47158863545418,
          103.4552590266876,
          93.29268292682926,
          86.95454545454545,
          93.42682926829269,
          96.62790697674419,
          94.15853658536585,
          102.39469696969697,
          104.89024390243901,
          108.21951219512195,
          97.59208333333333,
          95.34722222222223,
          93.0221920289855,
          93.4423890063425,
          100.18085106382978,
          101.64634146341464,
          102.43181818181819,
          102.92682926829268,
          95.45121951219511,
          93.03030303030303,
          96.5,
          98.21951219512195,
          102.32352941176471,
          104.44720965309202,
          111.44017607042818,
          108.8076923076923,
          99.82032428355959,
          95.64285714285714,
          101.13414634146342,
          104.57979797979797,
          105.51612050739958,
          101.83350951374207,
          97.91463414634146,
          102.3170731707317,
          106.9225687103594,
          103.40315315315314,
          105.93181818181819,
          104.3780487804878,
          101.46341463414635,
          101.89024390243902,
          111.71951219512195,
          110,
          96.96341463414635,
          90.86363636363636,
          94.85365853658537,
          101.04878048780488,
          98.5,
          101.63953488372093,
          101.32926829268293,
          103.76829268292684,
          103.3780487804878,
          97.77272727272728,
          101.36170212765957,
          104.43055555555556,
          108.57164404223228,
          113.22174688057041,
          116.4495918367347,
          112.83823529411765,
          105.91463414634146,
          98.0909090909091,
          105.54545454545455,
          107.9659090909091,
          104.65530612244898,
          105.66781183932346,
          114.42784458834413,
          111.01593137254902,
          99.276955602537,
          96.71626180836708,
          94.18,
          95.75607843137254,
          97.32926829268293,
          101.50429292929293,
          105.26744186046511,
          105.1861111111111,
          98.64634146341464,
          96.61808367071525,
          100.64772727272728,
          108.00908687943263,
          106.875,
          104.07954545454545,
          107.80378787878789,
          108.98780487804878,
          100.57608695652173,
          96.7948717948718,
          101.4186046511628,
          102.95121951219512,
          98.45121951219512,
          97.34146341463415,
          104.57317073170731,
          108.07317073170731,
          99.78945035460993,
          94.5975975975976,
          93.60119047619048,
          96.21237373737374,
          97.88066604995375,
          98.25581395348837,
          100.19318181818181,
          99.32926829268293,
          100.14950980392157,
          98.11046511627907,
          101.53649237472766,
          101.22549019607843,
          94.6829268292683,
          99.58333333333334,
          103.17073170731707,
          103.42785412262157,
          91.8780487804878,
          99.01515151515152,
          98.24418604651163,
          95.47560975609755,
          97.20454545454545,
          99.04878048780489,
          102.9090909090909,
          106.1189393939394,
          101.07317073170732,
          97.93939393939394,
          95.7439024390244,
          106.92682926829269,
          97.7560975609756,
          102.41463414634146,
          105.57317073170731,
          109.08403805496829,
          94.54545454545455,
          89.63636363636363,
          94.07317073170732,
          99.71951219512195,
          99.4186046511628,
          102.71951219512195,
          104.34146341463415,
          111.5707729468599,
          105.77906976744185,
          96.81428571428572,
          98.5,
          98.58536585365854,
          91.89024390243902,
          98.35365853658536,
          104.34146341463415,
          104.46341463414635,
          104.40591836734694,
          102.63953488372093,
          104.8337187789084,
          105.44549019607842,
          103.95121951219512,
          109.53,
          106.49603594080338,
          107.39772727272727,
          98.48863636363637,
          93.47261904761905,
          94.1219512195122,
          96.51219512195122,
          95.6951219512195,
          102.0609756097561,
          101.07317073170731,
          103.40243902439025,
          98.31844608879493,
          92.32147435897436,
          93.17073170731707,
          99.45121951219511,
          91.97560975609755,
          97.41463414634146,
          102.4390243902439,
          109.69565217391305,
          105.01219512195122,
          98.36363636363637,
          95.1829268292683,
          105.23170731707316,
          102.40243902439025,
          100.8658536585366,
          107.6951219512195,
          103.92682926829269,
          95.73863636363636,
          97.19696969696969,
          97.5,
          106.46577243293247,
          102.29651162790697,
          105.16119333950047,
          107.63953488372093,
          105.61627906976744,
          99.40243902439025,
          98.75757575757575,
          100.23170731707317,
          100.5,
          101.34146341463415,
          106.58536585365854,
          102.8048780487805,
          98.82926829268293,
          103.04545454545453,
          103.3625,
          102.49509803921569,
          105.53649237472766,
          103.24368686868686,
          103.36956521739131,
          105.61224489795919,
          102.42309725158563,
          99.07317073170732,
          90.69696969696969,
          97.20731707317074,
          100.84949494949495,
          103.62790697674419,
          100.83076923076923,
          105.75,
          111.18478260869566,
          99.42682926829269,
          98.88571428571429,
          98.02439024390245,
          95.01219512195121,
          95.1341463414634,
          97.6829268292683,
          100.3700277520814,
          103.93663274745606,
          97.28048780487805,
          93.63636363636364,
          93.21951219512195,
          99.43385753931545,
          98.81521739130434,
          104.07317073170732,
          109.04432624113474,
          106.64772727272728
         ],
         "y": [
          95.15957446808511,
          92.625,
          97.3409090909091,
          100.81641414141414,
          97.29591836734693,
          99.43478260869566,
          104.19318181818181,
          108.8048780487805,
          100.41463414634146,
          99.07575757575756,
          95.28737373737374,
          99.13043478260869,
          100.9659090909091,
          106,
          112.5,
          110.34146341463415,
          91.34951690821256,
          89.13953488372093,
          96.08668076109936,
          100.70731707317074,
          101.33720930232559,
          102.375,
          105.84773909563825,
          100.4980376766091,
          97.29268292682927,
          100.86363636363637,
          102.65853658536585,
          97.29069767441861,
          97.32926829268294,
          100.53661616161617,
          104.6951219512195,
          107.96341463414635,
          90.83458333333334,
          87.98611111111111,
          93.55797101449275,
          91.99048625792813,
          97.12765957446808,
          103.1219512195122,
          102.5,
          109.96341463414635,
          104.46341463414635,
          100.22727272727272,
          101.1829268292683,
          101.51219512195121,
          97.94117647058823,
          97.87858220211162,
          107.31892757102841,
          108.4326923076923,
          95.29732277526395,
          95.11428571428573,
          101.73170731707317,
          102.50757575757575,
          103.00211416490487,
          103.13662790697674,
          100.84146341463415,
          105.35365853658537,
          102.64904862579282,
          100.73686186186185,
          101.47727272727272,
          106.52439024390245,
          105.01219512195122,
          104.98780487804878,
          111.20731707317073,
          108.52439024390245,
          100.5609756097561,
          95.65151515151516,
          98.84146341463415,
          104.70731707317074,
          99.5,
          101.45348837209302,
          102.45121951219511,
          103.91463414634146,
          105.70731707317073,
          101.18181818181819,
          100.56382978723406,
          100.31489898989899,
          98.97454751131221,
          104.08146167557932,
          104.53244897959183,
          106.06711915535445,
          103.73170731707317,
          97.86363636363637,
          102.70454545454547,
          103.69318181818181,
          102.2595918367347,
          106.54281183932346,
          109.23196114708603,
          103.72732843137254,
          100.65961945031712,
          93.73009446693658,
          90.89,
          92.41941176470588,
          97.04878048780488,
          99.7909090909091,
          105.66279069767441,
          103.4469696969697,
          101.78048780487805,
          95.0506072874494,
          95.01136363636363,
          101.75443262411346,
          101.05208333333334,
          100.02272727272728,
          103.98383838383839,
          108.95121951219512,
          95.27173913043478,
          96.23076923076923,
          101.18604651162791,
          109.2439024390244,
          105.29268292682927,
          106.90243902439025,
          111.45121951219512,
          109.6219512195122,
          97.80939716312056,
          92.76388888888889,
          89.9766156462585,
          95.17878787878789,
          95.20467160037003,
          101.41860465116278,
          100.30681818181819,
          105.53658536585365,
          93.68589743589743,
          92.00657229524774,
          94.06917211328977,
          97.05882352941177,
          97.28048780487805,
          97.71875,
          102.10975609756098,
          103.58245243128964,
          92.71951219512195,
          98.74242424242425,
          100.36046511627907,
          103.65853658536585,
          97.64772727272728,
          103.23170731707316,
          103.125,
          106.42171717171718,
          107.70731707317073,
          100.13636363636364,
          98.10975609756098,
          104.2560975609756,
          106.54878048780488,
          105.95121951219511,
          106.6829268292683,
          107.44371035940804,
          94.20454545454547,
          93.39393939393939,
          97.9390243902439,
          102.42682926829268,
          99.03488372093022,
          106.51219512195121,
          106.4390243902439,
          110.46497584541063,
          105.43023255813954,
          94.7670634920635,
          94.46808510638297,
          99.3780487804878,
          101.20731707317074,
          101.08536585365854,
          108.01219512195122,
          108.02439024390245,
          100.96836734693878,
          97.01162790697674,
          96.59135060129509,
          100.52568627450981,
          101.76829268292683,
          102.61,
          106.2161733615222,
          104.51136363636363,
          93.27272727272728,
          93.45992063492064,
          101.10975609756098,
          101.95121951219512,
          101.41463414634146,
          103.6829268292683,
          107.64634146341464,
          108.21951219512195,
          97.28646934460888,
          88.9423076923077,
          96.51219512195121,
          109.90243902439025,
          100.95121951219512,
          107.64634146341463,
          108.1341463414634,
          105.26086956521739,
          105.90243902439025,
          98.6060606060606,
          101.64634146341464,
          102.59756097560975,
          103.3048780487805,
          107.52439024390245,
          113.32926829268293,
          113.29268292682927,
          94.67045454545455,
          97.81818181818181,
          100.67073170731707,
          103.66234967622572,
          98.64904862579282,
          104.67460684551341,
          108.97674418604652,
          103.55813953488371,
          104.7439024390244,
          104.43939393939394,
          105.10975609756098,
          103.40243902439025,
          105.04878048780488,
          109.0609756097561,
          106.6829268292683,
          105.8170731707317,
          97.94318181818181,
          96.4125,
          95.93721719457014,
          97.5326797385621,
          97.46363636363637,
          92.90217391304347,
          99.42857142857143,
          100.15010570824523,
          105.35365853658537,
          94,
          98.6829268292683,
          98,
          101.34883720930233,
          98.10846153846154,
          102.61956521739131,
          104.72826086956522,
          101.2560975609756,
          99.21428571428572,
          98.10975609756098,
          102.1829268292683,
          94.91463414634146,
          95.89024390243902,
          97.43640148011102,
          100.36308973172989,
          104.6829268292683,
          98.43939393939394,
          95.7560975609756,
          98.209065679926,
          97.75,
          104.57317073170731,
          107.44326241134752,
          106.23863636363637
         ]
        }
       ],
       "layout": {
        "autosize": true,
        "hovermode": "closest",
        "template": {
         "data": {
          "bar": [
           {
            "error_x": {
             "color": "#2a3f5f"
            },
            "error_y": {
             "color": "#2a3f5f"
            },
            "marker": {
             "line": {
              "color": "#E5ECF6",
              "width": 0.5
             }
            },
            "type": "bar"
           }
          ],
          "barpolar": [
           {
            "marker": {
             "line": {
              "color": "#E5ECF6",
              "width": 0.5
             }
            },
            "type": "barpolar"
           }
          ],
          "carpet": [
           {
            "aaxis": {
             "endlinecolor": "#2a3f5f",
             "gridcolor": "white",
             "linecolor": "white",
             "minorgridcolor": "white",
             "startlinecolor": "#2a3f5f"
            },
            "baxis": {
             "endlinecolor": "#2a3f5f",
             "gridcolor": "white",
             "linecolor": "white",
             "minorgridcolor": "white",
             "startlinecolor": "#2a3f5f"
            },
            "type": "carpet"
           }
          ],
          "choropleth": [
           {
            "colorbar": {
             "outlinewidth": 0,
             "ticks": ""
            },
            "type": "choropleth"
           }
          ],
          "contour": [
           {
            "colorbar": {
             "outlinewidth": 0,
             "ticks": ""
            },
            "colorscale": [
             [
              0,
              "#0d0887"
             ],
             [
              0.1111111111111111,
              "#46039f"
             ],
             [
              0.2222222222222222,
              "#7201a8"
             ],
             [
              0.3333333333333333,
              "#9c179e"
             ],
             [
              0.4444444444444444,
              "#bd3786"
             ],
             [
              0.5555555555555556,
              "#d8576b"
             ],
             [
              0.6666666666666666,
              "#ed7953"
             ],
             [
              0.7777777777777778,
              "#fb9f3a"
             ],
             [
              0.8888888888888888,
              "#fdca26"
             ],
             [
              1,
              "#f0f921"
             ]
            ],
            "type": "contour"
           }
          ],
          "contourcarpet": [
           {
            "colorbar": {
             "outlinewidth": 0,
             "ticks": ""
            },
            "type": "contourcarpet"
           }
          ],
          "heatmap": [
           {
            "colorbar": {
             "outlinewidth": 0,
             "ticks": ""
            },
            "colorscale": [
             [
              0,
              "#0d0887"
             ],
             [
              0.1111111111111111,
              "#46039f"
             ],
             [
              0.2222222222222222,
              "#7201a8"
             ],
             [
              0.3333333333333333,
              "#9c179e"
             ],
             [
              0.4444444444444444,
              "#bd3786"
             ],
             [
              0.5555555555555556,
              "#d8576b"
             ],
             [
              0.6666666666666666,
              "#ed7953"
             ],
             [
              0.7777777777777778,
              "#fb9f3a"
             ],
             [
              0.8888888888888888,
              "#fdca26"
             ],
             [
              1,
              "#f0f921"
             ]
            ],
            "type": "heatmap"
           }
          ],
          "heatmapgl": [
           {
            "colorbar": {
             "outlinewidth": 0,
             "ticks": ""
            },
            "colorscale": [
             [
              0,
              "#0d0887"
             ],
             [
              0.1111111111111111,
              "#46039f"
             ],
             [
              0.2222222222222222,
              "#7201a8"
             ],
             [
              0.3333333333333333,
              "#9c179e"
             ],
             [
              0.4444444444444444,
              "#bd3786"
             ],
             [
              0.5555555555555556,
              "#d8576b"
             ],
             [
              0.6666666666666666,
              "#ed7953"
             ],
             [
              0.7777777777777778,
              "#fb9f3a"
             ],
             [
              0.8888888888888888,
              "#fdca26"
             ],
             [
              1,
              "#f0f921"
             ]
            ],
            "type": "heatmapgl"
           }
          ],
          "histogram": [
           {
            "marker": {
             "colorbar": {
              "outlinewidth": 0,
              "ticks": ""
             }
            },
            "type": "histogram"
           }
          ],
          "histogram2d": [
           {
            "colorbar": {
             "outlinewidth": 0,
             "ticks": ""
            },
            "colorscale": [
             [
              0,
              "#0d0887"
             ],
             [
              0.1111111111111111,
              "#46039f"
             ],
             [
              0.2222222222222222,
              "#7201a8"
             ],
             [
              0.3333333333333333,
              "#9c179e"
             ],
             [
              0.4444444444444444,
              "#bd3786"
             ],
             [
              0.5555555555555556,
              "#d8576b"
             ],
             [
              0.6666666666666666,
              "#ed7953"
             ],
             [
              0.7777777777777778,
              "#fb9f3a"
             ],
             [
              0.8888888888888888,
              "#fdca26"
             ],
             [
              1,
              "#f0f921"
             ]
            ],
            "type": "histogram2d"
           }
          ],
          "histogram2dcontour": [
           {
            "colorbar": {
             "outlinewidth": 0,
             "ticks": ""
            },
            "colorscale": [
             [
              0,
              "#0d0887"
             ],
             [
              0.1111111111111111,
              "#46039f"
             ],
             [
              0.2222222222222222,
              "#7201a8"
             ],
             [
              0.3333333333333333,
              "#9c179e"
             ],
             [
              0.4444444444444444,
              "#bd3786"
             ],
             [
              0.5555555555555556,
              "#d8576b"
             ],
             [
              0.6666666666666666,
              "#ed7953"
             ],
             [
              0.7777777777777778,
              "#fb9f3a"
             ],
             [
              0.8888888888888888,
              "#fdca26"
             ],
             [
              1,
              "#f0f921"
             ]
            ],
            "type": "histogram2dcontour"
           }
          ],
          "mesh3d": [
           {
            "colorbar": {
             "outlinewidth": 0,
             "ticks": ""
            },
            "type": "mesh3d"
           }
          ],
          "parcoords": [
           {
            "line": {
             "colorbar": {
              "outlinewidth": 0,
              "ticks": ""
             }
            },
            "type": "parcoords"
           }
          ],
          "pie": [
           {
            "automargin": true,
            "type": "pie"
           }
          ],
          "scatter": [
           {
            "marker": {
             "colorbar": {
              "outlinewidth": 0,
              "ticks": ""
             }
            },
            "type": "scatter"
           }
          ],
          "scatter3d": [
           {
            "line": {
             "colorbar": {
              "outlinewidth": 0,
              "ticks": ""
             }
            },
            "marker": {
             "colorbar": {
              "outlinewidth": 0,
              "ticks": ""
             }
            },
            "type": "scatter3d"
           }
          ],
          "scattercarpet": [
           {
            "marker": {
             "colorbar": {
              "outlinewidth": 0,
              "ticks": ""
             }
            },
            "type": "scattercarpet"
           }
          ],
          "scattergeo": [
           {
            "marker": {
             "colorbar": {
              "outlinewidth": 0,
              "ticks": ""
             }
            },
            "type": "scattergeo"
           }
          ],
          "scattergl": [
           {
            "marker": {
             "colorbar": {
              "outlinewidth": 0,
              "ticks": ""
             }
            },
            "type": "scattergl"
           }
          ],
          "scattermapbox": [
           {
            "marker": {
             "colorbar": {
              "outlinewidth": 0,
              "ticks": ""
             }
            },
            "type": "scattermapbox"
           }
          ],
          "scatterpolar": [
           {
            "marker": {
             "colorbar": {
              "outlinewidth": 0,
              "ticks": ""
             }
            },
            "type": "scatterpolar"
           }
          ],
          "scatterpolargl": [
           {
            "marker": {
             "colorbar": {
              "outlinewidth": 0,
              "ticks": ""
             }
            },
            "type": "scatterpolargl"
           }
          ],
          "scatterternary": [
           {
            "marker": {
             "colorbar": {
              "outlinewidth": 0,
              "ticks": ""
             }
            },
            "type": "scatterternary"
           }
          ],
          "surface": [
           {
            "colorbar": {
             "outlinewidth": 0,
             "ticks": ""
            },
            "colorscale": [
             [
              0,
              "#0d0887"
             ],
             [
              0.1111111111111111,
              "#46039f"
             ],
             [
              0.2222222222222222,
              "#7201a8"
             ],
             [
              0.3333333333333333,
              "#9c179e"
             ],
             [
              0.4444444444444444,
              "#bd3786"
             ],
             [
              0.5555555555555556,
              "#d8576b"
             ],
             [
              0.6666666666666666,
              "#ed7953"
             ],
             [
              0.7777777777777778,
              "#fb9f3a"
             ],
             [
              0.8888888888888888,
              "#fdca26"
             ],
             [
              1,
              "#f0f921"
             ]
            ],
            "type": "surface"
           }
          ],
          "table": [
           {
            "cells": {
             "fill": {
              "color": "#EBF0F8"
             },
             "line": {
              "color": "white"
             }
            },
            "header": {
             "fill": {
              "color": "#C8D4E3"
             },
             "line": {
              "color": "white"
             }
            },
            "type": "table"
           }
          ]
         },
         "layout": {
          "annotationdefaults": {
           "arrowcolor": "#2a3f5f",
           "arrowhead": 0,
           "arrowwidth": 1
          },
          "coloraxis": {
           "colorbar": {
            "outlinewidth": 0,
            "ticks": ""
           }
          },
          "colorscale": {
           "diverging": [
            [
             0,
             "#8e0152"
            ],
            [
             0.1,
             "#c51b7d"
            ],
            [
             0.2,
             "#de77ae"
            ],
            [
             0.3,
             "#f1b6da"
            ],
            [
             0.4,
             "#fde0ef"
            ],
            [
             0.5,
             "#f7f7f7"
            ],
            [
             0.6,
             "#e6f5d0"
            ],
            [
             0.7,
             "#b8e186"
            ],
            [
             0.8,
             "#7fbc41"
            ],
            [
             0.9,
             "#4d9221"
            ],
            [
             1,
             "#276419"
            ]
           ],
           "sequential": [
            [
             0,
             "#0d0887"
            ],
            [
             0.1111111111111111,
             "#46039f"
            ],
            [
             0.2222222222222222,
             "#7201a8"
            ],
            [
             0.3333333333333333,
             "#9c179e"
            ],
            [
             0.4444444444444444,
             "#bd3786"
            ],
            [
             0.5555555555555556,
             "#d8576b"
            ],
            [
             0.6666666666666666,
             "#ed7953"
            ],
            [
             0.7777777777777778,
             "#fb9f3a"
            ],
            [
             0.8888888888888888,
             "#fdca26"
            ],
            [
             1,
             "#f0f921"
            ]
           ],
           "sequentialminus": [
            [
             0,
             "#0d0887"
            ],
            [
             0.1111111111111111,
             "#46039f"
            ],
            [
             0.2222222222222222,
             "#7201a8"
            ],
            [
             0.3333333333333333,
             "#9c179e"
            ],
            [
             0.4444444444444444,
             "#bd3786"
            ],
            [
             0.5555555555555556,
             "#d8576b"
            ],
            [
             0.6666666666666666,
             "#ed7953"
            ],
            [
             0.7777777777777778,
             "#fb9f3a"
            ],
            [
             0.8888888888888888,
             "#fdca26"
            ],
            [
             1,
             "#f0f921"
            ]
           ]
          },
          "colorway": [
           "#636efa",
           "#EF553B",
           "#00cc96",
           "#ab63fa",
           "#FFA15A",
           "#19d3f3",
           "#FF6692",
           "#B6E880",
           "#FF97FF",
           "#FECB52"
          ],
          "font": {
           "color": "#2a3f5f"
          },
          "geo": {
           "bgcolor": "white",
           "lakecolor": "white",
           "landcolor": "#E5ECF6",
           "showlakes": true,
           "showland": true,
           "subunitcolor": "white"
          },
          "hoverlabel": {
           "align": "left"
          },
          "hovermode": "closest",
          "mapbox": {
           "style": "light"
          },
          "paper_bgcolor": "white",
          "plot_bgcolor": "#E5ECF6",
          "polar": {
           "angularaxis": {
            "gridcolor": "white",
            "linecolor": "white",
            "ticks": ""
           },
           "bgcolor": "#E5ECF6",
           "radialaxis": {
            "gridcolor": "white",
            "linecolor": "white",
            "ticks": ""
           }
          },
          "scene": {
           "xaxis": {
            "backgroundcolor": "#E5ECF6",
            "gridcolor": "white",
            "gridwidth": 2,
            "linecolor": "white",
            "showbackground": true,
            "ticks": "",
            "zerolinecolor": "white"
           },
           "yaxis": {
            "backgroundcolor": "#E5ECF6",
            "gridcolor": "white",
            "gridwidth": 2,
            "linecolor": "white",
            "showbackground": true,
            "ticks": "",
            "zerolinecolor": "white"
           },
           "zaxis": {
            "backgroundcolor": "#E5ECF6",
            "gridcolor": "white",
            "gridwidth": 2,
            "linecolor": "white",
            "showbackground": true,
            "ticks": "",
            "zerolinecolor": "white"
           }
          },
          "shapedefaults": {
           "line": {
            "color": "#2a3f5f"
           }
          },
          "ternary": {
           "aaxis": {
            "gridcolor": "white",
            "linecolor": "white",
            "ticks": ""
           },
           "baxis": {
            "gridcolor": "white",
            "linecolor": "white",
            "ticks": ""
           },
           "bgcolor": "#E5ECF6",
           "caxis": {
            "gridcolor": "white",
            "linecolor": "white",
            "ticks": ""
           }
          },
          "title": {
           "x": 0.05
          },
          "xaxis": {
           "automargin": true,
           "gridcolor": "white",
           "linecolor": "white",
           "ticks": "",
           "title": {
            "standoff": 15
           },
           "zerolinecolor": "white",
           "zerolinewidth": 2
          },
          "yaxis": {
           "automargin": true,
           "gridcolor": "white",
           "linecolor": "white",
           "ticks": "",
           "title": {
            "standoff": 15
           },
           "zerolinecolor": "white",
           "zerolinewidth": 2
          }
         }
        },
        "title": {
         "text": "Score vs Opponent Score"
        },
        "xaxis": {
         "autorange": true,
         "range": [
          85.13943309280941,
          118.26470419847074
         ],
         "title": {
          "text": "Average Score"
         },
         "type": "linear"
        },
        "yaxis": {
         "autorange": true,
         "range": [
          86.12976520290681,
          115.18561420088723
         ],
         "title": {
          "text": "Average Opponent Score"
         },
         "type": "linear"
        }
       }
      },
      "image/png": "[encoded data removed]",
      "text/html": [
       "<div>                            <div id=\"51dd53ef-106e-44e6-97c4-290c35dfbc13\" class=\"plotly-graph-div\" style=\"height:525px; width:100%;\"></div>            <script type=\"text/javascript\">                require([\"plotly\"], function(Plotly) {                    window.PLOTLYENV=window.PLOTLYENV || {};                                    if (document.getElementById(\"51dd53ef-106e-44e6-97c4-290c35dfbc13\")) {                    Plotly.newPlot(                        \"51dd53ef-106e-44e6-97c4-290c35dfbc13\",                        [{\"hovertext\": [\"ATL_2010\", \"ATL_2011\", \"ATL_2012\", \"ATL_2013\", \"ATL_2014\", \"ATL_2015\", \"ATL_2016\", \"ATL_2017\", \"BKN_2010\", \"BKN_2011\", \"BKN_2012\", \"BKN_2013\", \"BKN_2014\", \"BKN_2015\", \"BKN_2016\", \"BKN_2017\", \"BOS_2010\", \"BOS_2011\", \"BOS_2012\", \"BOS_2013\", \"BOS_2014\", \"BOS_2015\", \"BOS_2016\", \"BOS_2017\", \"CHA_2010\", \"CHA_2011\", \"CHA_2012\", \"CHA_2013\", \"CHA_2014\", \"CHA_2015\", \"CHA_2016\", \"CHA_2017\", \"CHI_2010\", \"CHI_2011\", \"CHI_2012\", \"CHI_2013\", \"CHI_2014\", \"CHI_2015\", \"CHI_2016\", \"CHI_2017\", \"CLE_2010\", \"CLE_2011\", \"CLE_2012\", \"CLE_2013\", \"CLE_2014\", \"CLE_2015\", \"CLE_2016\", \"CLE_2017\", \"DAL_2010\", \"DAL_2011\", \"DAL_2012\", \"DAL_2013\", \"DAL_2014\", \"DAL_2015\", \"DAL_2016\", \"DAL_2017\", \"DEN_2010\", \"DEN_2011\", \"DEN_2012\", \"DEN_2013\", \"DEN_2014\", \"DEN_2015\", \"DEN_2016\", \"DEN_2017\", \"DET_2010\", \"DET_2011\", \"DET_2012\", \"DET_2013\", \"DET_2014\", \"DET_2015\", \"DET_2016\", \"DET_2017\", \"GSW_2010\", \"GSW_2011\", \"GSW_2012\", \"GSW_2013\", \"GSW_2014\", \"GSW_2015\", \"GSW_2016\", \"GSW_2017\", \"HOU_2010\", \"HOU_2011\", \"HOU_2012\", \"HOU_2013\", \"HOU_2014\", \"HOU_2015\", \"HOU_2016\", \"HOU_2017\", \"IND_2010\", \"IND_2011\", \"IND_2012\", \"IND_2013\", \"IND_2014\", \"IND_2015\", \"IND_2016\", \"IND_2017\", \"LAC_2010\", \"LAC_2011\", \"LAC_2012\", \"LAC_2013\", \"LAC_2014\", \"LAC_2015\", \"LAC_2016\", \"LAC_2017\", \"LAL_2010\", \"LAL_2011\", \"LAL_2012\", \"LAL_2013\", \"LAL_2014\", \"LAL_2015\", \"LAL_2016\", \"LAL_2017\", \"MEM_2010\", \"MEM_2011\", \"MEM_2012\", \"MEM_2013\", \"MEM_2014\", \"MEM_2015\", \"MEM_2016\", \"MEM_2017\", \"MIA_2010\", \"MIA_2011\", \"MIA_2012\", \"MIA_2013\", \"MIA_2014\", \"MIA_2015\", \"MIA_2016\", \"MIA_2017\", \"MIL_2010\", \"MIL_2011\", \"MIL_2012\", \"MIL_2013\", \"MIL_2014\", \"MIL_2015\", \"MIL_2016\", \"MIL_2017\", \"MIN_2010\", \"MIN_2011\", \"MIN_2012\", \"MIN_2013\", \"MIN_2014\", \"MIN_2015\", \"MIN_2016\", \"MIN_2017\", \"NOP_2010\", \"NOP_2011\", \"NOP_2012\", \"NOP_2013\", \"NOP_2014\", \"NOP_2015\", \"NOP_2016\", \"NOP_2017\", \"NYK_2010\", \"NYK_2011\", \"NYK_2012\", \"NYK_2013\", \"NYK_2014\", \"NYK_2015\", \"NYK_2016\", \"NYK_2017\", \"OKC_2010\", \"OKC_2011\", \"OKC_2012\", \"OKC_2013\", \"OKC_2014\", \"OKC_2015\", \"OKC_2016\", \"OKC_2017\", \"ORL_2010\", \"ORL_2011\", \"ORL_2012\", \"ORL_2013\", \"ORL_2014\", \"ORL_2015\", \"ORL_2016\", \"ORL_2017\", \"PHI_2010\", \"PHI_2011\", \"PHI_2012\", \"PHI_2013\", \"PHI_2014\", \"PHI_2015\", \"PHI_2016\", \"PHI_2017\", \"PHX_2010\", \"PHX_2011\", \"PHX_2012\", \"PHX_2013\", \"PHX_2014\", \"PHX_2015\", \"PHX_2016\", \"PHX_2017\", \"POR_2010\", \"POR_2011\", \"POR_2012\", \"POR_2013\", \"POR_2014\", \"POR_2015\", \"POR_2016\", \"POR_2017\", \"SAC_2010\", \"SAC_2011\", \"SAC_2012\", \"SAC_2013\", \"SAC_2014\", \"SAC_2015\", \"SAC_2016\", \"SAC_2017\", \"SAS_2010\", \"SAS_2011\", \"SAS_2012\", \"SAS_2013\", \"SAS_2014\", \"SAS_2015\", \"SAS_2016\", \"SAS_2017\", \"TOR_2010\", \"TOR_2011\", \"TOR_2012\", \"TOR_2013\", \"TOR_2014\", \"TOR_2015\", \"TOR_2016\", \"TOR_2017\", \"UTA_2010\", \"UTA_2011\", \"UTA_2012\", \"UTA_2013\", \"UTA_2014\", \"UTA_2015\", \"UTA_2016\", \"UTA_2017\", \"WAS_2010\", \"WAS_2011\", \"WAS_2012\", \"WAS_2013\", \"WAS_2014\", \"WAS_2015\", \"WAS_2016\", \"WAS_2017\"], \"mode\": \"markers\", \"type\": \"scatter\", \"x\": [93.88297872340425, 95.38888888888889, 97.36363636363637, 100.32449494949495, 101.8061224489796, 102.54347826086956, 103.31818181818181, 103.35365853658536, 94.17073170731707, 93.0909090909091, 97.07272727272726, 98.17753623188406, 97.9090909090909, 98.64634146341463, 105.76829268292683, 106.59756097560975, 96.34661835748793, 91.30232558139535, 95.56263213530656, 96.2439024390244, 101.05813953488372, 104.9090909090909, 107.47158863545418, 103.4552590266876, 93.29268292682926, 86.95454545454545, 93.42682926829269, 96.62790697674419, 94.15853658536585, 102.39469696969697, 104.89024390243901, 108.21951219512195, 97.59208333333333, 95.34722222222223, 93.0221920289855, 93.4423890063425, 100.18085106382978, 101.64634146341464, 102.43181818181819, 102.92682926829268, 95.45121951219511, 93.03030303030303, 96.5, 98.21951219512195, 102.32352941176471, 104.44720965309202, 111.44017607042818, 108.8076923076923, 99.82032428355959, 95.64285714285714, 101.13414634146342, 104.57979797979797, 105.51612050739958, 101.83350951374207, 97.91463414634146, 102.3170731707317, 106.9225687103594, 103.40315315315314, 105.93181818181819, 104.3780487804878, 101.46341463414635, 101.89024390243902, 111.71951219512195, 110.0, 96.96341463414635, 90.86363636363636, 94.85365853658537, 101.04878048780488, 98.5, 101.63953488372093, 101.32926829268293, 103.76829268292684, 103.3780487804878, 97.77272727272728, 101.36170212765957, 104.43055555555556, 108.57164404223228, 113.22174688057041, 116.4495918367347, 112.83823529411765, 105.91463414634146, 98.0909090909091, 105.54545454545455, 107.9659090909091, 104.65530612244898, 105.66781183932346, 114.42784458834413, 111.01593137254902, 99.276955602537, 96.71626180836708, 94.18, 95.75607843137254, 97.32926829268293, 101.50429292929293, 105.26744186046511, 105.1861111111111, 98.64634146341464, 96.61808367071525, 100.64772727272728, 108.00908687943263, 106.875, 104.07954545454545, 107.80378787878789, 108.98780487804878, 100.57608695652173, 96.7948717948718, 101.4186046511628, 102.95121951219512, 98.45121951219512, 97.34146341463415, 104.57317073170731, 108.07317073170731, 99.78945035460993, 94.5975975975976, 93.60119047619048, 96.21237373737374, 97.88066604995375, 98.25581395348837, 100.19318181818181, 99.32926829268293, 100.14950980392157, 98.11046511627907, 101.53649237472766, 101.22549019607843, 94.6829268292683, 99.58333333333334, 103.17073170731707, 103.42785412262157, 91.8780487804878, 99.01515151515152, 98.24418604651163, 95.47560975609755, 97.20454545454545, 99.04878048780489, 102.9090909090909, 106.1189393939394, 101.07317073170732, 97.93939393939394, 95.7439024390244, 106.92682926829269, 97.7560975609756, 102.41463414634146, 105.57317073170731, 109.08403805496829, 94.54545454545455, 89.63636363636363, 94.07317073170732, 99.71951219512195, 99.4186046511628, 102.71951219512195, 104.34146341463415, 111.5707729468599, 105.77906976744185, 96.81428571428572, 98.5, 98.58536585365854, 91.89024390243902, 98.35365853658536, 104.34146341463415, 104.46341463414635, 104.40591836734694, 102.63953488372093, 104.8337187789084, 105.44549019607842, 103.95121951219512, 109.53, 106.49603594080338, 107.39772727272727, 98.48863636363637, 93.47261904761905, 94.1219512195122, 96.51219512195122, 95.6951219512195, 102.0609756097561, 101.07317073170731, 103.40243902439025, 98.31844608879493, 92.32147435897436, 93.17073170731707, 99.45121951219511, 91.97560975609755, 97.41463414634146, 102.4390243902439, 109.69565217391305, 105.01219512195122, 98.36363636363637, 95.1829268292683, 105.23170731707316, 102.40243902439025, 100.8658536585366, 107.6951219512195, 103.92682926829269, 95.73863636363636, 97.19696969696969, 97.5, 106.46577243293247, 102.29651162790697, 105.16119333950047, 107.63953488372093, 105.61627906976744, 99.40243902439025, 98.75757575757575, 100.23170731707317, 100.5, 101.34146341463415, 106.58536585365854, 102.8048780487805, 98.82926829268293, 103.04545454545453, 103.3625, 102.49509803921569, 105.53649237472766, 103.24368686868686, 103.36956521739131, 105.61224489795919, 102.42309725158563, 99.07317073170732, 90.69696969696969, 97.20731707317074, 100.84949494949495, 103.62790697674419, 100.83076923076923, 105.75, 111.18478260869566, 99.42682926829269, 98.88571428571429, 98.02439024390245, 95.01219512195121, 95.1341463414634, 97.6829268292683, 100.3700277520814, 103.93663274745606, 97.28048780487805, 93.63636363636364, 93.21951219512195, 99.43385753931545, 98.81521739130434, 104.07317073170732, 109.04432624113474, 106.64772727272728], \"y\": [95.15957446808511, 92.625, 97.3409090909091, 100.81641414141414, 97.29591836734693, 99.43478260869566, 104.19318181818181, 108.8048780487805, 100.41463414634146, 99.07575757575756, 95.28737373737374, 99.13043478260869, 100.9659090909091, 106.0, 112.5, 110.34146341463415, 91.34951690821256, 89.13953488372093, 96.08668076109936, 100.70731707317074, 101.33720930232559, 102.375, 105.84773909563825, 100.4980376766091, 97.29268292682927, 100.86363636363637, 102.65853658536585, 97.29069767441861, 97.32926829268294, 100.53661616161617, 104.6951219512195, 107.96341463414635, 90.83458333333334, 87.98611111111111, 93.55797101449275, 91.99048625792813, 97.12765957446808, 103.1219512195122, 102.5, 109.96341463414635, 104.46341463414635, 100.22727272727272, 101.1829268292683, 101.51219512195121, 97.94117647058823, 97.87858220211162, 107.31892757102841, 108.4326923076923, 95.29732277526395, 95.11428571428573, 101.73170731707317, 102.50757575757575, 103.00211416490487, 103.13662790697674, 100.84146341463415, 105.35365853658537, 102.64904862579282, 100.73686186186185, 101.47727272727272, 106.52439024390245, 105.01219512195122, 104.98780487804878, 111.20731707317073, 108.52439024390245, 100.5609756097561, 95.65151515151516, 98.84146341463415, 104.70731707317074, 99.5, 101.45348837209302, 102.45121951219511, 103.91463414634146, 105.70731707317073, 101.18181818181819, 100.56382978723406, 100.31489898989899, 98.97454751131221, 104.08146167557932, 104.53244897959183, 106.06711915535445, 103.73170731707317, 97.86363636363637, 102.70454545454547, 103.69318181818181, 102.2595918367347, 106.54281183932346, 109.23196114708603, 103.72732843137254, 100.65961945031712, 93.73009446693658, 90.89, 92.41941176470588, 97.04878048780488, 99.7909090909091, 105.66279069767441, 103.4469696969697, 101.78048780487805, 95.0506072874494, 95.01136363636363, 101.75443262411346, 101.05208333333334, 100.02272727272728, 103.98383838383839, 108.95121951219512, 95.27173913043478, 96.23076923076923, 101.18604651162791, 109.2439024390244, 105.29268292682927, 106.90243902439025, 111.45121951219512, 109.6219512195122, 97.80939716312056, 92.76388888888889, 89.9766156462585, 95.17878787878789, 95.20467160037003, 101.41860465116278, 100.30681818181819, 105.53658536585365, 93.68589743589743, 92.00657229524774, 94.06917211328977, 97.05882352941177, 97.28048780487805, 97.71875, 102.10975609756098, 103.58245243128964, 92.71951219512195, 98.74242424242425, 100.36046511627907, 103.65853658536585, 97.64772727272728, 103.23170731707316, 103.125, 106.42171717171718, 107.70731707317073, 100.13636363636364, 98.10975609756098, 104.2560975609756, 106.54878048780488, 105.95121951219511, 106.6829268292683, 107.44371035940804, 94.20454545454547, 93.39393939393939, 97.9390243902439, 102.42682926829268, 99.03488372093022, 106.51219512195121, 106.4390243902439, 110.46497584541063, 105.43023255813954, 94.7670634920635, 94.46808510638297, 99.3780487804878, 101.20731707317074, 101.08536585365854, 108.01219512195122, 108.02439024390245, 100.96836734693878, 97.01162790697674, 96.59135060129509, 100.52568627450981, 101.76829268292683, 102.61, 106.2161733615222, 104.51136363636363, 93.27272727272728, 93.45992063492064, 101.10975609756098, 101.95121951219512, 101.41463414634146, 103.6829268292683, 107.64634146341464, 108.21951219512195, 97.28646934460888, 88.9423076923077, 96.51219512195121, 109.90243902439025, 100.95121951219512, 107.64634146341463, 108.1341463414634, 105.26086956521739, 105.90243902439025, 98.6060606060606, 101.64634146341464, 102.59756097560975, 103.3048780487805, 107.52439024390245, 113.32926829268293, 113.29268292682927, 94.67045454545455, 97.81818181818181, 100.67073170731707, 103.66234967622572, 98.64904862579282, 104.67460684551341, 108.97674418604652, 103.55813953488371, 104.7439024390244, 104.43939393939394, 105.10975609756098, 103.40243902439025, 105.04878048780488, 109.0609756097561, 106.6829268292683, 105.8170731707317, 97.94318181818181, 96.4125, 95.93721719457014, 97.5326797385621, 97.46363636363637, 92.90217391304347, 99.42857142857143, 100.15010570824523, 105.35365853658537, 94.0, 98.6829268292683, 98.0, 101.34883720930233, 98.10846153846154, 102.61956521739131, 104.72826086956522, 101.2560975609756, 99.21428571428572, 98.10975609756098, 102.1829268292683, 94.91463414634146, 95.89024390243902, 97.43640148011102, 100.36308973172989, 104.6829268292683, 98.43939393939394, 95.7560975609756, 98.209065679926, 97.75, 104.57317073170731, 107.44326241134752, 106.23863636363637]}],                        {\"hovermode\": \"closest\", \"template\": {\"data\": {\"bar\": [{\"error_x\": {\"color\": \"#2a3f5f\"}, \"error_y\": {\"color\": \"#2a3f5f\"}, \"marker\": {\"line\": {\"color\": \"#E5ECF6\", \"width\": 0.5}}, \"type\": \"bar\"}], \"barpolar\": [{\"marker\": {\"line\": {\"color\": \"#E5ECF6\", \"width\": 0.5}}, \"type\": \"barpolar\"}], \"carpet\": [{\"aaxis\": {\"endlinecolor\": \"#2a3f5f\", \"gridcolor\": \"white\", \"linecolor\": \"white\", \"minorgridcolor\": \"white\", \"startlinecolor\": \"#2a3f5f\"}, \"baxis\": {\"endlinecolor\": \"#2a3f5f\", \"gridcolor\": \"white\", \"linecolor\": \"white\", \"minorgridcolor\": \"white\", \"startlinecolor\": \"#2a3f5f\"}, \"type\": \"carpet\"}], \"choropleth\": [{\"colorbar\": {\"outlinewidth\": 0, \"ticks\": \"\"}, \"type\": \"choropleth\"}], \"contour\": [{\"colorbar\": {\"outlinewidth\": 0, \"ticks\": \"\"}, \"colorscale\": [[0.0, \"#0d0887\"], [0.1111111111111111, \"#46039f\"], [0.2222222222222222, \"#7201a8\"], [0.3333333333333333, \"#9c179e\"], [0.4444444444444444, \"#bd3786\"], [0.5555555555555556, \"#d8576b\"], [0.6666666666666666, \"#ed7953\"], [0.7777777777777778, \"#fb9f3a\"], [0.8888888888888888, \"#fdca26\"], [1.0, \"#f0f921\"]], \"type\": \"contour\"}], \"contourcarpet\": [{\"colorbar\": {\"outlinewidth\": 0, \"ticks\": \"\"}, \"type\": \"contourcarpet\"}], \"heatmap\": [{\"colorbar\": {\"outlinewidth\": 0, \"ticks\": \"\"}, \"colorscale\": [[0.0, \"#0d0887\"], [0.1111111111111111, \"#46039f\"], [0.2222222222222222, \"#7201a8\"], [0.3333333333333333, \"#9c179e\"], [0.4444444444444444, \"#bd3786\"], [0.5555555555555556, \"#d8576b\"], [0.6666666666666666, \"#ed7953\"], [0.7777777777777778, \"#fb9f3a\"], [0.8888888888888888, \"#fdca26\"], [1.0, \"#f0f921\"]], \"type\": \"heatmap\"}], \"heatmapgl\": [{\"colorbar\": {\"outlinewidth\": 0, \"ticks\": \"\"}, \"colorscale\": [[0.0, \"#0d0887\"], [0.1111111111111111, \"#46039f\"], [0.2222222222222222, \"#7201a8\"], [0.3333333333333333, \"#9c179e\"], [0.4444444444444444, \"#bd3786\"], [0.5555555555555556, \"#d8576b\"], [0.6666666666666666, \"#ed7953\"], [0.7777777777777778, \"#fb9f3a\"], [0.8888888888888888, \"#fdca26\"], [1.0, \"#f0f921\"]], \"type\": \"heatmapgl\"}], \"histogram\": [{\"marker\": {\"colorbar\": {\"outlinewidth\": 0, \"ticks\": \"\"}}, \"type\": \"histogram\"}], \"histogram2d\": [{\"colorbar\": {\"outlinewidth\": 0, \"ticks\": \"\"}, \"colorscale\": [[0.0, \"#0d0887\"], [0.1111111111111111, \"#46039f\"], [0.2222222222222222, \"#7201a8\"], [0.3333333333333333, \"#9c179e\"], [0.4444444444444444, \"#bd3786\"], [0.5555555555555556, \"#d8576b\"], [0.6666666666666666, \"#ed7953\"], [0.7777777777777778, \"#fb9f3a\"], [0.8888888888888888, \"#fdca26\"], [1.0, \"#f0f921\"]], \"type\": \"histogram2d\"}], \"histogram2dcontour\": [{\"colorbar\": {\"outlinewidth\": 0, \"ticks\": \"\"}, \"colorscale\": [[0.0, \"#0d0887\"], [0.1111111111111111, \"#46039f\"], [0.2222222222222222, \"#7201a8\"], [0.3333333333333333, \"#9c179e\"], [0.4444444444444444, \"#bd3786\"], [0.5555555555555556, \"#d8576b\"], [0.6666666666666666, \"#ed7953\"], [0.7777777777777778, \"#fb9f3a\"], [0.8888888888888888, \"#fdca26\"], [1.0, \"#f0f921\"]], \"type\": \"histogram2dcontour\"}], \"mesh3d\": [{\"colorbar\": {\"outlinewidth\": 0, \"ticks\": \"\"}, \"type\": \"mesh3d\"}], \"parcoords\": [{\"line\": {\"colorbar\": {\"outlinewidth\": 0, \"ticks\": \"\"}}, \"type\": \"parcoords\"}], \"pie\": [{\"automargin\": true, \"type\": \"pie\"}], \"scatter\": [{\"marker\": {\"colorbar\": {\"outlinewidth\": 0, \"ticks\": \"\"}}, \"type\": \"scatter\"}], \"scatter3d\": [{\"line\": {\"colorbar\": {\"outlinewidth\": 0, \"ticks\": \"\"}}, \"marker\": {\"colorbar\": {\"outlinewidth\": 0, \"ticks\": \"\"}}, \"type\": \"scatter3d\"}], \"scattercarpet\": [{\"marker\": {\"colorbar\": {\"outlinewidth\": 0, \"ticks\": \"\"}}, \"type\": \"scattercarpet\"}], \"scattergeo\": [{\"marker\": {\"colorbar\": {\"outlinewidth\": 0, \"ticks\": \"\"}}, \"type\": \"scattergeo\"}], \"scattergl\": [{\"marker\": {\"colorbar\": {\"outlinewidth\": 0, \"ticks\": \"\"}}, \"type\": \"scattergl\"}], \"scattermapbox\": [{\"marker\": {\"colorbar\": {\"outlinewidth\": 0, \"ticks\": \"\"}}, \"type\": \"scattermapbox\"}], \"scatterpolar\": [{\"marker\": {\"colorbar\": {\"outlinewidth\": 0, \"ticks\": \"\"}}, \"type\": \"scatterpolar\"}], \"scatterpolargl\": [{\"marker\": {\"colorbar\": {\"outlinewidth\": 0, \"ticks\": \"\"}}, \"type\": \"scatterpolargl\"}], \"scatterternary\": [{\"marker\": {\"colorbar\": {\"outlinewidth\": 0, \"ticks\": \"\"}}, \"type\": \"scatterternary\"}], \"surface\": [{\"colorbar\": {\"outlinewidth\": 0, \"ticks\": \"\"}, \"colorscale\": [[0.0, \"#0d0887\"], [0.1111111111111111, \"#46039f\"], [0.2222222222222222, \"#7201a8\"], [0.3333333333333333, \"#9c179e\"], [0.4444444444444444, \"#bd3786\"], [0.5555555555555556, \"#d8576b\"], [0.6666666666666666, \"#ed7953\"], [0.7777777777777778, \"#fb9f3a\"], [0.8888888888888888, \"#fdca26\"], [1.0, \"#f0f921\"]], \"type\": \"surface\"}], \"table\": [{\"cells\": {\"fill\": {\"color\": \"#EBF0F8\"}, \"line\": {\"color\": \"white\"}}, \"header\": {\"fill\": {\"color\": \"#C8D4E3\"}, \"line\": {\"color\": \"white\"}}, \"type\": \"table\"}]}, \"layout\": {\"annotationdefaults\": {\"arrowcolor\": \"#2a3f5f\", \"arrowhead\": 0, \"arrowwidth\": 1}, \"coloraxis\": {\"colorbar\": {\"outlinewidth\": 0, \"ticks\": \"\"}}, \"colorscale\": {\"diverging\": [[0, \"#8e0152\"], [0.1, \"#c51b7d\"], [0.2, \"#de77ae\"], [0.3, \"#f1b6da\"], [0.4, \"#fde0ef\"], [0.5, \"#f7f7f7\"], [0.6, \"#e6f5d0\"], [0.7, \"#b8e186\"], [0.8, \"#7fbc41\"], [0.9, \"#4d9221\"], [1, \"#276419\"]], \"sequential\": [[0.0, \"#0d0887\"], [0.1111111111111111, \"#46039f\"], [0.2222222222222222, \"#7201a8\"], [0.3333333333333333, \"#9c179e\"], [0.4444444444444444, \"#bd3786\"], [0.5555555555555556, \"#d8576b\"], [0.6666666666666666, \"#ed7953\"], [0.7777777777777778, \"#fb9f3a\"], [0.8888888888888888, \"#fdca26\"], [1.0, \"#f0f921\"]], \"sequentialminus\": [[0.0, \"#0d0887\"], [0.1111111111111111, \"#46039f\"], [0.2222222222222222, \"#7201a8\"], [0.3333333333333333, \"#9c179e\"], [0.4444444444444444, \"#bd3786\"], [0.5555555555555556, \"#d8576b\"], [0.6666666666666666, \"#ed7953\"], [0.7777777777777778, \"#fb9f3a\"], [0.8888888888888888, \"#fdca26\"], [1.0, \"#f0f921\"]]}, \"colorway\": [\"#636efa\", \"#EF553B\", \"#00cc96\", \"#ab63fa\", \"#FFA15A\", \"#19d3f3\", \"#FF6692\", \"#B6E880\", \"#FF97FF\", \"#FECB52\"], \"font\": {\"color\": \"#2a3f5f\"}, \"geo\": {\"bgcolor\": \"white\", \"lakecolor\": \"white\", \"landcolor\": \"#E5ECF6\", \"showlakes\": true, \"showland\": true, \"subunitcolor\": \"white\"}, \"hoverlabel\": {\"align\": \"left\"}, \"hovermode\": \"closest\", \"mapbox\": {\"style\": \"light\"}, \"paper_bgcolor\": \"white\", \"plot_bgcolor\": \"#E5ECF6\", \"polar\": {\"angularaxis\": {\"gridcolor\": \"white\", \"linecolor\": \"white\", \"ticks\": \"\"}, \"bgcolor\": \"#E5ECF6\", \"radialaxis\": {\"gridcolor\": \"white\", \"linecolor\": \"white\", \"ticks\": \"\"}}, \"scene\": {\"xaxis\": {\"backgroundcolor\": \"#E5ECF6\", \"gridcolor\": \"white\", \"gridwidth\": 2, \"linecolor\": \"white\", \"showbackground\": true, \"ticks\": \"\", \"zerolinecolor\": \"white\"}, \"yaxis\": {\"backgroundcolor\": \"#E5ECF6\", \"gridcolor\": \"white\", \"gridwidth\": 2, \"linecolor\": \"white\", \"showbackground\": true, \"ticks\": \"\", \"zerolinecolor\": \"white\"}, \"zaxis\": {\"backgroundcolor\": \"#E5ECF6\", \"gridcolor\": \"white\", \"gridwidth\": 2, \"linecolor\": \"white\", \"showbackground\": true, \"ticks\": \"\", \"zerolinecolor\": \"white\"}}, \"shapedefaults\": {\"line\": {\"color\": \"#2a3f5f\"}}, \"ternary\": {\"aaxis\": {\"gridcolor\": \"white\", \"linecolor\": \"white\", \"ticks\": \"\"}, \"baxis\": {\"gridcolor\": \"white\", \"linecolor\": \"white\", \"ticks\": \"\"}, \"bgcolor\": \"#E5ECF6\", \"caxis\": {\"gridcolor\": \"white\", \"linecolor\": \"white\", \"ticks\": \"\"}}, \"title\": {\"x\": 0.05}, \"xaxis\": {\"automargin\": true, \"gridcolor\": \"white\", \"linecolor\": \"white\", \"ticks\": \"\", \"title\": {\"standoff\": 15}, \"zerolinecolor\": \"white\", \"zerolinewidth\": 2}, \"yaxis\": {\"automargin\": true, \"gridcolor\": \"white\", \"linecolor\": \"white\", \"ticks\": \"\", \"title\": {\"standoff\": 15}, \"zerolinecolor\": \"white\", \"zerolinewidth\": 2}}}, \"title\": {\"text\": \"Score vs Opponent Score\"}, \"xaxis\": {\"title\": {\"text\": \"Average Score\"}}, \"yaxis\": {\"title\": {\"text\": \"Average Opponent Score\"}}},                        {\"responsive\": true}                    ).then(function(){\n",
       "                            \n",
       "var gd = document.getElementById('51dd53ef-106e-44e6-97c4-290c35dfbc13');\n",
       "var x = new MutationObserver(function (mutations, observer) {{\n",
       "        var display = window.getComputedStyle(gd).display;\n",
       "        if (!display || display === 'none') {{\n",
       "            console.log([gd, 'removed!']);\n",
       "            Plotly.purge(gd);\n",
       "            observer.disconnect();\n",
       "        }}\n",
       "}});\n",
       "\n",
       "// Listen for the removal of the full notebook cells\n",
       "var notebookContainer = gd.closest('#notebook-container');\n",
       "if (notebookContainer) {{\n",
       "    x.observe(notebookContainer, {childList: true});\n",
       "}}\n",
       "\n",
       "// Listen for the clearing of the current output cell\n",
       "var outputEl = gd.closest('.output');\n",
       "if (outputEl) {{\n",
       "    x.observe(outputEl, {childList: true});\n",
       "}}\n",
       "\n",
       "                        })                };                });            </script>        </div>"
      ]
     },
     "metadata": {},
     "output_type": "display_data"
    }
   ],
   "source": [
    "data = [go.Scatter(\n",
    "    x = df_scores['avg score'],\n",
    "    y = df_scores['avg opp score'],\n",
    "    mode = 'markers',\n",
    "    hovertext = df_scores['team_season']\n",
    ")]\n",
    "\n",
    "# create the layout \n",
    "layout = go.Layout(\n",
    "    title = 'Score vs Opponent Score', # Graph title\n",
    "    xaxis = dict(title = 'Average Score'), # x-axis label\n",
    "    yaxis = dict(title = 'Average Opponent Score'), # y-axis label\n",
    "    hovermode ='closest' # handles multiple points landing on the same vertical\n",
    ")\n",
    "\n",
    "# create the figure\n",
    "fig = go.Figure(data=data, layout=layout)\n",
    "fig.show()"
   ]
  },
  {
   "cell_type": "code",
   "execution_count": null,
   "metadata": {},
   "outputs": [],
   "source": []
  },
  {
   "cell_type": "code",
   "execution_count": null,
   "metadata": {},
   "outputs": [],
   "source": []
  },
  {
   "cell_type": "markdown",
   "metadata": {},
   "source": [
    "#### Which teams win the most at home vs away?"
   ]
  },
  {
   "cell_type": "code",
   "execution_count": 238,
   "metadata": {},
   "outputs": [
    {
     "data": {
      "application/vnd.plotly.v1+json": {
       "config": {
        "plotlyServerURL": "https://plot.ly"
       },
       "data": [
        {
         "hovertext": [
          "ATL_2010",
          "ATL_2011",
          "ATL_2012",
          "ATL_2013",
          "ATL_2014",
          "ATL_2015",
          "ATL_2016",
          "ATL_2017",
          "BKN_2010",
          "BKN_2011",
          "BKN_2012",
          "BKN_2013",
          "BKN_2014",
          "BKN_2015",
          "BKN_2016",
          "BKN_2017",
          "BOS_2010",
          "BOS_2011",
          "BOS_2012",
          "BOS_2013",
          "BOS_2014",
          "BOS_2015",
          "BOS_2016",
          "BOS_2017",
          "CHA_2010",
          "CHA_2011",
          "CHA_2012",
          "CHA_2013",
          "CHA_2014",
          "CHA_2015",
          "CHA_2016",
          "CHA_2017",
          "CHI_2010",
          "CHI_2011",
          "CHI_2012",
          "CHI_2013",
          "CHI_2014",
          "CHI_2015",
          "CHI_2016",
          "CHI_2017",
          "CLE_2010",
          "CLE_2011",
          "CLE_2012",
          "CLE_2013",
          "CLE_2014",
          "CLE_2015",
          "CLE_2016",
          "CLE_2017",
          "DAL_2010",
          "DAL_2011",
          "DAL_2012",
          "DAL_2013",
          "DAL_2014",
          "DAL_2015",
          "DAL_2016",
          "DAL_2017",
          "DEN_2010",
          "DEN_2011",
          "DEN_2012",
          "DEN_2013",
          "DEN_2014",
          "DEN_2015",
          "DEN_2016",
          "DEN_2017",
          "DET_2010",
          "DET_2011",
          "DET_2012",
          "DET_2013",
          "DET_2014",
          "DET_2015",
          "DET_2016",
          "DET_2017",
          "GSW_2010",
          "GSW_2011",
          "GSW_2012",
          "GSW_2013",
          "GSW_2014",
          "GSW_2015",
          "GSW_2016",
          "GSW_2017",
          "HOU_2010",
          "HOU_2011",
          "HOU_2012",
          "HOU_2013",
          "HOU_2014",
          "HOU_2015",
          "HOU_2016",
          "HOU_2017",
          "IND_2010",
          "IND_2011",
          "IND_2012",
          "IND_2013",
          "IND_2014",
          "IND_2015",
          "IND_2016",
          "IND_2017",
          "LAC_2010",
          "LAC_2011",
          "LAC_2012",
          "LAC_2013",
          "LAC_2014",
          "LAC_2015",
          "LAC_2016",
          "LAC_2017",
          "LAL_2010",
          "LAL_2011",
          "LAL_2012",
          "LAL_2013",
          "LAL_2014",
          "LAL_2015",
          "LAL_2016",
          "LAL_2017",
          "MEM_2010",
          "MEM_2011",
          "MEM_2012",
          "MEM_2013",
          "MEM_2014",
          "MEM_2015",
          "MEM_2016",
          "MEM_2017",
          "MIA_2010",
          "MIA_2011",
          "MIA_2012",
          "MIA_2013",
          "MIA_2014",
          "MIA_2015",
          "MIA_2016",
          "MIA_2017",
          "MIL_2010",
          "MIL_2011",
          "MIL_2012",
          "MIL_2013",
          "MIL_2014",
          "MIL_2015",
          "MIL_2016",
          "MIL_2017",
          "MIN_2010",
          "MIN_2011",
          "MIN_2012",
          "MIN_2013",
          "MIN_2014",
          "MIN_2015",
          "MIN_2016",
          "MIN_2017",
          "NOP_2010",
          "NOP_2011",
          "NOP_2012",
          "NOP_2013",
          "NOP_2014",
          "NOP_2015",
          "NOP_2016",
          "NOP_2017",
          "NYK_2010",
          "NYK_2011",
          "NYK_2012",
          "NYK_2013",
          "NYK_2014",
          "NYK_2015",
          "NYK_2016",
          "NYK_2017",
          "OKC_2010",
          "OKC_2011",
          "OKC_2012",
          "OKC_2013",
          "OKC_2014",
          "OKC_2015",
          "OKC_2016",
          "OKC_2017",
          "ORL_2010",
          "ORL_2011",
          "ORL_2012",
          "ORL_2013",
          "ORL_2014",
          "ORL_2015",
          "ORL_2016",
          "ORL_2017",
          "PHI_2010",
          "PHI_2011",
          "PHI_2012",
          "PHI_2013",
          "PHI_2014",
          "PHI_2015",
          "PHI_2016",
          "PHI_2017",
          "PHX_2010",
          "PHX_2011",
          "PHX_2012",
          "PHX_2013",
          "PHX_2014",
          "PHX_2015",
          "PHX_2016",
          "PHX_2017",
          "POR_2010",
          "POR_2011",
          "POR_2012",
          "POR_2013",
          "POR_2014",
          "POR_2015",
          "POR_2016",
          "POR_2017",
          "SAC_2010",
          "SAC_2011",
          "SAC_2012",
          "SAC_2013",
          "SAC_2014",
          "SAC_2015",
          "SAC_2016",
          "SAC_2017",
          "SAS_2010",
          "SAS_2011",
          "SAS_2012",
          "SAS_2013",
          "SAS_2014",
          "SAS_2015",
          "SAS_2016",
          "SAS_2017",
          "TOR_2010",
          "TOR_2011",
          "TOR_2012",
          "TOR_2013",
          "TOR_2014",
          "TOR_2015",
          "TOR_2016",
          "TOR_2017",
          "UTA_2010",
          "UTA_2011",
          "UTA_2012",
          "UTA_2013",
          "UTA_2014",
          "UTA_2015",
          "UTA_2016",
          "UTA_2017",
          "WAS_2010",
          "WAS_2011",
          "WAS_2012",
          "WAS_2013",
          "WAS_2014",
          "WAS_2015",
          "WAS_2016",
          "WAS_2017"
         ],
         "mode": "markers",
         "type": "scatter",
         "x": [
          -1.0638297872340416,
          4.555555555555543,
          1.5454545454545467,
          1.7272727272727195,
          7.408163265306129,
          5.934782608695642,
          0.36363636363635976,
          -4.0487804878048905,
          -3.2439024390243816,
          -6.5454545454545325,
          2.8888888888888857,
          3.2608695652173907,
          -2.4090909090909065,
          -5.073170731707322,
          -5.536585365853654,
          -3.0975609756097526,
          7.733333333333334,
          7.116279069767444,
          3.883720930232556,
          -2.4878048780487916,
          1.1162790697674438,
          5.295454545454547,
          2.4313725490196134,
          5.730769230769241,
          -0.6341463414634205,
          -12.36363636363636,
          -4.2195121951219505,
          1.5348837209302246,
          -1.6097560975609753,
          6.2272727272727195,
          3.2195121951219505,
          1.9268292682926784,
          9.64,
          7.5277777777777715,
          1.282608695652172,
          4.13636363636364,
          3.659574468085097,
          1.6341463414634205,
          1.75,
          -4.585365853658544,
          -5.682926829268297,
          -6.9090909090909065,
          -3.0243902439024453,
          0.19512195121951947,
          6.82352941176471,
          10.137254901960787,
          8.183673469387756,
          1.7692307692307594,
          6.65384615384616,
          3.657142857142844,
          2.3902439024390247,
          3.5,
          4.232558139534888,
          1.3255813953488484,
          1.4878048780487774,
          -0.07317073170732158,
          10.069767441860463,
          4.305555555555557,
          9.88636363636364,
          0.8780487804878021,
          0.31707317073170316,
          -2.3414634146341484,
          3.170731707317074,
          5.975609756097555,
          -0.4634146341463463,
          -0.5454545454545467,
          -0.58536585365853,
          -2.4878048780487774,
          0.3414634146341484,
          4.4883720930232585,
          4.048780487804876,
          3.121951219512198,
          2.731707317073173,
          -2.181818181818187,
          3.7872340425531803,
          7.4090909090909065,
          13.096153846153854,
          13.672727272727272,
          16.120000000000005,
          9.34615384615384,
          4.707317073170728,
          4.787878787878782,
          6.568181818181813,
          8.431818181818173,
          5.219999999999999,
          1,
          7.9787234042553195,
          8.764705882352942,
          3.3255813953488342,
          6.051282051282058,
          8.060000000000002,
          8.333333333333329,
          2.707317073170728,
          4.204545454545453,
          4.767441860465112,
          3.5227272727272663,
          1.1707317073170742,
          4.26315789473685,
          10.38636363636364,
          10.0625,
          7.979166666666657,
          7.11363636363636,
          7.8444444444444485,
          1.024390243902431,
          7.760869565217391,
          5.743589743589752,
          3.7674418604651265,
          -4.121951219512198,
          -5.2195121951219505,
          -6.195121951219505,
          -1.560975609756099,
          0.8780487804878021,
          7.085106382978722,
          5.972972972972968,
          6.208333333333343,
          2.0227272727272663,
          5.808510638297875,
          -0.3488372093023173,
          2.1136363636363598,
          -2.731707317073173,
          8.711538461538467,
          11.021739130434781,
          10.444444444444443,
          6.862745098039213,
          -1.0243902439024453,
          6.458333333333343,
          3.9512195121951237,
          1.3953488372092977,
          2.0487804878048763,
          0.4848484848484844,
          -0.4651162790697754,
          -7.121951219512198,
          0.18181818181817277,
          -1.024390243902431,
          2.6363636363636402,
          1.75,
          -3.292682926829258,
          -2.2727272727272805,
          0.8048780487804805,
          6.2195121951219505,
          -7.121951219512198,
          -3.8048780487804805,
          2.902439024390233,
          5.348837209302317,
          2.7045454545454533,
          -2.757575757575765,
          -2.146341463414629,
          1.1951219512195195,
          3.534883720930239,
          -0.6585365853658516,
          0.560975609756099,
          1.7333333333333343,
          1.139534883720927,
          6.400000000000006,
          8.531914893617014,
          0.8292682926829258,
          -8.097560975609753,
          -1.4878048780487774,
          -1.5853658536585442,
          1.0731707317073216,
          6.1200000000000045,
          9.581395348837205,
          11.702127659574458,
          8.019607843137251,
          7,
          10.47999999999999,
          5.627906976744185,
          5.25,
          8.88636363636364,
          2.914285714285711,
          -7,
          -1,
          -5.2195121951219505,
          2.3414634146341484,
          -3.585365853658544,
          -3.58536585365853,
          4.813953488372093,
          6.333333333333329,
          -1.2195121951219505,
          -9.975609756097569,
          -5.048780487804876,
          -9.634146341463406,
          -3.560975609756099,
          8.130434782608702,
          0.8292682926829258,
          2.787878787878796,
          -3.1951219512195195,
          5.414634146341456,
          1.0487804878048763,
          -2.707317073170742,
          -2.2439024390243816,
          -10.292682926829272,
          5.2272727272727195,
          5.606060606060609,
          0.3414634146341484,
          5.521739130434781,
          7.976744186046503,
          5.739130434782609,
          2.1860465116279073,
          4.139534883720941,
          -3.439024390243901,
          -2.3636363636363598,
          -0.2439024390243958,
          -0.4878048780487916,
          -0.9512195121951237,
          -1.121951219512198,
          -1.853658536585371,
          -5.268292682926827,
          9.454545454545453,
          11.974999999999994,
          10.019607843137251,
          10.203703703703695,
          9.204545454545453,
          14.304347826086953,
          7.469387755102034,
          7.023255813953497,
          -2.560975609756099,
          -0.6060606060606091,
          1.8292682926829258,
          4.24444444444444,
          3.720930232558132,
          5.884615384615387,
          6.630434782608688,
          9.521739130434781,
          0.8048780487804947,
          5.171428571428578,
          5.097560975609753,
          -3.682926829268297,
          2.9268292682926926,
          5.512195121951223,
          4.760869565217391,
          6.91304347826086,
          -2.0487804878048763,
          -2.393939393939391,
          2.707317073170728,
          1.1304347826086882,
          6.065217391304358,
          2.536585365853668,
          5.702127659574458,
          3.3636363636363598
         ],
         "y": [
          -1.4893617021276526,
          0.9722222222222285,
          -1.5,
          -2.7111111111111086,
          1.6122448979591866,
          0.28260869565217206,
          -2.113636363636374,
          -6.853658536585371,
          -9.243902439024396,
          -5.424242424242422,
          0.681818181818187,
          -5.166666666666671,
          -3.7045454545454675,
          -9.63414634146342,
          -7.926829268292693,
          -4.390243902439025,
          2.2608695652173907,
          -2.7906976744186096,
          -4.931818181818187,
          -6.439024390243901,
          -1.6744186046511658,
          -0.22727272727273373,
          0.816326530612244,
          0.18367346938775597,
          -7.365853658536594,
          -15.454545454545467,
          -14.243902439024396,
          -2.860465116279073,
          -4.731707317073173,
          -2.5111111111111057,
          -2.82926829268294,
          -1.4146341463414558,
          3.875,
          7.194444444444443,
          -2.354166666666657,
          -1.2325581395348877,
          2.4468085106382915,
          -4.58536585365853,
          -1.886363636363626,
          -9.487804878048792,
          -12.341463414634148,
          -7.484848484848484,
          -6.341463414634134,
          -6.7804878048780495,
          1.9411764705882462,
          3,
          0.05882352941176805,
          -1.0192307692307594,
          2.3921568627450966,
          -2.6000000000000085,
          -3.58536585365853,
          0.6444444444444457,
          0.7954545454545467,
          -3.931818181818187,
          -7.341463414634148,
          -6,
          -1.5227272727272805,
          1.0270270270270174,
          -0.9772727272727337,
          -5.170731707317074,
          -7.41463414634147,
          -3.853658536585357,
          -2.146341463414629,
          -3.0243902439024453,
          -6.731707317073173,
          -9.030303030303031,
          -7.390243902439025,
          -4.82926829268294,
          -2.3414634146341484,
          -4.11627906976743,
          -6.292682926829258,
          -3.414634146341456,
          -7.390243902439025,
          -4.636363636363626,
          -2.191489361702139,
          0.8222222222222229,
          6.098039215686271,
          4.607843137254903,
          7.714285714285708,
          4.196078431372541,
          -0.3414634146341484,
          -4.333333333333329,
          -0.8863636363636402,
          0.11363636363635976,
          -0.4285714285714306,
          -2.75,
          2.4130434782608745,
          5.8125,
          -6.090909090909079,
          -0.07894736842105488,
          -1.480000000000004,
          -1.6599999999999966,
          -2.146341463414629,
          -0.7777777777777857,
          -5.558139534883722,
          -0.04444444444445139,
          -7.439024390243901,
          -1.1282051282051384,
          0.8863636363636402,
          2.4468085106383057,
          3.6666666666666714,
          1,
          -0.20454545454545325,
          -0.9512195121951237,
          2.847826086956516,
          -4.615384615384613,
          -3.302325581395351,
          -8.463414634146346,
          -8.463414634146346,
          -12.926829268292693,
          -12.19512195121952,
          -3.975609756097569,
          -3.125,
          -2.305555555555543,
          1.0408163265306172,
          0.04444444444445139,
          -0.45652173913043725,
          -5.976744186046503,
          -2.3409090909090935,
          -9.682926829268297,
          4.215686274509807,
          1.1860465116279073,
          4.490196078431367,
          1.470588235294116,
          -4.170731707317074,
          -2.7291666666666714,
          -1.8292682926829258,
          -1.7045454545454533,
          -3.731707317073173,
          0.06060606060606233,
          -3.7674418604651265,
          -9.243902439024396,
          -1.068181818181813,
          -7.341463414634134,
          -3.068181818181813,
          -2.3555555555555543,
          -9.975609756097555,
          -2.1212121212121247,
          -5.536585365853654,
          -0.8780487804878021,
          -10.463414634146332,
          -3.268292682926827,
          -5.121951219512198,
          -2.0681818181818272,
          -2.0227272727272805,
          -4.757575757575751,
          -5.58536585365853,
          -6.609756097560975,
          -2.7674418604651123,
          -6.926829268292678,
          -4.756097560975618,
          0.4782608695652186,
          -0.4418604651162781,
          -2.305555555555557,
          -0.46808510638297207,
          -2.41463414634147,
          -10.536585365853668,
          -3.975609756097569,
          -5.756097560975604,
          -8.195121951219505,
          0.7551020408163254,
          1.6744186046511658,
          4.782608695652172,
          1.8199999999999932,
          -2.6341463414634063,
          3.3599999999999994,
          -5.068181818181813,
          0.5227272727272663,
          1.5454545454545467,
          -2.8888888888888857,
          -6.975609756097555,
          -9.878048780487802,
          -6.2195121951219505,
          -5.58536585365853,
          -9.560975609756099,
          -6.048780487804876,
          -2.75,
          0.42499999999999716,
          -5.463414634146332,
          -10.926829268292693,
          -12.902439024390247,
          -10.829268292682926,
          -7.829268292682926,
          0.7391304347826093,
          -2.6097560975609753,
          -3.2727272727272663,
          -9.731707317073173,
          -0.14634146341464316,
          -2.853658536585371,
          -10.609756097560975,
          -9.024390243902445,
          -8.439024390243901,
          -3.0909090909090935,
          -6.848484848484858,
          -6.682926829268297,
          0.0851063829787222,
          -0.681818181818187,
          -4.765957446808514,
          -4.860465116279073,
          -0.023255813953483084,
          -7.243902439024396,
          -9,
          -9.512195121951208,
          -5.317073170731703,
          -6.463414634146346,
          -3.829268292682926,
          -5.902439024390247,
          -8.707317073170742,
          0.75,
          1.9249999999999972,
          3.0961538461538396,
          5.803921568627445,
          2.3555555555555543,
          6.6304347826087024,
          4.897959183673464,
          -2.4772727272727337,
          -10,
          -6,
          -4.7804878048780495,
          1.4545454545454533,
          0.83720930232559,
          -0.4399999999999977,
          -0.36956521739129755,
          3.391304347826093,
          -4.463414634146332,
          -5.828571428571436,
          -5.268292682926827,
          -10.658536585365852,
          -2.4878048780487916,
          -1.9268292682926784,
          1.1063829787234027,
          0.23404255319148604,
          -12.756097560975618,
          -7.212121212121218,
          -7.7804878048780495,
          1.3191489361702082,
          -3.934782608695656,
          -3.5365853658536537,
          -2.5,
          -2.5454545454545467
         ]
        }
       ],
       "layout": {
        "autosize": true,
        "hovermode": "closest",
        "template": {
         "data": {
          "bar": [
           {
            "error_x": {
             "color": "#2a3f5f"
            },
            "error_y": {
             "color": "#2a3f5f"
            },
            "marker": {
             "line": {
              "color": "#E5ECF6",
              "width": 0.5
             }
            },
            "type": "bar"
           }
          ],
          "barpolar": [
           {
            "marker": {
             "line": {
              "color": "#E5ECF6",
              "width": 0.5
             }
            },
            "type": "barpolar"
           }
          ],
          "carpet": [
           {
            "aaxis": {
             "endlinecolor": "#2a3f5f",
             "gridcolor": "white",
             "linecolor": "white",
             "minorgridcolor": "white",
             "startlinecolor": "#2a3f5f"
            },
            "baxis": {
             "endlinecolor": "#2a3f5f",
             "gridcolor": "white",
             "linecolor": "white",
             "minorgridcolor": "white",
             "startlinecolor": "#2a3f5f"
            },
            "type": "carpet"
           }
          ],
          "choropleth": [
           {
            "colorbar": {
             "outlinewidth": 0,
             "ticks": ""
            },
            "type": "choropleth"
           }
          ],
          "contour": [
           {
            "colorbar": {
             "outlinewidth": 0,
             "ticks": ""
            },
            "colorscale": [
             [
              0,
              "#0d0887"
             ],
             [
              0.1111111111111111,
              "#46039f"
             ],
             [
              0.2222222222222222,
              "#7201a8"
             ],
             [
              0.3333333333333333,
              "#9c179e"
             ],
             [
              0.4444444444444444,
              "#bd3786"
             ],
             [
              0.5555555555555556,
              "#d8576b"
             ],
             [
              0.6666666666666666,
              "#ed7953"
             ],
             [
              0.7777777777777778,
              "#fb9f3a"
             ],
             [
              0.8888888888888888,
              "#fdca26"
             ],
             [
              1,
              "#f0f921"
             ]
            ],
            "type": "contour"
           }
          ],
          "contourcarpet": [
           {
            "colorbar": {
             "outlinewidth": 0,
             "ticks": ""
            },
            "type": "contourcarpet"
           }
          ],
          "heatmap": [
           {
            "colorbar": {
             "outlinewidth": 0,
             "ticks": ""
            },
            "colorscale": [
             [
              0,
              "#0d0887"
             ],
             [
              0.1111111111111111,
              "#46039f"
             ],
             [
              0.2222222222222222,
              "#7201a8"
             ],
             [
              0.3333333333333333,
              "#9c179e"
             ],
             [
              0.4444444444444444,
              "#bd3786"
             ],
             [
              0.5555555555555556,
              "#d8576b"
             ],
             [
              0.6666666666666666,
              "#ed7953"
             ],
             [
              0.7777777777777778,
              "#fb9f3a"
             ],
             [
              0.8888888888888888,
              "#fdca26"
             ],
             [
              1,
              "#f0f921"
             ]
            ],
            "type": "heatmap"
           }
          ],
          "heatmapgl": [
           {
            "colorbar": {
             "outlinewidth": 0,
             "ticks": ""
            },
            "colorscale": [
             [
              0,
              "#0d0887"
             ],
             [
              0.1111111111111111,
              "#46039f"
             ],
             [
              0.2222222222222222,
              "#7201a8"
             ],
             [
              0.3333333333333333,
              "#9c179e"
             ],
             [
              0.4444444444444444,
              "#bd3786"
             ],
             [
              0.5555555555555556,
              "#d8576b"
             ],
             [
              0.6666666666666666,
              "#ed7953"
             ],
             [
              0.7777777777777778,
              "#fb9f3a"
             ],
             [
              0.8888888888888888,
              "#fdca26"
             ],
             [
              1,
              "#f0f921"
             ]
            ],
            "type": "heatmapgl"
           }
          ],
          "histogram": [
           {
            "marker": {
             "colorbar": {
              "outlinewidth": 0,
              "ticks": ""
             }
            },
            "type": "histogram"
           }
          ],
          "histogram2d": [
           {
            "colorbar": {
             "outlinewidth": 0,
             "ticks": ""
            },
            "colorscale": [
             [
              0,
              "#0d0887"
             ],
             [
              0.1111111111111111,
              "#46039f"
             ],
             [
              0.2222222222222222,
              "#7201a8"
             ],
             [
              0.3333333333333333,
              "#9c179e"
             ],
             [
              0.4444444444444444,
              "#bd3786"
             ],
             [
              0.5555555555555556,
              "#d8576b"
             ],
             [
              0.6666666666666666,
              "#ed7953"
             ],
             [
              0.7777777777777778,
              "#fb9f3a"
             ],
             [
              0.8888888888888888,
              "#fdca26"
             ],
             [
              1,
              "#f0f921"
             ]
            ],
            "type": "histogram2d"
           }
          ],
          "histogram2dcontour": [
           {
            "colorbar": {
             "outlinewidth": 0,
             "ticks": ""
            },
            "colorscale": [
             [
              0,
              "#0d0887"
             ],
             [
              0.1111111111111111,
              "#46039f"
             ],
             [
              0.2222222222222222,
              "#7201a8"
             ],
             [
              0.3333333333333333,
              "#9c179e"
             ],
             [
              0.4444444444444444,
              "#bd3786"
             ],
             [
              0.5555555555555556,
              "#d8576b"
             ],
             [
              0.6666666666666666,
              "#ed7953"
             ],
             [
              0.7777777777777778,
              "#fb9f3a"
             ],
             [
              0.8888888888888888,
              "#fdca26"
             ],
             [
              1,
              "#f0f921"
             ]
            ],
            "type": "histogram2dcontour"
           }
          ],
          "mesh3d": [
           {
            "colorbar": {
             "outlinewidth": 0,
             "ticks": ""
            },
            "type": "mesh3d"
           }
          ],
          "parcoords": [
           {
            "line": {
             "colorbar": {
              "outlinewidth": 0,
              "ticks": ""
             }
            },
            "type": "parcoords"
           }
          ],
          "pie": [
           {
            "automargin": true,
            "type": "pie"
           }
          ],
          "scatter": [
           {
            "marker": {
             "colorbar": {
              "outlinewidth": 0,
              "ticks": ""
             }
            },
            "type": "scatter"
           }
          ],
          "scatter3d": [
           {
            "line": {
             "colorbar": {
              "outlinewidth": 0,
              "ticks": ""
             }
            },
            "marker": {
             "colorbar": {
              "outlinewidth": 0,
              "ticks": ""
             }
            },
            "type": "scatter3d"
           }
          ],
          "scattercarpet": [
           {
            "marker": {
             "colorbar": {
              "outlinewidth": 0,
              "ticks": ""
             }
            },
            "type": "scattercarpet"
           }
          ],
          "scattergeo": [
           {
            "marker": {
             "colorbar": {
              "outlinewidth": 0,
              "ticks": ""
             }
            },
            "type": "scattergeo"
           }
          ],
          "scattergl": [
           {
            "marker": {
             "colorbar": {
              "outlinewidth": 0,
              "ticks": ""
             }
            },
            "type": "scattergl"
           }
          ],
          "scattermapbox": [
           {
            "marker": {
             "colorbar": {
              "outlinewidth": 0,
              "ticks": ""
             }
            },
            "type": "scattermapbox"
           }
          ],
          "scatterpolar": [
           {
            "marker": {
             "colorbar": {
              "outlinewidth": 0,
              "ticks": ""
             }
            },
            "type": "scatterpolar"
           }
          ],
          "scatterpolargl": [
           {
            "marker": {
             "colorbar": {
              "outlinewidth": 0,
              "ticks": ""
             }
            },
            "type": "scatterpolargl"
           }
          ],
          "scatterternary": [
           {
            "marker": {
             "colorbar": {
              "outlinewidth": 0,
              "ticks": ""
             }
            },
            "type": "scatterternary"
           }
          ],
          "surface": [
           {
            "colorbar": {
             "outlinewidth": 0,
             "ticks": ""
            },
            "colorscale": [
             [
              0,
              "#0d0887"
             ],
             [
              0.1111111111111111,
              "#46039f"
             ],
             [
              0.2222222222222222,
              "#7201a8"
             ],
             [
              0.3333333333333333,
              "#9c179e"
             ],
             [
              0.4444444444444444,
              "#bd3786"
             ],
             [
              0.5555555555555556,
              "#d8576b"
             ],
             [
              0.6666666666666666,
              "#ed7953"
             ],
             [
              0.7777777777777778,
              "#fb9f3a"
             ],
             [
              0.8888888888888888,
              "#fdca26"
             ],
             [
              1,
              "#f0f921"
             ]
            ],
            "type": "surface"
           }
          ],
          "table": [
           {
            "cells": {
             "fill": {
              "color": "#EBF0F8"
             },
             "line": {
              "color": "white"
             }
            },
            "header": {
             "fill": {
              "color": "#C8D4E3"
             },
             "line": {
              "color": "white"
             }
            },
            "type": "table"
           }
          ]
         },
         "layout": {
          "annotationdefaults": {
           "arrowcolor": "#2a3f5f",
           "arrowhead": 0,
           "arrowwidth": 1
          },
          "coloraxis": {
           "colorbar": {
            "outlinewidth": 0,
            "ticks": ""
           }
          },
          "colorscale": {
           "diverging": [
            [
             0,
             "#8e0152"
            ],
            [
             0.1,
             "#c51b7d"
            ],
            [
             0.2,
             "#de77ae"
            ],
            [
             0.3,
             "#f1b6da"
            ],
            [
             0.4,
             "#fde0ef"
            ],
            [
             0.5,
             "#f7f7f7"
            ],
            [
             0.6,
             "#e6f5d0"
            ],
            [
             0.7,
             "#b8e186"
            ],
            [
             0.8,
             "#7fbc41"
            ],
            [
             0.9,
             "#4d9221"
            ],
            [
             1,
             "#276419"
            ]
           ],
           "sequential": [
            [
             0,
             "#0d0887"
            ],
            [
             0.1111111111111111,
             "#46039f"
            ],
            [
             0.2222222222222222,
             "#7201a8"
            ],
            [
             0.3333333333333333,
             "#9c179e"
            ],
            [
             0.4444444444444444,
             "#bd3786"
            ],
            [
             0.5555555555555556,
             "#d8576b"
            ],
            [
             0.6666666666666666,
             "#ed7953"
            ],
            [
             0.7777777777777778,
             "#fb9f3a"
            ],
            [
             0.8888888888888888,
             "#fdca26"
            ],
            [
             1,
             "#f0f921"
            ]
           ],
           "sequentialminus": [
            [
             0,
             "#0d0887"
            ],
            [
             0.1111111111111111,
             "#46039f"
            ],
            [
             0.2222222222222222,
             "#7201a8"
            ],
            [
             0.3333333333333333,
             "#9c179e"
            ],
            [
             0.4444444444444444,
             "#bd3786"
            ],
            [
             0.5555555555555556,
             "#d8576b"
            ],
            [
             0.6666666666666666,
             "#ed7953"
            ],
            [
             0.7777777777777778,
             "#fb9f3a"
            ],
            [
             0.8888888888888888,
             "#fdca26"
            ],
            [
             1,
             "#f0f921"
            ]
           ]
          },
          "colorway": [
           "#636efa",
           "#EF553B",
           "#00cc96",
           "#ab63fa",
           "#FFA15A",
           "#19d3f3",
           "#FF6692",
           "#B6E880",
           "#FF97FF",
           "#FECB52"
          ],
          "font": {
           "color": "#2a3f5f"
          },
          "geo": {
           "bgcolor": "white",
           "lakecolor": "white",
           "landcolor": "#E5ECF6",
           "showlakes": true,
           "showland": true,
           "subunitcolor": "white"
          },
          "hoverlabel": {
           "align": "left"
          },
          "hovermode": "closest",
          "mapbox": {
           "style": "light"
          },
          "paper_bgcolor": "white",
          "plot_bgcolor": "#E5ECF6",
          "polar": {
           "angularaxis": {
            "gridcolor": "white",
            "linecolor": "white",
            "ticks": ""
           },
           "bgcolor": "#E5ECF6",
           "radialaxis": {
            "gridcolor": "white",
            "linecolor": "white",
            "ticks": ""
           }
          },
          "scene": {
           "xaxis": {
            "backgroundcolor": "#E5ECF6",
            "gridcolor": "white",
            "gridwidth": 2,
            "linecolor": "white",
            "showbackground": true,
            "ticks": "",
            "zerolinecolor": "white"
           },
           "yaxis": {
            "backgroundcolor": "#E5ECF6",
            "gridcolor": "white",
            "gridwidth": 2,
            "linecolor": "white",
            "showbackground": true,
            "ticks": "",
            "zerolinecolor": "white"
           },
           "zaxis": {
            "backgroundcolor": "#E5ECF6",
            "gridcolor": "white",
            "gridwidth": 2,
            "linecolor": "white",
            "showbackground": true,
            "ticks": "",
            "zerolinecolor": "white"
           }
          },
          "shapedefaults": {
           "line": {
            "color": "#2a3f5f"
           }
          },
          "ternary": {
           "aaxis": {
            "gridcolor": "white",
            "linecolor": "white",
            "ticks": ""
           },
           "baxis": {
            "gridcolor": "white",
            "linecolor": "white",
            "ticks": ""
           },
           "bgcolor": "#E5ECF6",
           "caxis": {
            "gridcolor": "white",
            "linecolor": "white",
            "ticks": ""
           }
          },
          "title": {
           "x": 0.05
          },
          "xaxis": {
           "automargin": true,
           "gridcolor": "white",
           "linecolor": "white",
           "ticks": "",
           "title": {
            "standoff": 15
           },
           "zerolinecolor": "white",
           "zerolinewidth": 2
          },
          "yaxis": {
           "automargin": true,
           "gridcolor": "white",
           "linecolor": "white",
           "ticks": "",
           "title": {
            "standoff": 15
           },
           "zerolinecolor": "white",
           "zerolinewidth": 2
          }
         }
        },
        "title": {
         "text": "Home vs Away Score Differential"
        },
        "xaxis": {
         "autorange": true,
         "range": [
          -14.116506991500525,
          17.87287062786417
         ],
         "title": {
          "text": "Home Diff"
         },
         "type": "linear"
        },
        "yaxis": {
         "autorange": true,
         "range": [
          -17.15162544461909,
          9.41136570435933
         ],
         "title": {
          "text": "Away Diff"
         },
         "type": "linear"
        }
       }
      },
      "image/png": "[encoded data removed]",
      "text/html": [
       "<div>                            <div id=\"a5049d1a-2cdc-4d47-943b-52ee09517cc9\" class=\"plotly-graph-div\" style=\"height:525px; width:100%;\"></div>            <script type=\"text/javascript\">                require([\"plotly\"], function(Plotly) {                    window.PLOTLYENV=window.PLOTLYENV || {};                                    if (document.getElementById(\"a5049d1a-2cdc-4d47-943b-52ee09517cc9\")) {                    Plotly.newPlot(                        \"a5049d1a-2cdc-4d47-943b-52ee09517cc9\",                        [{\"hovertext\": [\"ATL_2010\", \"ATL_2011\", \"ATL_2012\", \"ATL_2013\", \"ATL_2014\", \"ATL_2015\", \"ATL_2016\", \"ATL_2017\", \"BKN_2010\", \"BKN_2011\", \"BKN_2012\", \"BKN_2013\", \"BKN_2014\", \"BKN_2015\", \"BKN_2016\", \"BKN_2017\", \"BOS_2010\", \"BOS_2011\", \"BOS_2012\", \"BOS_2013\", \"BOS_2014\", \"BOS_2015\", \"BOS_2016\", \"BOS_2017\", \"CHA_2010\", \"CHA_2011\", \"CHA_2012\", \"CHA_2013\", \"CHA_2014\", \"CHA_2015\", \"CHA_2016\", \"CHA_2017\", \"CHI_2010\", \"CHI_2011\", \"CHI_2012\", \"CHI_2013\", \"CHI_2014\", \"CHI_2015\", \"CHI_2016\", \"CHI_2017\", \"CLE_2010\", \"CLE_2011\", \"CLE_2012\", \"CLE_2013\", \"CLE_2014\", \"CLE_2015\", \"CLE_2016\", \"CLE_2017\", \"DAL_2010\", \"DAL_2011\", \"DAL_2012\", \"DAL_2013\", \"DAL_2014\", \"DAL_2015\", \"DAL_2016\", \"DAL_2017\", \"DEN_2010\", \"DEN_2011\", \"DEN_2012\", \"DEN_2013\", \"DEN_2014\", \"DEN_2015\", \"DEN_2016\", \"DEN_2017\", \"DET_2010\", \"DET_2011\", \"DET_2012\", \"DET_2013\", \"DET_2014\", \"DET_2015\", \"DET_2016\", \"DET_2017\", \"GSW_2010\", \"GSW_2011\", \"GSW_2012\", \"GSW_2013\", \"GSW_2014\", \"GSW_2015\", \"GSW_2016\", \"GSW_2017\", \"HOU_2010\", \"HOU_2011\", \"HOU_2012\", \"HOU_2013\", \"HOU_2014\", \"HOU_2015\", \"HOU_2016\", \"HOU_2017\", \"IND_2010\", \"IND_2011\", \"IND_2012\", \"IND_2013\", \"IND_2014\", \"IND_2015\", \"IND_2016\", \"IND_2017\", \"LAC_2010\", \"LAC_2011\", \"LAC_2012\", \"LAC_2013\", \"LAC_2014\", \"LAC_2015\", \"LAC_2016\", \"LAC_2017\", \"LAL_2010\", \"LAL_2011\", \"LAL_2012\", \"LAL_2013\", \"LAL_2014\", \"LAL_2015\", \"LAL_2016\", \"LAL_2017\", \"MEM_2010\", \"MEM_2011\", \"MEM_2012\", \"MEM_2013\", \"MEM_2014\", \"MEM_2015\", \"MEM_2016\", \"MEM_2017\", \"MIA_2010\", \"MIA_2011\", \"MIA_2012\", \"MIA_2013\", \"MIA_2014\", \"MIA_2015\", \"MIA_2016\", \"MIA_2017\", \"MIL_2010\", \"MIL_2011\", \"MIL_2012\", \"MIL_2013\", \"MIL_2014\", \"MIL_2015\", \"MIL_2016\", \"MIL_2017\", \"MIN_2010\", \"MIN_2011\", \"MIN_2012\", \"MIN_2013\", \"MIN_2014\", \"MIN_2015\", \"MIN_2016\", \"MIN_2017\", \"NOP_2010\", \"NOP_2011\", \"NOP_2012\", \"NOP_2013\", \"NOP_2014\", \"NOP_2015\", \"NOP_2016\", \"NOP_2017\", \"NYK_2010\", \"NYK_2011\", \"NYK_2012\", \"NYK_2013\", \"NYK_2014\", \"NYK_2015\", \"NYK_2016\", \"NYK_2017\", \"OKC_2010\", \"OKC_2011\", \"OKC_2012\", \"OKC_2013\", \"OKC_2014\", \"OKC_2015\", \"OKC_2016\", \"OKC_2017\", \"ORL_2010\", \"ORL_2011\", \"ORL_2012\", \"ORL_2013\", \"ORL_2014\", \"ORL_2015\", \"ORL_2016\", \"ORL_2017\", \"PHI_2010\", \"PHI_2011\", \"PHI_2012\", \"PHI_2013\", \"PHI_2014\", \"PHI_2015\", \"PHI_2016\", \"PHI_2017\", \"PHX_2010\", \"PHX_2011\", \"PHX_2012\", \"PHX_2013\", \"PHX_2014\", \"PHX_2015\", \"PHX_2016\", \"PHX_2017\", \"POR_2010\", \"POR_2011\", \"POR_2012\", \"POR_2013\", \"POR_2014\", \"POR_2015\", \"POR_2016\", \"POR_2017\", \"SAC_2010\", \"SAC_2011\", \"SAC_2012\", \"SAC_2013\", \"SAC_2014\", \"SAC_2015\", \"SAC_2016\", \"SAC_2017\", \"SAS_2010\", \"SAS_2011\", \"SAS_2012\", \"SAS_2013\", \"SAS_2014\", \"SAS_2015\", \"SAS_2016\", \"SAS_2017\", \"TOR_2010\", \"TOR_2011\", \"TOR_2012\", \"TOR_2013\", \"TOR_2014\", \"TOR_2015\", \"TOR_2016\", \"TOR_2017\", \"UTA_2010\", \"UTA_2011\", \"UTA_2012\", \"UTA_2013\", \"UTA_2014\", \"UTA_2015\", \"UTA_2016\", \"UTA_2017\", \"WAS_2010\", \"WAS_2011\", \"WAS_2012\", \"WAS_2013\", \"WAS_2014\", \"WAS_2015\", \"WAS_2016\", \"WAS_2017\"], \"mode\": \"markers\", \"type\": \"scatter\", \"x\": [-1.0638297872340416, 4.555555555555543, 1.5454545454545467, 1.7272727272727195, 7.408163265306129, 5.934782608695642, 0.36363636363635976, -4.0487804878048905, -3.2439024390243816, -6.5454545454545325, 2.8888888888888857, 3.2608695652173907, -2.4090909090909065, -5.073170731707322, -5.536585365853654, -3.0975609756097526, 7.733333333333334, 7.116279069767444, 3.883720930232556, -2.4878048780487916, 1.1162790697674438, 5.295454545454547, 2.4313725490196134, 5.730769230769241, -0.6341463414634205, -12.36363636363636, -4.2195121951219505, 1.5348837209302246, -1.6097560975609753, 6.2272727272727195, 3.2195121951219505, 1.9268292682926784, 9.64, 7.5277777777777715, 1.282608695652172, 4.13636363636364, 3.659574468085097, 1.6341463414634205, 1.75, -4.585365853658544, -5.682926829268297, -6.9090909090909065, -3.0243902439024453, 0.19512195121951947, 6.82352941176471, 10.137254901960787, 8.183673469387756, 1.7692307692307594, 6.65384615384616, 3.657142857142844, 2.3902439024390247, 3.5, 4.232558139534888, 1.3255813953488484, 1.4878048780487774, -0.07317073170732158, 10.069767441860463, 4.305555555555557, 9.88636363636364, 0.8780487804878021, 0.31707317073170316, -2.3414634146341484, 3.170731707317074, 5.975609756097555, -0.4634146341463463, -0.5454545454545467, -0.58536585365853, -2.4878048780487774, 0.3414634146341484, 4.4883720930232585, 4.048780487804876, 3.121951219512198, 2.731707317073173, -2.181818181818187, 3.7872340425531803, 7.4090909090909065, 13.096153846153854, 13.672727272727272, 16.120000000000005, 9.34615384615384, 4.707317073170728, 4.787878787878782, 6.568181818181813, 8.431818181818173, 5.219999999999999, 1.0, 7.9787234042553195, 8.764705882352942, 3.3255813953488342, 6.051282051282058, 8.060000000000002, 8.333333333333329, 2.707317073170728, 4.204545454545453, 4.767441860465112, 3.5227272727272663, 1.1707317073170742, 4.26315789473685, 10.38636363636364, 10.0625, 7.979166666666657, 7.11363636363636, 7.8444444444444485, 1.024390243902431, 7.760869565217391, 5.743589743589752, 3.7674418604651265, -4.121951219512198, -5.2195121951219505, -6.195121951219505, -1.560975609756099, 0.8780487804878021, 7.085106382978722, 5.972972972972968, 6.208333333333343, 2.0227272727272663, 5.808510638297875, -0.3488372093023173, 2.1136363636363598, -2.731707317073173, 8.711538461538467, 11.021739130434781, 10.444444444444443, 6.862745098039213, -1.0243902439024453, 6.458333333333343, 3.9512195121951237, 1.3953488372092977, 2.0487804878048763, 0.4848484848484844, -0.4651162790697754, -7.121951219512198, 0.18181818181817277, -1.024390243902431, 2.6363636363636402, 1.75, -3.292682926829258, -2.2727272727272805, 0.8048780487804805, 6.2195121951219505, -7.121951219512198, -3.8048780487804805, 2.902439024390233, 5.348837209302317, 2.7045454545454533, -2.757575757575765, -2.146341463414629, 1.1951219512195195, 3.534883720930239, -0.6585365853658516, 0.560975609756099, 1.7333333333333343, 1.139534883720927, 6.400000000000006, 8.531914893617014, 0.8292682926829258, -8.097560975609753, -1.4878048780487774, -1.5853658536585442, 1.0731707317073216, 6.1200000000000045, 9.581395348837205, 11.702127659574458, 8.019607843137251, 7.0, 10.47999999999999, 5.627906976744185, 5.25, 8.88636363636364, 2.914285714285711, -7.0, -1.0, -5.2195121951219505, 2.3414634146341484, -3.585365853658544, -3.58536585365853, 4.813953488372093, 6.333333333333329, -1.2195121951219505, -9.975609756097569, -5.048780487804876, -9.634146341463406, -3.560975609756099, 8.130434782608702, 0.8292682926829258, 2.787878787878796, -3.1951219512195195, 5.414634146341456, 1.0487804878048763, -2.707317073170742, -2.2439024390243816, -10.292682926829272, 5.2272727272727195, 5.606060606060609, 0.3414634146341484, 5.521739130434781, 7.976744186046503, 5.739130434782609, 2.1860465116279073, 4.139534883720941, -3.439024390243901, -2.3636363636363598, -0.2439024390243958, -0.4878048780487916, -0.9512195121951237, -1.121951219512198, -1.853658536585371, -5.268292682926827, 9.454545454545453, 11.974999999999994, 10.019607843137251, 10.203703703703695, 9.204545454545453, 14.304347826086953, 7.469387755102034, 7.023255813953497, -2.560975609756099, -0.6060606060606091, 1.8292682926829258, 4.24444444444444, 3.720930232558132, 5.884615384615387, 6.630434782608688, 9.521739130434781, 0.8048780487804947, 5.171428571428578, 5.097560975609753, -3.682926829268297, 2.9268292682926926, 5.512195121951223, 4.760869565217391, 6.91304347826086, -2.0487804878048763, -2.393939393939391, 2.707317073170728, 1.1304347826086882, 6.065217391304358, 2.536585365853668, 5.702127659574458, 3.3636363636363598], \"y\": [-1.4893617021276526, 0.9722222222222285, -1.5, -2.7111111111111086, 1.6122448979591866, 0.28260869565217206, -2.113636363636374, -6.853658536585371, -9.243902439024396, -5.424242424242422, 0.681818181818187, -5.166666666666671, -3.7045454545454675, -9.63414634146342, -7.926829268292693, -4.390243902439025, 2.2608695652173907, -2.7906976744186096, -4.931818181818187, -6.439024390243901, -1.6744186046511658, -0.22727272727273373, 0.816326530612244, 0.18367346938775597, -7.365853658536594, -15.454545454545467, -14.243902439024396, -2.860465116279073, -4.731707317073173, -2.5111111111111057, -2.82926829268294, -1.4146341463414558, 3.875, 7.194444444444443, -2.354166666666657, -1.2325581395348877, 2.4468085106382915, -4.58536585365853, -1.886363636363626, -9.487804878048792, -12.341463414634148, -7.484848484848484, -6.341463414634134, -6.7804878048780495, 1.9411764705882462, 3.0, 0.05882352941176805, -1.0192307692307594, 2.3921568627450966, -2.6000000000000085, -3.58536585365853, 0.6444444444444457, 0.7954545454545467, -3.931818181818187, -7.341463414634148, -6.0, -1.5227272727272805, 1.0270270270270174, -0.9772727272727337, -5.170731707317074, -7.41463414634147, -3.853658536585357, -2.146341463414629, -3.0243902439024453, -6.731707317073173, -9.030303030303031, -7.390243902439025, -4.82926829268294, -2.3414634146341484, -4.11627906976743, -6.292682926829258, -3.414634146341456, -7.390243902439025, -4.636363636363626, -2.191489361702139, 0.8222222222222229, 6.098039215686271, 4.607843137254903, 7.714285714285708, 4.196078431372541, -0.3414634146341484, -4.333333333333329, -0.8863636363636402, 0.11363636363635976, -0.4285714285714306, -2.75, 2.4130434782608745, 5.8125, -6.090909090909079, -0.07894736842105488, -1.480000000000004, -1.6599999999999966, -2.146341463414629, -0.7777777777777857, -5.558139534883722, -0.04444444444445139, -7.439024390243901, -1.1282051282051384, 0.8863636363636402, 2.4468085106383057, 3.6666666666666714, 1.0, -0.20454545454545325, -0.9512195121951237, 2.847826086956516, -4.615384615384613, -3.302325581395351, -8.463414634146346, -8.463414634146346, -12.926829268292693, -12.19512195121952, -3.975609756097569, -3.125, -2.305555555555543, 1.0408163265306172, 0.04444444444445139, -0.45652173913043725, -5.976744186046503, -2.3409090909090935, -9.682926829268297, 4.215686274509807, 1.1860465116279073, 4.490196078431367, 1.470588235294116, -4.170731707317074, -2.7291666666666714, -1.8292682926829258, -1.7045454545454533, -3.731707317073173, 0.06060606060606233, -3.7674418604651265, -9.243902439024396, -1.068181818181813, -7.341463414634134, -3.068181818181813, -2.3555555555555543, -9.975609756097555, -2.1212121212121247, -5.536585365853654, -0.8780487804878021, -10.463414634146332, -3.268292682926827, -5.121951219512198, -2.0681818181818272, -2.0227272727272805, -4.757575757575751, -5.58536585365853, -6.609756097560975, -2.7674418604651123, -6.926829268292678, -4.756097560975618, 0.4782608695652186, -0.4418604651162781, -2.305555555555557, -0.46808510638297207, -2.41463414634147, -10.536585365853668, -3.975609756097569, -5.756097560975604, -8.195121951219505, 0.7551020408163254, 1.6744186046511658, 4.782608695652172, 1.8199999999999932, -2.6341463414634063, 3.3599999999999994, -5.068181818181813, 0.5227272727272663, 1.5454545454545467, -2.8888888888888857, -6.975609756097555, -9.878048780487802, -6.2195121951219505, -5.58536585365853, -9.560975609756099, -6.048780487804876, -2.75, 0.42499999999999716, -5.463414634146332, -10.926829268292693, -12.902439024390247, -10.829268292682926, -7.829268292682926, 0.7391304347826093, -2.6097560975609753, -3.2727272727272663, -9.731707317073173, -0.14634146341464316, -2.853658536585371, -10.609756097560975, -9.024390243902445, -8.439024390243901, -3.0909090909090935, -6.848484848484858, -6.682926829268297, 0.0851063829787222, -0.681818181818187, -4.765957446808514, -4.860465116279073, -0.023255813953483084, -7.243902439024396, -9.0, -9.512195121951208, -5.317073170731703, -6.463414634146346, -3.829268292682926, -5.902439024390247, -8.707317073170742, 0.75, 1.9249999999999972, 3.0961538461538396, 5.803921568627445, 2.3555555555555543, 6.6304347826087024, 4.897959183673464, -2.4772727272727337, -10.0, -6.0, -4.7804878048780495, 1.4545454545454533, 0.83720930232559, -0.4399999999999977, -0.36956521739129755, 3.391304347826093, -4.463414634146332, -5.828571428571436, -5.268292682926827, -10.658536585365852, -2.4878048780487916, -1.9268292682926784, 1.1063829787234027, 0.23404255319148604, -12.756097560975618, -7.212121212121218, -7.7804878048780495, 1.3191489361702082, -3.934782608695656, -3.5365853658536537, -2.5, -2.5454545454545467]}],                        {\"hovermode\": \"closest\", \"template\": {\"data\": {\"bar\": [{\"error_x\": {\"color\": \"#2a3f5f\"}, \"error_y\": {\"color\": \"#2a3f5f\"}, \"marker\": {\"line\": {\"color\": \"#E5ECF6\", \"width\": 0.5}}, \"type\": \"bar\"}], \"barpolar\": [{\"marker\": {\"line\": {\"color\": \"#E5ECF6\", \"width\": 0.5}}, \"type\": \"barpolar\"}], \"carpet\": [{\"aaxis\": {\"endlinecolor\": \"#2a3f5f\", \"gridcolor\": \"white\", \"linecolor\": \"white\", \"minorgridcolor\": \"white\", \"startlinecolor\": \"#2a3f5f\"}, \"baxis\": {\"endlinecolor\": \"#2a3f5f\", \"gridcolor\": \"white\", \"linecolor\": \"white\", \"minorgridcolor\": \"white\", \"startlinecolor\": \"#2a3f5f\"}, \"type\": \"carpet\"}], \"choropleth\": [{\"colorbar\": {\"outlinewidth\": 0, \"ticks\": \"\"}, \"type\": \"choropleth\"}], \"contour\": [{\"colorbar\": {\"outlinewidth\": 0, \"ticks\": \"\"}, \"colorscale\": [[0.0, \"#0d0887\"], [0.1111111111111111, \"#46039f\"], [0.2222222222222222, \"#7201a8\"], [0.3333333333333333, \"#9c179e\"], [0.4444444444444444, \"#bd3786\"], [0.5555555555555556, \"#d8576b\"], [0.6666666666666666, \"#ed7953\"], [0.7777777777777778, \"#fb9f3a\"], [0.8888888888888888, \"#fdca26\"], [1.0, \"#f0f921\"]], \"type\": \"contour\"}], \"contourcarpet\": [{\"colorbar\": {\"outlinewidth\": 0, \"ticks\": \"\"}, \"type\": \"contourcarpet\"}], \"heatmap\": [{\"colorbar\": {\"outlinewidth\": 0, \"ticks\": \"\"}, \"colorscale\": [[0.0, \"#0d0887\"], [0.1111111111111111, \"#46039f\"], [0.2222222222222222, \"#7201a8\"], [0.3333333333333333, \"#9c179e\"], [0.4444444444444444, \"#bd3786\"], [0.5555555555555556, \"#d8576b\"], [0.6666666666666666, \"#ed7953\"], [0.7777777777777778, \"#fb9f3a\"], [0.8888888888888888, \"#fdca26\"], [1.0, \"#f0f921\"]], \"type\": \"heatmap\"}], \"heatmapgl\": [{\"colorbar\": {\"outlinewidth\": 0, \"ticks\": \"\"}, \"colorscale\": [[0.0, \"#0d0887\"], [0.1111111111111111, \"#46039f\"], [0.2222222222222222, \"#7201a8\"], [0.3333333333333333, \"#9c179e\"], [0.4444444444444444, \"#bd3786\"], [0.5555555555555556, \"#d8576b\"], [0.6666666666666666, \"#ed7953\"], [0.7777777777777778, \"#fb9f3a\"], [0.8888888888888888, \"#fdca26\"], [1.0, \"#f0f921\"]], \"type\": \"heatmapgl\"}], \"histogram\": [{\"marker\": {\"colorbar\": {\"outlinewidth\": 0, \"ticks\": \"\"}}, \"type\": \"histogram\"}], \"histogram2d\": [{\"colorbar\": {\"outlinewidth\": 0, \"ticks\": \"\"}, \"colorscale\": [[0.0, \"#0d0887\"], [0.1111111111111111, \"#46039f\"], [0.2222222222222222, \"#7201a8\"], [0.3333333333333333, \"#9c179e\"], [0.4444444444444444, \"#bd3786\"], [0.5555555555555556, \"#d8576b\"], [0.6666666666666666, \"#ed7953\"], [0.7777777777777778, \"#fb9f3a\"], [0.8888888888888888, \"#fdca26\"], [1.0, \"#f0f921\"]], \"type\": \"histogram2d\"}], \"histogram2dcontour\": [{\"colorbar\": {\"outlinewidth\": 0, \"ticks\": \"\"}, \"colorscale\": [[0.0, \"#0d0887\"], [0.1111111111111111, \"#46039f\"], [0.2222222222222222, \"#7201a8\"], [0.3333333333333333, \"#9c179e\"], [0.4444444444444444, \"#bd3786\"], [0.5555555555555556, \"#d8576b\"], [0.6666666666666666, \"#ed7953\"], [0.7777777777777778, \"#fb9f3a\"], [0.8888888888888888, \"#fdca26\"], [1.0, \"#f0f921\"]], \"type\": \"histogram2dcontour\"}], \"mesh3d\": [{\"colorbar\": {\"outlinewidth\": 0, \"ticks\": \"\"}, \"type\": \"mesh3d\"}], \"parcoords\": [{\"line\": {\"colorbar\": {\"outlinewidth\": 0, \"ticks\": \"\"}}, \"type\": \"parcoords\"}], \"pie\": [{\"automargin\": true, \"type\": \"pie\"}], \"scatter\": [{\"marker\": {\"colorbar\": {\"outlinewidth\": 0, \"ticks\": \"\"}}, \"type\": \"scatter\"}], \"scatter3d\": [{\"line\": {\"colorbar\": {\"outlinewidth\": 0, \"ticks\": \"\"}}, \"marker\": {\"colorbar\": {\"outlinewidth\": 0, \"ticks\": \"\"}}, \"type\": \"scatter3d\"}], \"scattercarpet\": [{\"marker\": {\"colorbar\": {\"outlinewidth\": 0, \"ticks\": \"\"}}, \"type\": \"scattercarpet\"}], \"scattergeo\": [{\"marker\": {\"colorbar\": {\"outlinewidth\": 0, \"ticks\": \"\"}}, \"type\": \"scattergeo\"}], \"scattergl\": [{\"marker\": {\"colorbar\": {\"outlinewidth\": 0, \"ticks\": \"\"}}, \"type\": \"scattergl\"}], \"scattermapbox\": [{\"marker\": {\"colorbar\": {\"outlinewidth\": 0, \"ticks\": \"\"}}, \"type\": \"scattermapbox\"}], \"scatterpolar\": [{\"marker\": {\"colorbar\": {\"outlinewidth\": 0, \"ticks\": \"\"}}, \"type\": \"scatterpolar\"}], \"scatterpolargl\": [{\"marker\": {\"colorbar\": {\"outlinewidth\": 0, \"ticks\": \"\"}}, \"type\": \"scatterpolargl\"}], \"scatterternary\": [{\"marker\": {\"colorbar\": {\"outlinewidth\": 0, \"ticks\": \"\"}}, \"type\": \"scatterternary\"}], \"surface\": [{\"colorbar\": {\"outlinewidth\": 0, \"ticks\": \"\"}, \"colorscale\": [[0.0, \"#0d0887\"], [0.1111111111111111, \"#46039f\"], [0.2222222222222222, \"#7201a8\"], [0.3333333333333333, \"#9c179e\"], [0.4444444444444444, \"#bd3786\"], [0.5555555555555556, \"#d8576b\"], [0.6666666666666666, \"#ed7953\"], [0.7777777777777778, \"#fb9f3a\"], [0.8888888888888888, \"#fdca26\"], [1.0, \"#f0f921\"]], \"type\": \"surface\"}], \"table\": [{\"cells\": {\"fill\": {\"color\": \"#EBF0F8\"}, \"line\": {\"color\": \"white\"}}, \"header\": {\"fill\": {\"color\": \"#C8D4E3\"}, \"line\": {\"color\": \"white\"}}, \"type\": \"table\"}]}, \"layout\": {\"annotationdefaults\": {\"arrowcolor\": \"#2a3f5f\", \"arrowhead\": 0, \"arrowwidth\": 1}, \"coloraxis\": {\"colorbar\": {\"outlinewidth\": 0, \"ticks\": \"\"}}, \"colorscale\": {\"diverging\": [[0, \"#8e0152\"], [0.1, \"#c51b7d\"], [0.2, \"#de77ae\"], [0.3, \"#f1b6da\"], [0.4, \"#fde0ef\"], [0.5, \"#f7f7f7\"], [0.6, \"#e6f5d0\"], [0.7, \"#b8e186\"], [0.8, \"#7fbc41\"], [0.9, \"#4d9221\"], [1, \"#276419\"]], \"sequential\": [[0.0, \"#0d0887\"], [0.1111111111111111, \"#46039f\"], [0.2222222222222222, \"#7201a8\"], [0.3333333333333333, \"#9c179e\"], [0.4444444444444444, \"#bd3786\"], [0.5555555555555556, \"#d8576b\"], [0.6666666666666666, \"#ed7953\"], [0.7777777777777778, \"#fb9f3a\"], [0.8888888888888888, \"#fdca26\"], [1.0, \"#f0f921\"]], \"sequentialminus\": [[0.0, \"#0d0887\"], [0.1111111111111111, \"#46039f\"], [0.2222222222222222, \"#7201a8\"], [0.3333333333333333, \"#9c179e\"], [0.4444444444444444, \"#bd3786\"], [0.5555555555555556, \"#d8576b\"], [0.6666666666666666, \"#ed7953\"], [0.7777777777777778, \"#fb9f3a\"], [0.8888888888888888, \"#fdca26\"], [1.0, \"#f0f921\"]]}, \"colorway\": [\"#636efa\", \"#EF553B\", \"#00cc96\", \"#ab63fa\", \"#FFA15A\", \"#19d3f3\", \"#FF6692\", \"#B6E880\", \"#FF97FF\", \"#FECB52\"], \"font\": {\"color\": \"#2a3f5f\"}, \"geo\": {\"bgcolor\": \"white\", \"lakecolor\": \"white\", \"landcolor\": \"#E5ECF6\", \"showlakes\": true, \"showland\": true, \"subunitcolor\": \"white\"}, \"hoverlabel\": {\"align\": \"left\"}, \"hovermode\": \"closest\", \"mapbox\": {\"style\": \"light\"}, \"paper_bgcolor\": \"white\", \"plot_bgcolor\": \"#E5ECF6\", \"polar\": {\"angularaxis\": {\"gridcolor\": \"white\", \"linecolor\": \"white\", \"ticks\": \"\"}, \"bgcolor\": \"#E5ECF6\", \"radialaxis\": {\"gridcolor\": \"white\", \"linecolor\": \"white\", \"ticks\": \"\"}}, \"scene\": {\"xaxis\": {\"backgroundcolor\": \"#E5ECF6\", \"gridcolor\": \"white\", \"gridwidth\": 2, \"linecolor\": \"white\", \"showbackground\": true, \"ticks\": \"\", \"zerolinecolor\": \"white\"}, \"yaxis\": {\"backgroundcolor\": \"#E5ECF6\", \"gridcolor\": \"white\", \"gridwidth\": 2, \"linecolor\": \"white\", \"showbackground\": true, \"ticks\": \"\", \"zerolinecolor\": \"white\"}, \"zaxis\": {\"backgroundcolor\": \"#E5ECF6\", \"gridcolor\": \"white\", \"gridwidth\": 2, \"linecolor\": \"white\", \"showbackground\": true, \"ticks\": \"\", \"zerolinecolor\": \"white\"}}, \"shapedefaults\": {\"line\": {\"color\": \"#2a3f5f\"}}, \"ternary\": {\"aaxis\": {\"gridcolor\": \"white\", \"linecolor\": \"white\", \"ticks\": \"\"}, \"baxis\": {\"gridcolor\": \"white\", \"linecolor\": \"white\", \"ticks\": \"\"}, \"bgcolor\": \"#E5ECF6\", \"caxis\": {\"gridcolor\": \"white\", \"linecolor\": \"white\", \"ticks\": \"\"}}, \"title\": {\"x\": 0.05}, \"xaxis\": {\"automargin\": true, \"gridcolor\": \"white\", \"linecolor\": \"white\", \"ticks\": \"\", \"title\": {\"standoff\": 15}, \"zerolinecolor\": \"white\", \"zerolinewidth\": 2}, \"yaxis\": {\"automargin\": true, \"gridcolor\": \"white\", \"linecolor\": \"white\", \"ticks\": \"\", \"title\": {\"standoff\": 15}, \"zerolinecolor\": \"white\", \"zerolinewidth\": 2}}}, \"title\": {\"text\": \"Home vs Away Score Differential\"}, \"xaxis\": {\"title\": {\"text\": \"Home Diff\"}}, \"yaxis\": {\"title\": {\"text\": \"Away Diff\"}}},                        {\"responsive\": true}                    ).then(function(){\n",
       "                            \n",
       "var gd = document.getElementById('a5049d1a-2cdc-4d47-943b-52ee09517cc9');\n",
       "var x = new MutationObserver(function (mutations, observer) {{\n",
       "        var display = window.getComputedStyle(gd).display;\n",
       "        if (!display || display === 'none') {{\n",
       "            console.log([gd, 'removed!']);\n",
       "            Plotly.purge(gd);\n",
       "            observer.disconnect();\n",
       "        }}\n",
       "}});\n",
       "\n",
       "// Listen for the removal of the full notebook cells\n",
       "var notebookContainer = gd.closest('#notebook-container');\n",
       "if (notebookContainer) {{\n",
       "    x.observe(notebookContainer, {childList: true});\n",
       "}}\n",
       "\n",
       "// Listen for the clearing of the current output cell\n",
       "var outputEl = gd.closest('.output');\n",
       "if (outputEl) {{\n",
       "    x.observe(outputEl, {childList: true});\n",
       "}}\n",
       "\n",
       "                        })                };                });            </script>        </div>"
      ]
     },
     "metadata": {},
     "output_type": "display_data"
    }
   ],
   "source": [
    "data = [go.Scatter(\n",
    "    x = df_scores['avg home diff'],\n",
    "    y = df_scores['avg away diff'],\n",
    "    mode = 'markers',\n",
    "    hovertext = df_scores['team_season']\n",
    ")]\n",
    "\n",
    "layout = go.Layout(\n",
    "    title = 'Home vs Away Score Differential', # Graph title\n",
    "    xaxis = dict(title = 'Home Diff'), # x-axis label\n",
    "    yaxis = dict(title = 'Away Diff'), # y-axis label\n",
    "    hovermode ='closest' # handles multiple points landing on the same vertical\n",
    ")\n",
    "\n",
    "fig = go.Figure(data=data, layout=layout)\n",
    "fig.show()"
   ]
  },
  {
   "cell_type": "markdown",
   "metadata": {},
   "source": [
    "#### Which teams have the biggest advantage at home vs away?"
   ]
  },
  {
   "cell_type": "code",
   "execution_count": 239,
   "metadata": {},
   "outputs": [
    {
     "data": {
      "application/vnd.plotly.v1+json": {
       "config": {
        "plotlyServerURL": "https://plot.ly"
       },
       "data": [
        {
         "type": "bar",
         "x": [
          "ATL_2010",
          "ATL_2011",
          "ATL_2012",
          "ATL_2013",
          "ATL_2014",
          "ATL_2015",
          "ATL_2016",
          "ATL_2017",
          "BKN_2010",
          "BKN_2011",
          "BKN_2012",
          "BKN_2013",
          "BKN_2014",
          "BKN_2015",
          "BKN_2016",
          "BKN_2017",
          "BOS_2010",
          "BOS_2011",
          "BOS_2012",
          "BOS_2013",
          "BOS_2014",
          "BOS_2015",
          "BOS_2016",
          "BOS_2017",
          "CHA_2010",
          "CHA_2011",
          "CHA_2012",
          "CHA_2013",
          "CHA_2014",
          "CHA_2015",
          "CHA_2016",
          "CHA_2017",
          "CHI_2010",
          "CHI_2011",
          "CHI_2012",
          "CHI_2013",
          "CHI_2014",
          "CHI_2015",
          "CHI_2016",
          "CHI_2017",
          "CLE_2010",
          "CLE_2011",
          "CLE_2012",
          "CLE_2013",
          "CLE_2014",
          "CLE_2015",
          "CLE_2016",
          "CLE_2017",
          "DAL_2010",
          "DAL_2011",
          "DAL_2012",
          "DAL_2013",
          "DAL_2014",
          "DAL_2015",
          "DAL_2016",
          "DAL_2017",
          "DEN_2010",
          "DEN_2011",
          "DEN_2012",
          "DEN_2013",
          "DEN_2014",
          "DEN_2015",
          "DEN_2016",
          "DEN_2017",
          "DET_2010",
          "DET_2011",
          "DET_2012",
          "DET_2013",
          "DET_2014",
          "DET_2015",
          "DET_2016",
          "DET_2017",
          "GSW_2010",
          "GSW_2011",
          "GSW_2012",
          "GSW_2013",
          "GSW_2014",
          "GSW_2015",
          "GSW_2016",
          "GSW_2017",
          "HOU_2010",
          "HOU_2011",
          "HOU_2012",
          "HOU_2013",
          "HOU_2014",
          "HOU_2015",
          "HOU_2016",
          "HOU_2017",
          "IND_2010",
          "IND_2011",
          "IND_2012",
          "IND_2013",
          "IND_2014",
          "IND_2015",
          "IND_2016",
          "IND_2017",
          "LAC_2010",
          "LAC_2011",
          "LAC_2012",
          "LAC_2013",
          "LAC_2014",
          "LAC_2015",
          "LAC_2016",
          "LAC_2017",
          "LAL_2010",
          "LAL_2011",
          "LAL_2012",
          "LAL_2013",
          "LAL_2014",
          "LAL_2015",
          "LAL_2016",
          "LAL_2017",
          "MEM_2010",
          "MEM_2011",
          "MEM_2012",
          "MEM_2013",
          "MEM_2014",
          "MEM_2015",
          "MEM_2016",
          "MEM_2017",
          "MIA_2010",
          "MIA_2011",
          "MIA_2012",
          "MIA_2013",
          "MIA_2014",
          "MIA_2015",
          "MIA_2016",
          "MIA_2017",
          "MIL_2010",
          "MIL_2011",
          "MIL_2012",
          "MIL_2013",
          "MIL_2014",
          "MIL_2015",
          "MIL_2016",
          "MIL_2017",
          "MIN_2010",
          "MIN_2011",
          "MIN_2012",
          "MIN_2013",
          "MIN_2014",
          "MIN_2015",
          "MIN_2016",
          "MIN_2017",
          "NOP_2010",
          "NOP_2011",
          "NOP_2012",
          "NOP_2013",
          "NOP_2014",
          "NOP_2015",
          "NOP_2016",
          "NOP_2017",
          "NYK_2010",
          "NYK_2011",
          "NYK_2012",
          "NYK_2013",
          "NYK_2014",
          "NYK_2015",
          "NYK_2016",
          "NYK_2017",
          "OKC_2010",
          "OKC_2011",
          "OKC_2012",
          "OKC_2013",
          "OKC_2014",
          "OKC_2015",
          "OKC_2016",
          "OKC_2017",
          "ORL_2010",
          "ORL_2011",
          "ORL_2012",
          "ORL_2013",
          "ORL_2014",
          "ORL_2015",
          "ORL_2016",
          "ORL_2017",
          "PHI_2010",
          "PHI_2011",
          "PHI_2012",
          "PHI_2013",
          "PHI_2014",
          "PHI_2015",
          "PHI_2016",
          "PHI_2017",
          "PHX_2010",
          "PHX_2011",
          "PHX_2012",
          "PHX_2013",
          "PHX_2014",
          "PHX_2015",
          "PHX_2016",
          "PHX_2017",
          "POR_2010",
          "POR_2011",
          "POR_2012",
          "POR_2013",
          "POR_2014",
          "POR_2015",
          "POR_2016",
          "POR_2017",
          "SAC_2010",
          "SAC_2011",
          "SAC_2012",
          "SAC_2013",
          "SAC_2014",
          "SAC_2015",
          "SAC_2016",
          "SAC_2017",
          "SAS_2010",
          "SAS_2011",
          "SAS_2012",
          "SAS_2013",
          "SAS_2014",
          "SAS_2015",
          "SAS_2016",
          "SAS_2017",
          "TOR_2010",
          "TOR_2011",
          "TOR_2012",
          "TOR_2013",
          "TOR_2014",
          "TOR_2015",
          "TOR_2016",
          "TOR_2017",
          "UTA_2010",
          "UTA_2011",
          "UTA_2012",
          "UTA_2013",
          "UTA_2014",
          "UTA_2015",
          "UTA_2016",
          "UTA_2017",
          "WAS_2010",
          "WAS_2011",
          "WAS_2012",
          "WAS_2013",
          "WAS_2014",
          "WAS_2015",
          "WAS_2016",
          "WAS_2017"
         ],
         "y": [
          0.425531914893611,
          3.5833333333333144,
          3.0454545454545467,
          4.438383838383828,
          5.7959183673469425,
          5.65217391304347,
          2.4772727272727337,
          2.8048780487804805,
          6.000000000000014,
          -1.1212121212121104,
          2.2070707070706987,
          8.427536231884062,
          1.295454545454561,
          4.560975609756099,
          2.390243902439039,
          1.292682926829272,
          5.472463768115944,
          9.906976744186053,
          8.815539112050743,
          3.9512195121951095,
          2.7906976744186096,
          5.5227272727272805,
          1.6150460184073694,
          5.547095761381485,
          6.731707317073173,
          3.0909090909091077,
          10.024390243902445,
          4.395348837209298,
          3.121951219512198,
          8.738383838383825,
          6.0487804878048905,
          3.341463414634134,
          5.765000000000001,
          0.3333333333333286,
          3.6367753623188293,
          5.368921775898528,
          1.2127659574468055,
          6.2195121951219505,
          3.636363636363626,
          4.902439024390247,
          6.658536585365852,
          0.5757575757575779,
          3.317073170731689,
          6.975609756097569,
          4.882352941176464,
          7.137254901960787,
          8.124849939975988,
          2.788461538461519,
          4.261689291101064,
          6.257142857142853,
          5.975609756097555,
          2.8555555555555543,
          3.437103594080341,
          5.257399577167035,
          8.829268292682926,
          5.926829268292678,
          11.592494714587744,
          3.2785285285285397,
          10.863636363636374,
          6.048780487804876,
          7.731707317073173,
          1.5121951219512084,
          5.317073170731703,
          9,
          6.268292682926827,
          8.484848484848484,
          6.804878048780495,
          2.3414634146341626,
          2.682926829268297,
          8.604651162790688,
          10.341463414634134,
          6.536585365853654,
          10.121951219512198,
          2.454545454545439,
          5.9787234042553195,
          6.586868686868684,
          6.998114630467583,
          9.064884135472369,
          8.405714285714296,
          5.150075414781298,
          5.048780487804876,
          9.12121212121211,
          7.454545454545453,
          8.318181818181813,
          5.6485714285714295,
          3.75,
          5.565679925994445,
          2.952205882352942,
          9.416490486257914,
          6.130229419703113,
          9.540000000000006,
          9.993333333333325,
          4.853658536585357,
          4.982323232323239,
          10.325581395348834,
          3.5671717171717177,
          8.609756097560975,
          5.391363022941988,
          9.5,
          7.615691489361694,
          4.312499999999986,
          6.11363636363636,
          8.048989898989902,
          1.9756097560975547,
          4.9130434782608745,
          10.358974358974365,
          7.069767441860478,
          4.341463414634148,
          3.243902439024396,
          6.731707317073187,
          10.63414634146342,
          4.853658536585371,
          10.210106382978722,
          8.278528528528511,
          5.167517006802726,
          1.9782828282828149,
          6.265032377428312,
          5.627906976744185,
          4.454545454545453,
          6.951219512195124,
          4.49585218702866,
          9.835692618806874,
          5.954248366013076,
          5.392156862745097,
          3.146341463414629,
          9.187500000000014,
          5.7804878048780495,
          3.099894291754751,
          5.7804878048780495,
          0.4242424242424221,
          3.302325581395351,
          2.121951219512198,
          1.2499999999999858,
          6.317073170731703,
          5.704545454545453,
          4.105555555555554,
          6.682926829268297,
          -0.15151515151515582,
          6.341463414634134,
          7.097560975609753,
          3.341463414634134,
          -0.5365853658536537,
          8.024390243902431,
          7.4170190274841445,
          4.727272727272734,
          1.9999999999999858,
          3.439024390243901,
          7.804878048780495,
          6.302325581395351,
          6.268292682926827,
          5.317073170731717,
          1.2550724637681157,
          1.581395348837205,
          8.705555555555563,
          8.999999999999986,
          3.243902439024396,
          2.4390243902439153,
          2.4878048780487916,
          4.17073170731706,
          9.268292682926827,
          5.364897959183679,
          7.906976744186039,
          6.919518963922286,
          6.199607843137258,
          9.634146341463406,
          7.11999999999999,
          10.696088794925998,
          4.727272727272734,
          7.3409090909090935,
          5.803174603174597,
          -0.024390243902445263,
          8.878048780487802,
          1,
          7.926829268292678,
          5.975609756097555,
          2.4634146341463463,
          7.563953488372093,
          5.908333333333331,
          4.243902439024382,
          0.9512195121951237,
          7.853658536585371,
          1.1951219512195195,
          4.268292682926827,
          7.391304347826093,
          3.439024390243901,
          6.060606060606062,
          6.536585365853654,
          5.560975609756099,
          3.9024390243902474,
          7.902439024390233,
          6.780487804878064,
          -1.853658536585371,
          8.318181818181813,
          12.454545454545467,
          7.024390243902445,
          5.436632747456059,
          8.65856236786469,
          10.505087881591123,
          7.04651162790698,
          4.162790697674424,
          3.8048780487804947,
          6.63636363636364,
          9.268292682926813,
          4.829268292682912,
          5.512195121951223,
          2.707317073170728,
          4.048780487804876,
          3.4390243902439153,
          8.704545454545453,
          10.049999999999997,
          6.923453996983412,
          4.399782135076251,
          6.848989898989899,
          7.673913043478251,
          2.5714285714285694,
          9.500528541226231,
          7.439024390243901,
          5.393939393939391,
          6.609756097560975,
          2.7898989898989868,
          2.883720930232542,
          6.3246153846153845,
          6.999999999999986,
          6.130434782608688,
          5.268292682926827,
          11.000000000000014,
          10.36585365853658,
          6.975609756097555,
          5.414634146341484,
          7.439024390243901,
          3.654486586493988,
          6.679000925069374,
          10.707317073170742,
          4.818181818181827,
          10.487804878048777,
          -0.18871415356152,
          10.000000000000014,
          6.073170731707322,
          8.202127659574458,
          5.9090909090909065
         ]
        }
       ],
       "layout": {
        "autosize": true,
        "hovermode": "closest",
        "template": {
         "data": {
          "bar": [
           {
            "error_x": {
             "color": "#2a3f5f"
            },
            "error_y": {
             "color": "#2a3f5f"
            },
            "marker": {
             "line": {
              "color": "#E5ECF6",
              "width": 0.5
             }
            },
            "type": "bar"
           }
          ],
          "barpolar": [
           {
            "marker": {
             "line": {
              "color": "#E5ECF6",
              "width": 0.5
             }
            },
            "type": "barpolar"
           }
          ],
          "carpet": [
           {
            "aaxis": {
             "endlinecolor": "#2a3f5f",
             "gridcolor": "white",
             "linecolor": "white",
             "minorgridcolor": "white",
             "startlinecolor": "#2a3f5f"
            },
            "baxis": {
             "endlinecolor": "#2a3f5f",
             "gridcolor": "white",
             "linecolor": "white",
             "minorgridcolor": "white",
             "startlinecolor": "#2a3f5f"
            },
            "type": "carpet"
           }
          ],
          "choropleth": [
           {
            "colorbar": {
             "outlinewidth": 0,
             "ticks": ""
            },
            "type": "choropleth"
           }
          ],
          "contour": [
           {
            "colorbar": {
             "outlinewidth": 0,
             "ticks": ""
            },
            "colorscale": [
             [
              0,
              "#0d0887"
             ],
             [
              0.1111111111111111,
              "#46039f"
             ],
             [
              0.2222222222222222,
              "#7201a8"
             ],
             [
              0.3333333333333333,
              "#9c179e"
             ],
             [
              0.4444444444444444,
              "#bd3786"
             ],
             [
              0.5555555555555556,
              "#d8576b"
             ],
             [
              0.6666666666666666,
              "#ed7953"
             ],
             [
              0.7777777777777778,
              "#fb9f3a"
             ],
             [
              0.8888888888888888,
              "#fdca26"
             ],
             [
              1,
              "#f0f921"
             ]
            ],
            "type": "contour"
           }
          ],
          "contourcarpet": [
           {
            "colorbar": {
             "outlinewidth": 0,
             "ticks": ""
            },
            "type": "contourcarpet"
           }
          ],
          "heatmap": [
           {
            "colorbar": {
             "outlinewidth": 0,
             "ticks": ""
            },
            "colorscale": [
             [
              0,
              "#0d0887"
             ],
             [
              0.1111111111111111,
              "#46039f"
             ],
             [
              0.2222222222222222,
              "#7201a8"
             ],
             [
              0.3333333333333333,
              "#9c179e"
             ],
             [
              0.4444444444444444,
              "#bd3786"
             ],
             [
              0.5555555555555556,
              "#d8576b"
             ],
             [
              0.6666666666666666,
              "#ed7953"
             ],
             [
              0.7777777777777778,
              "#fb9f3a"
             ],
             [
              0.8888888888888888,
              "#fdca26"
             ],
             [
              1,
              "#f0f921"
             ]
            ],
            "type": "heatmap"
           }
          ],
          "heatmapgl": [
           {
            "colorbar": {
             "outlinewidth": 0,
             "ticks": ""
            },
            "colorscale": [
             [
              0,
              "#0d0887"
             ],
             [
              0.1111111111111111,
              "#46039f"
             ],
             [
              0.2222222222222222,
              "#7201a8"
             ],
             [
              0.3333333333333333,
              "#9c179e"
             ],
             [
              0.4444444444444444,
              "#bd3786"
             ],
             [
              0.5555555555555556,
              "#d8576b"
             ],
             [
              0.6666666666666666,
              "#ed7953"
             ],
             [
              0.7777777777777778,
              "#fb9f3a"
             ],
             [
              0.8888888888888888,
              "#fdca26"
             ],
             [
              1,
              "#f0f921"
             ]
            ],
            "type": "heatmapgl"
           }
          ],
          "histogram": [
           {
            "marker": {
             "colorbar": {
              "outlinewidth": 0,
              "ticks": ""
             }
            },
            "type": "histogram"
           }
          ],
          "histogram2d": [
           {
            "colorbar": {
             "outlinewidth": 0,
             "ticks": ""
            },
            "colorscale": [
             [
              0,
              "#0d0887"
             ],
             [
              0.1111111111111111,
              "#46039f"
             ],
             [
              0.2222222222222222,
              "#7201a8"
             ],
             [
              0.3333333333333333,
              "#9c179e"
             ],
             [
              0.4444444444444444,
              "#bd3786"
             ],
             [
              0.5555555555555556,
              "#d8576b"
             ],
             [
              0.6666666666666666,
              "#ed7953"
             ],
             [
              0.7777777777777778,
              "#fb9f3a"
             ],
             [
              0.8888888888888888,
              "#fdca26"
             ],
             [
              1,
              "#f0f921"
             ]
            ],
            "type": "histogram2d"
           }
          ],
          "histogram2dcontour": [
           {
            "colorbar": {
             "outlinewidth": 0,
             "ticks": ""
            },
            "colorscale": [
             [
              0,
              "#0d0887"
             ],
             [
              0.1111111111111111,
              "#46039f"
             ],
             [
              0.2222222222222222,
              "#7201a8"
             ],
             [
              0.3333333333333333,
              "#9c179e"
             ],
             [
              0.4444444444444444,
              "#bd3786"
             ],
             [
              0.5555555555555556,
              "#d8576b"
             ],
             [
              0.6666666666666666,
              "#ed7953"
             ],
             [
              0.7777777777777778,
              "#fb9f3a"
             ],
             [
              0.8888888888888888,
              "#fdca26"
             ],
             [
              1,
              "#f0f921"
             ]
            ],
            "type": "histogram2dcontour"
           }
          ],
          "mesh3d": [
           {
            "colorbar": {
             "outlinewidth": 0,
             "ticks": ""
            },
            "type": "mesh3d"
           }
          ],
          "parcoords": [
           {
            "line": {
             "colorbar": {
              "outlinewidth": 0,
              "ticks": ""
             }
            },
            "type": "parcoords"
           }
          ],
          "pie": [
           {
            "automargin": true,
            "type": "pie"
           }
          ],
          "scatter": [
           {
            "marker": {
             "colorbar": {
              "outlinewidth": 0,
              "ticks": ""
             }
            },
            "type": "scatter"
           }
          ],
          "scatter3d": [
           {
            "line": {
             "colorbar": {
              "outlinewidth": 0,
              "ticks": ""
             }
            },
            "marker": {
             "colorbar": {
              "outlinewidth": 0,
              "ticks": ""
             }
            },
            "type": "scatter3d"
           }
          ],
          "scattercarpet": [
           {
            "marker": {
             "colorbar": {
              "outlinewidth": 0,
              "ticks": ""
             }
            },
            "type": "scattercarpet"
           }
          ],
          "scattergeo": [
           {
            "marker": {
             "colorbar": {
              "outlinewidth": 0,
              "ticks": ""
             }
            },
            "type": "scattergeo"
           }
          ],
          "scattergl": [
           {
            "marker": {
             "colorbar": {
              "outlinewidth": 0,
              "ticks": ""
             }
            },
            "type": "scattergl"
           }
          ],
          "scattermapbox": [
           {
            "marker": {
             "colorbar": {
              "outlinewidth": 0,
              "ticks": ""
             }
            },
            "type": "scattermapbox"
           }
          ],
          "scatterpolar": [
           {
            "marker": {
             "colorbar": {
              "outlinewidth": 0,
              "ticks": ""
             }
            },
            "type": "scatterpolar"
           }
          ],
          "scatterpolargl": [
           {
            "marker": {
             "colorbar": {
              "outlinewidth": 0,
              "ticks": ""
             }
            },
            "type": "scatterpolargl"
           }
          ],
          "scatterternary": [
           {
            "marker": {
             "colorbar": {
              "outlinewidth": 0,
              "ticks": ""
             }
            },
            "type": "scatterternary"
           }
          ],
          "surface": [
           {
            "colorbar": {
             "outlinewidth": 0,
             "ticks": ""
            },
            "colorscale": [
             [
              0,
              "#0d0887"
             ],
             [
              0.1111111111111111,
              "#46039f"
             ],
             [
              0.2222222222222222,
              "#7201a8"
             ],
             [
              0.3333333333333333,
              "#9c179e"
             ],
             [
              0.4444444444444444,
              "#bd3786"
             ],
             [
              0.5555555555555556,
              "#d8576b"
             ],
             [
              0.6666666666666666,
              "#ed7953"
             ],
             [
              0.7777777777777778,
              "#fb9f3a"
             ],
             [
              0.8888888888888888,
              "#fdca26"
             ],
             [
              1,
              "#f0f921"
             ]
            ],
            "type": "surface"
           }
          ],
          "table": [
           {
            "cells": {
             "fill": {
              "color": "#EBF0F8"
             },
             "line": {
              "color": "white"
             }
            },
            "header": {
             "fill": {
              "color": "#C8D4E3"
             },
             "line": {
              "color": "white"
             }
            },
            "type": "table"
           }
          ]
         },
         "layout": {
          "annotationdefaults": {
           "arrowcolor": "#2a3f5f",
           "arrowhead": 0,
           "arrowwidth": 1
          },
          "coloraxis": {
           "colorbar": {
            "outlinewidth": 0,
            "ticks": ""
           }
          },
          "colorscale": {
           "diverging": [
            [
             0,
             "#8e0152"
            ],
            [
             0.1,
             "#c51b7d"
            ],
            [
             0.2,
             "#de77ae"
            ],
            [
             0.3,
             "#f1b6da"
            ],
            [
             0.4,
             "#fde0ef"
            ],
            [
             0.5,
             "#f7f7f7"
            ],
            [
             0.6,
             "#e6f5d0"
            ],
            [
             0.7,
             "#b8e186"
            ],
            [
             0.8,
             "#7fbc41"
            ],
            [
             0.9,
             "#4d9221"
            ],
            [
             1,
             "#276419"
            ]
           ],
           "sequential": [
            [
             0,
             "#0d0887"
            ],
            [
             0.1111111111111111,
             "#46039f"
            ],
            [
             0.2222222222222222,
             "#7201a8"
            ],
            [
             0.3333333333333333,
             "#9c179e"
            ],
            [
             0.4444444444444444,
             "#bd3786"
            ],
            [
             0.5555555555555556,
             "#d8576b"
            ],
            [
             0.6666666666666666,
             "#ed7953"
            ],
            [
             0.7777777777777778,
             "#fb9f3a"
            ],
            [
             0.8888888888888888,
             "#fdca26"
            ],
            [
             1,
             "#f0f921"
            ]
           ],
           "sequentialminus": [
            [
             0,
             "#0d0887"
            ],
            [
             0.1111111111111111,
             "#46039f"
            ],
            [
             0.2222222222222222,
             "#7201a8"
            ],
            [
             0.3333333333333333,
             "#9c179e"
            ],
            [
             0.4444444444444444,
             "#bd3786"
            ],
            [
             0.5555555555555556,
             "#d8576b"
            ],
            [
             0.6666666666666666,
             "#ed7953"
            ],
            [
             0.7777777777777778,
             "#fb9f3a"
            ],
            [
             0.8888888888888888,
             "#fdca26"
            ],
            [
             1,
             "#f0f921"
            ]
           ]
          },
          "colorway": [
           "#636efa",
           "#EF553B",
           "#00cc96",
           "#ab63fa",
           "#FFA15A",
           "#19d3f3",
           "#FF6692",
           "#B6E880",
           "#FF97FF",
           "#FECB52"
          ],
          "font": {
           "color": "#2a3f5f"
          },
          "geo": {
           "bgcolor": "white",
           "lakecolor": "white",
           "landcolor": "#E5ECF6",
           "showlakes": true,
           "showland": true,
           "subunitcolor": "white"
          },
          "hoverlabel": {
           "align": "left"
          },
          "hovermode": "closest",
          "mapbox": {
           "style": "light"
          },
          "paper_bgcolor": "white",
          "plot_bgcolor": "#E5ECF6",
          "polar": {
           "angularaxis": {
            "gridcolor": "white",
            "linecolor": "white",
            "ticks": ""
           },
           "bgcolor": "#E5ECF6",
           "radialaxis": {
            "gridcolor": "white",
            "linecolor": "white",
            "ticks": ""
           }
          },
          "scene": {
           "xaxis": {
            "backgroundcolor": "#E5ECF6",
            "gridcolor": "white",
            "gridwidth": 2,
            "linecolor": "white",
            "showbackground": true,
            "ticks": "",
            "zerolinecolor": "white"
           },
           "yaxis": {
            "backgroundcolor": "#E5ECF6",
            "gridcolor": "white",
            "gridwidth": 2,
            "linecolor": "white",
            "showbackground": true,
            "ticks": "",
            "zerolinecolor": "white"
           },
           "zaxis": {
            "backgroundcolor": "#E5ECF6",
            "gridcolor": "white",
            "gridwidth": 2,
            "linecolor": "white",
            "showbackground": true,
            "ticks": "",
            "zerolinecolor": "white"
           }
          },
          "shapedefaults": {
           "line": {
            "color": "#2a3f5f"
           }
          },
          "ternary": {
           "aaxis": {
            "gridcolor": "white",
            "linecolor": "white",
            "ticks": ""
           },
           "baxis": {
            "gridcolor": "white",
            "linecolor": "white",
            "ticks": ""
           },
           "bgcolor": "#E5ECF6",
           "caxis": {
            "gridcolor": "white",
            "linecolor": "white",
            "ticks": ""
           }
          },
          "title": {
           "x": 0.05
          },
          "xaxis": {
           "automargin": true,
           "gridcolor": "white",
           "linecolor": "white",
           "ticks": "",
           "title": {
            "standoff": 15
           },
           "zerolinecolor": "white",
           "zerolinewidth": 2
          },
          "yaxis": {
           "automargin": true,
           "gridcolor": "white",
           "linecolor": "white",
           "ticks": "",
           "title": {
            "standoff": 15
           },
           "zerolinecolor": "white",
           "zerolinewidth": 2
          }
         }
        },
        "title": {
         "text": "Home vs Away Score Differential"
        },
        "xaxis": {
         "autorange": true,
         "range": [
          -0.5,
          239.5
         ],
         "title": {
          "text": "Home Diff"
         },
         "type": "category"
        },
        "yaxis": {
         "autorange": true,
         "range": [
          -2.648558758314862,
          13.24944567627496
         ],
         "title": {
          "text": "Away Diff"
         },
         "type": "linear"
        }
       }
      },
      "image/png": "[encoded data removed]",
      "text/html": [
       "<div>                            <div id=\"46250197-c536-4fe7-b740-0b7651a11b6b\" class=\"plotly-graph-div\" style=\"height:525px; width:100%;\"></div>            <script type=\"text/javascript\">                require([\"plotly\"], function(Plotly) {                    window.PLOTLYENV=window.PLOTLYENV || {};                                    if (document.getElementById(\"46250197-c536-4fe7-b740-0b7651a11b6b\")) {                    Plotly.newPlot(                        \"46250197-c536-4fe7-b740-0b7651a11b6b\",                        [{\"type\": \"bar\", \"x\": [\"ATL_2010\", \"ATL_2011\", \"ATL_2012\", \"ATL_2013\", \"ATL_2014\", \"ATL_2015\", \"ATL_2016\", \"ATL_2017\", \"BKN_2010\", \"BKN_2011\", \"BKN_2012\", \"BKN_2013\", \"BKN_2014\", \"BKN_2015\", \"BKN_2016\", \"BKN_2017\", \"BOS_2010\", \"BOS_2011\", \"BOS_2012\", \"BOS_2013\", \"BOS_2014\", \"BOS_2015\", \"BOS_2016\", \"BOS_2017\", \"CHA_2010\", \"CHA_2011\", \"CHA_2012\", \"CHA_2013\", \"CHA_2014\", \"CHA_2015\", \"CHA_2016\", \"CHA_2017\", \"CHI_2010\", \"CHI_2011\", \"CHI_2012\", \"CHI_2013\", \"CHI_2014\", \"CHI_2015\", \"CHI_2016\", \"CHI_2017\", \"CLE_2010\", \"CLE_2011\", \"CLE_2012\", \"CLE_2013\", \"CLE_2014\", \"CLE_2015\", \"CLE_2016\", \"CLE_2017\", \"DAL_2010\", \"DAL_2011\", \"DAL_2012\", \"DAL_2013\", \"DAL_2014\", \"DAL_2015\", \"DAL_2016\", \"DAL_2017\", \"DEN_2010\", \"DEN_2011\", \"DEN_2012\", \"DEN_2013\", \"DEN_2014\", \"DEN_2015\", \"DEN_2016\", \"DEN_2017\", \"DET_2010\", \"DET_2011\", \"DET_2012\", \"DET_2013\", \"DET_2014\", \"DET_2015\", \"DET_2016\", \"DET_2017\", \"GSW_2010\", \"GSW_2011\", \"GSW_2012\", \"GSW_2013\", \"GSW_2014\", \"GSW_2015\", \"GSW_2016\", \"GSW_2017\", \"HOU_2010\", \"HOU_2011\", \"HOU_2012\", \"HOU_2013\", \"HOU_2014\", \"HOU_2015\", \"HOU_2016\", \"HOU_2017\", \"IND_2010\", \"IND_2011\", \"IND_2012\", \"IND_2013\", \"IND_2014\", \"IND_2015\", \"IND_2016\", \"IND_2017\", \"LAC_2010\", \"LAC_2011\", \"LAC_2012\", \"LAC_2013\", \"LAC_2014\", \"LAC_2015\", \"LAC_2016\", \"LAC_2017\", \"LAL_2010\", \"LAL_2011\", \"LAL_2012\", \"LAL_2013\", \"LAL_2014\", \"LAL_2015\", \"LAL_2016\", \"LAL_2017\", \"MEM_2010\", \"MEM_2011\", \"MEM_2012\", \"MEM_2013\", \"MEM_2014\", \"MEM_2015\", \"MEM_2016\", \"MEM_2017\", \"MIA_2010\", \"MIA_2011\", \"MIA_2012\", \"MIA_2013\", \"MIA_2014\", \"MIA_2015\", \"MIA_2016\", \"MIA_2017\", \"MIL_2010\", \"MIL_2011\", \"MIL_2012\", \"MIL_2013\", \"MIL_2014\", \"MIL_2015\", \"MIL_2016\", \"MIL_2017\", \"MIN_2010\", \"MIN_2011\", \"MIN_2012\", \"MIN_2013\", \"MIN_2014\", \"MIN_2015\", \"MIN_2016\", \"MIN_2017\", \"NOP_2010\", \"NOP_2011\", \"NOP_2012\", \"NOP_2013\", \"NOP_2014\", \"NOP_2015\", \"NOP_2016\", \"NOP_2017\", \"NYK_2010\", \"NYK_2011\", \"NYK_2012\", \"NYK_2013\", \"NYK_2014\", \"NYK_2015\", \"NYK_2016\", \"NYK_2017\", \"OKC_2010\", \"OKC_2011\", \"OKC_2012\", \"OKC_2013\", \"OKC_2014\", \"OKC_2015\", \"OKC_2016\", \"OKC_2017\", \"ORL_2010\", \"ORL_2011\", \"ORL_2012\", \"ORL_2013\", \"ORL_2014\", \"ORL_2015\", \"ORL_2016\", \"ORL_2017\", \"PHI_2010\", \"PHI_2011\", \"PHI_2012\", \"PHI_2013\", \"PHI_2014\", \"PHI_2015\", \"PHI_2016\", \"PHI_2017\", \"PHX_2010\", \"PHX_2011\", \"PHX_2012\", \"PHX_2013\", \"PHX_2014\", \"PHX_2015\", \"PHX_2016\", \"PHX_2017\", \"POR_2010\", \"POR_2011\", \"POR_2012\", \"POR_2013\", \"POR_2014\", \"POR_2015\", \"POR_2016\", \"POR_2017\", \"SAC_2010\", \"SAC_2011\", \"SAC_2012\", \"SAC_2013\", \"SAC_2014\", \"SAC_2015\", \"SAC_2016\", \"SAC_2017\", \"SAS_2010\", \"SAS_2011\", \"SAS_2012\", \"SAS_2013\", \"SAS_2014\", \"SAS_2015\", \"SAS_2016\", \"SAS_2017\", \"TOR_2010\", \"TOR_2011\", \"TOR_2012\", \"TOR_2013\", \"TOR_2014\", \"TOR_2015\", \"TOR_2016\", \"TOR_2017\", \"UTA_2010\", \"UTA_2011\", \"UTA_2012\", \"UTA_2013\", \"UTA_2014\", \"UTA_2015\", \"UTA_2016\", \"UTA_2017\", \"WAS_2010\", \"WAS_2011\", \"WAS_2012\", \"WAS_2013\", \"WAS_2014\", \"WAS_2015\", \"WAS_2016\", \"WAS_2017\"], \"y\": [0.425531914893611, 3.5833333333333144, 3.0454545454545467, 4.438383838383828, 5.7959183673469425, 5.65217391304347, 2.4772727272727337, 2.8048780487804805, 6.000000000000014, -1.1212121212121104, 2.2070707070706987, 8.427536231884062, 1.295454545454561, 4.560975609756099, 2.390243902439039, 1.292682926829272, 5.472463768115944, 9.906976744186053, 8.815539112050743, 3.9512195121951095, 2.7906976744186096, 5.5227272727272805, 1.6150460184073694, 5.547095761381485, 6.731707317073173, 3.0909090909091077, 10.024390243902445, 4.395348837209298, 3.121951219512198, 8.738383838383825, 6.0487804878048905, 3.341463414634134, 5.765000000000001, 0.3333333333333286, 3.6367753623188293, 5.368921775898528, 1.2127659574468055, 6.2195121951219505, 3.636363636363626, 4.902439024390247, 6.658536585365852, 0.5757575757575779, 3.317073170731689, 6.975609756097569, 4.882352941176464, 7.137254901960787, 8.124849939975988, 2.788461538461519, 4.261689291101064, 6.257142857142853, 5.975609756097555, 2.8555555555555543, 3.437103594080341, 5.257399577167035, 8.829268292682926, 5.926829268292678, 11.592494714587744, 3.2785285285285397, 10.863636363636374, 6.048780487804876, 7.731707317073173, 1.5121951219512084, 5.317073170731703, 9.0, 6.268292682926827, 8.484848484848484, 6.804878048780495, 2.3414634146341626, 2.682926829268297, 8.604651162790688, 10.341463414634134, 6.536585365853654, 10.121951219512198, 2.454545454545439, 5.9787234042553195, 6.586868686868684, 6.998114630467583, 9.064884135472369, 8.405714285714296, 5.150075414781298, 5.048780487804876, 9.12121212121211, 7.454545454545453, 8.318181818181813, 5.6485714285714295, 3.75, 5.565679925994445, 2.952205882352942, 9.416490486257914, 6.130229419703113, 9.540000000000006, 9.993333333333325, 4.853658536585357, 4.982323232323239, 10.325581395348834, 3.5671717171717177, 8.609756097560975, 5.391363022941988, 9.5, 7.615691489361694, 4.312499999999986, 6.11363636363636, 8.048989898989902, 1.9756097560975547, 4.9130434782608745, 10.358974358974365, 7.069767441860478, 4.341463414634148, 3.243902439024396, 6.731707317073187, 10.63414634146342, 4.853658536585371, 10.210106382978722, 8.278528528528511, 5.167517006802726, 1.9782828282828149, 6.265032377428312, 5.627906976744185, 4.454545454545453, 6.951219512195124, 4.49585218702866, 9.835692618806874, 5.954248366013076, 5.392156862745097, 3.146341463414629, 9.187500000000014, 5.7804878048780495, 3.099894291754751, 5.7804878048780495, 0.4242424242424221, 3.302325581395351, 2.121951219512198, 1.2499999999999858, 6.317073170731703, 5.704545454545453, 4.105555555555554, 6.682926829268297, -0.15151515151515582, 6.341463414634134, 7.097560975609753, 3.341463414634134, -0.5365853658536537, 8.024390243902431, 7.4170190274841445, 4.727272727272734, 1.9999999999999858, 3.439024390243901, 7.804878048780495, 6.302325581395351, 6.268292682926827, 5.317073170731717, 1.2550724637681157, 1.581395348837205, 8.705555555555563, 8.999999999999986, 3.243902439024396, 2.4390243902439153, 2.4878048780487916, 4.17073170731706, 9.268292682926827, 5.364897959183679, 7.906976744186039, 6.919518963922286, 6.199607843137258, 9.634146341463406, 7.11999999999999, 10.696088794925998, 4.727272727272734, 7.3409090909090935, 5.803174603174597, -0.024390243902445263, 8.878048780487802, 1.0, 7.926829268292678, 5.975609756097555, 2.4634146341463463, 7.563953488372093, 5.908333333333331, 4.243902439024382, 0.9512195121951237, 7.853658536585371, 1.1951219512195195, 4.268292682926827, 7.391304347826093, 3.439024390243901, 6.060606060606062, 6.536585365853654, 5.560975609756099, 3.9024390243902474, 7.902439024390233, 6.780487804878064, -1.853658536585371, 8.318181818181813, 12.454545454545467, 7.024390243902445, 5.436632747456059, 8.65856236786469, 10.505087881591123, 7.04651162790698, 4.162790697674424, 3.8048780487804947, 6.63636363636364, 9.268292682926813, 4.829268292682912, 5.512195121951223, 2.707317073170728, 4.048780487804876, 3.4390243902439153, 8.704545454545453, 10.049999999999997, 6.923453996983412, 4.399782135076251, 6.848989898989899, 7.673913043478251, 2.5714285714285694, 9.500528541226231, 7.439024390243901, 5.393939393939391, 6.609756097560975, 2.7898989898989868, 2.883720930232542, 6.3246153846153845, 6.999999999999986, 6.130434782608688, 5.268292682926827, 11.000000000000014, 10.36585365853658, 6.975609756097555, 5.414634146341484, 7.439024390243901, 3.654486586493988, 6.679000925069374, 10.707317073170742, 4.818181818181827, 10.487804878048777, -0.18871415356152, 10.000000000000014, 6.073170731707322, 8.202127659574458, 5.9090909090909065]}],                        {\"hovermode\": \"closest\", \"template\": {\"data\": {\"bar\": [{\"error_x\": {\"color\": \"#2a3f5f\"}, \"error_y\": {\"color\": \"#2a3f5f\"}, \"marker\": {\"line\": {\"color\": \"#E5ECF6\", \"width\": 0.5}}, \"type\": \"bar\"}], \"barpolar\": [{\"marker\": {\"line\": {\"color\": \"#E5ECF6\", \"width\": 0.5}}, \"type\": \"barpolar\"}], \"carpet\": [{\"aaxis\": {\"endlinecolor\": \"#2a3f5f\", \"gridcolor\": \"white\", \"linecolor\": \"white\", \"minorgridcolor\": \"white\", \"startlinecolor\": \"#2a3f5f\"}, \"baxis\": {\"endlinecolor\": \"#2a3f5f\", \"gridcolor\": \"white\", \"linecolor\": \"white\", \"minorgridcolor\": \"white\", \"startlinecolor\": \"#2a3f5f\"}, \"type\": \"carpet\"}], \"choropleth\": [{\"colorbar\": {\"outlinewidth\": 0, \"ticks\": \"\"}, \"type\": \"choropleth\"}], \"contour\": [{\"colorbar\": {\"outlinewidth\": 0, \"ticks\": \"\"}, \"colorscale\": [[0.0, \"#0d0887\"], [0.1111111111111111, \"#46039f\"], [0.2222222222222222, \"#7201a8\"], [0.3333333333333333, \"#9c179e\"], [0.4444444444444444, \"#bd3786\"], [0.5555555555555556, \"#d8576b\"], [0.6666666666666666, \"#ed7953\"], [0.7777777777777778, \"#fb9f3a\"], [0.8888888888888888, \"#fdca26\"], [1.0, \"#f0f921\"]], \"type\": \"contour\"}], \"contourcarpet\": [{\"colorbar\": {\"outlinewidth\": 0, \"ticks\": \"\"}, \"type\": \"contourcarpet\"}], \"heatmap\": [{\"colorbar\": {\"outlinewidth\": 0, \"ticks\": \"\"}, \"colorscale\": [[0.0, \"#0d0887\"], [0.1111111111111111, \"#46039f\"], [0.2222222222222222, \"#7201a8\"], [0.3333333333333333, \"#9c179e\"], [0.4444444444444444, \"#bd3786\"], [0.5555555555555556, \"#d8576b\"], [0.6666666666666666, \"#ed7953\"], [0.7777777777777778, \"#fb9f3a\"], [0.8888888888888888, \"#fdca26\"], [1.0, \"#f0f921\"]], \"type\": \"heatmap\"}], \"heatmapgl\": [{\"colorbar\": {\"outlinewidth\": 0, \"ticks\": \"\"}, \"colorscale\": [[0.0, \"#0d0887\"], [0.1111111111111111, \"#46039f\"], [0.2222222222222222, \"#7201a8\"], [0.3333333333333333, \"#9c179e\"], [0.4444444444444444, \"#bd3786\"], [0.5555555555555556, \"#d8576b\"], [0.6666666666666666, \"#ed7953\"], [0.7777777777777778, \"#fb9f3a\"], [0.8888888888888888, \"#fdca26\"], [1.0, \"#f0f921\"]], \"type\": \"heatmapgl\"}], \"histogram\": [{\"marker\": {\"colorbar\": {\"outlinewidth\": 0, \"ticks\": \"\"}}, \"type\": \"histogram\"}], \"histogram2d\": [{\"colorbar\": {\"outlinewidth\": 0, \"ticks\": \"\"}, \"colorscale\": [[0.0, \"#0d0887\"], [0.1111111111111111, \"#46039f\"], [0.2222222222222222, \"#7201a8\"], [0.3333333333333333, \"#9c179e\"], [0.4444444444444444, \"#bd3786\"], [0.5555555555555556, \"#d8576b\"], [0.6666666666666666, \"#ed7953\"], [0.7777777777777778, \"#fb9f3a\"], [0.8888888888888888, \"#fdca26\"], [1.0, \"#f0f921\"]], \"type\": \"histogram2d\"}], \"histogram2dcontour\": [{\"colorbar\": {\"outlinewidth\": 0, \"ticks\": \"\"}, \"colorscale\": [[0.0, \"#0d0887\"], [0.1111111111111111, \"#46039f\"], [0.2222222222222222, \"#7201a8\"], [0.3333333333333333, \"#9c179e\"], [0.4444444444444444, \"#bd3786\"], [0.5555555555555556, \"#d8576b\"], [0.6666666666666666, \"#ed7953\"], [0.7777777777777778, \"#fb9f3a\"], [0.8888888888888888, \"#fdca26\"], [1.0, \"#f0f921\"]], \"type\": \"histogram2dcontour\"}], \"mesh3d\": [{\"colorbar\": {\"outlinewidth\": 0, \"ticks\": \"\"}, \"type\": \"mesh3d\"}], \"parcoords\": [{\"line\": {\"colorbar\": {\"outlinewidth\": 0, \"ticks\": \"\"}}, \"type\": \"parcoords\"}], \"pie\": [{\"automargin\": true, \"type\": \"pie\"}], \"scatter\": [{\"marker\": {\"colorbar\": {\"outlinewidth\": 0, \"ticks\": \"\"}}, \"type\": \"scatter\"}], \"scatter3d\": [{\"line\": {\"colorbar\": {\"outlinewidth\": 0, \"ticks\": \"\"}}, \"marker\": {\"colorbar\": {\"outlinewidth\": 0, \"ticks\": \"\"}}, \"type\": \"scatter3d\"}], \"scattercarpet\": [{\"marker\": {\"colorbar\": {\"outlinewidth\": 0, \"ticks\": \"\"}}, \"type\": \"scattercarpet\"}], \"scattergeo\": [{\"marker\": {\"colorbar\": {\"outlinewidth\": 0, \"ticks\": \"\"}}, \"type\": \"scattergeo\"}], \"scattergl\": [{\"marker\": {\"colorbar\": {\"outlinewidth\": 0, \"ticks\": \"\"}}, \"type\": \"scattergl\"}], \"scattermapbox\": [{\"marker\": {\"colorbar\": {\"outlinewidth\": 0, \"ticks\": \"\"}}, \"type\": \"scattermapbox\"}], \"scatterpolar\": [{\"marker\": {\"colorbar\": {\"outlinewidth\": 0, \"ticks\": \"\"}}, \"type\": \"scatterpolar\"}], \"scatterpolargl\": [{\"marker\": {\"colorbar\": {\"outlinewidth\": 0, \"ticks\": \"\"}}, \"type\": \"scatterpolargl\"}], \"scatterternary\": [{\"marker\": {\"colorbar\": {\"outlinewidth\": 0, \"ticks\": \"\"}}, \"type\": \"scatterternary\"}], \"surface\": [{\"colorbar\": {\"outlinewidth\": 0, \"ticks\": \"\"}, \"colorscale\": [[0.0, \"#0d0887\"], [0.1111111111111111, \"#46039f\"], [0.2222222222222222, \"#7201a8\"], [0.3333333333333333, \"#9c179e\"], [0.4444444444444444, \"#bd3786\"], [0.5555555555555556, \"#d8576b\"], [0.6666666666666666, \"#ed7953\"], [0.7777777777777778, \"#fb9f3a\"], [0.8888888888888888, \"#fdca26\"], [1.0, \"#f0f921\"]], \"type\": \"surface\"}], \"table\": [{\"cells\": {\"fill\": {\"color\": \"#EBF0F8\"}, \"line\": {\"color\": \"white\"}}, \"header\": {\"fill\": {\"color\": \"#C8D4E3\"}, \"line\": {\"color\": \"white\"}}, \"type\": \"table\"}]}, \"layout\": {\"annotationdefaults\": {\"arrowcolor\": \"#2a3f5f\", \"arrowhead\": 0, \"arrowwidth\": 1}, \"coloraxis\": {\"colorbar\": {\"outlinewidth\": 0, \"ticks\": \"\"}}, \"colorscale\": {\"diverging\": [[0, \"#8e0152\"], [0.1, \"#c51b7d\"], [0.2, \"#de77ae\"], [0.3, \"#f1b6da\"], [0.4, \"#fde0ef\"], [0.5, \"#f7f7f7\"], [0.6, \"#e6f5d0\"], [0.7, \"#b8e186\"], [0.8, \"#7fbc41\"], [0.9, \"#4d9221\"], [1, \"#276419\"]], \"sequential\": [[0.0, \"#0d0887\"], [0.1111111111111111, \"#46039f\"], [0.2222222222222222, \"#7201a8\"], [0.3333333333333333, \"#9c179e\"], [0.4444444444444444, \"#bd3786\"], [0.5555555555555556, \"#d8576b\"], [0.6666666666666666, \"#ed7953\"], [0.7777777777777778, \"#fb9f3a\"], [0.8888888888888888, \"#fdca26\"], [1.0, \"#f0f921\"]], \"sequentialminus\": [[0.0, \"#0d0887\"], [0.1111111111111111, \"#46039f\"], [0.2222222222222222, \"#7201a8\"], [0.3333333333333333, \"#9c179e\"], [0.4444444444444444, \"#bd3786\"], [0.5555555555555556, \"#d8576b\"], [0.6666666666666666, \"#ed7953\"], [0.7777777777777778, \"#fb9f3a\"], [0.8888888888888888, \"#fdca26\"], [1.0, \"#f0f921\"]]}, \"colorway\": [\"#636efa\", \"#EF553B\", \"#00cc96\", \"#ab63fa\", \"#FFA15A\", \"#19d3f3\", \"#FF6692\", \"#B6E880\", \"#FF97FF\", \"#FECB52\"], \"font\": {\"color\": \"#2a3f5f\"}, \"geo\": {\"bgcolor\": \"white\", \"lakecolor\": \"white\", \"landcolor\": \"#E5ECF6\", \"showlakes\": true, \"showland\": true, \"subunitcolor\": \"white\"}, \"hoverlabel\": {\"align\": \"left\"}, \"hovermode\": \"closest\", \"mapbox\": {\"style\": \"light\"}, \"paper_bgcolor\": \"white\", \"plot_bgcolor\": \"#E5ECF6\", \"polar\": {\"angularaxis\": {\"gridcolor\": \"white\", \"linecolor\": \"white\", \"ticks\": \"\"}, \"bgcolor\": \"#E5ECF6\", \"radialaxis\": {\"gridcolor\": \"white\", \"linecolor\": \"white\", \"ticks\": \"\"}}, \"scene\": {\"xaxis\": {\"backgroundcolor\": \"#E5ECF6\", \"gridcolor\": \"white\", \"gridwidth\": 2, \"linecolor\": \"white\", \"showbackground\": true, \"ticks\": \"\", \"zerolinecolor\": \"white\"}, \"yaxis\": {\"backgroundcolor\": \"#E5ECF6\", \"gridcolor\": \"white\", \"gridwidth\": 2, \"linecolor\": \"white\", \"showbackground\": true, \"ticks\": \"\", \"zerolinecolor\": \"white\"}, \"zaxis\": {\"backgroundcolor\": \"#E5ECF6\", \"gridcolor\": \"white\", \"gridwidth\": 2, \"linecolor\": \"white\", \"showbackground\": true, \"ticks\": \"\", \"zerolinecolor\": \"white\"}}, \"shapedefaults\": {\"line\": {\"color\": \"#2a3f5f\"}}, \"ternary\": {\"aaxis\": {\"gridcolor\": \"white\", \"linecolor\": \"white\", \"ticks\": \"\"}, \"baxis\": {\"gridcolor\": \"white\", \"linecolor\": \"white\", \"ticks\": \"\"}, \"bgcolor\": \"#E5ECF6\", \"caxis\": {\"gridcolor\": \"white\", \"linecolor\": \"white\", \"ticks\": \"\"}}, \"title\": {\"x\": 0.05}, \"xaxis\": {\"automargin\": true, \"gridcolor\": \"white\", \"linecolor\": \"white\", \"ticks\": \"\", \"title\": {\"standoff\": 15}, \"zerolinecolor\": \"white\", \"zerolinewidth\": 2}, \"yaxis\": {\"automargin\": true, \"gridcolor\": \"white\", \"linecolor\": \"white\", \"ticks\": \"\", \"title\": {\"standoff\": 15}, \"zerolinecolor\": \"white\", \"zerolinewidth\": 2}}}, \"title\": {\"text\": \"Home vs Away Score Differential\"}, \"xaxis\": {\"title\": {\"text\": \"Home Diff\"}}, \"yaxis\": {\"title\": {\"text\": \"Away Diff\"}}},                        {\"responsive\": true}                    ).then(function(){\n",
       "                            \n",
       "var gd = document.getElementById('46250197-c536-4fe7-b740-0b7651a11b6b');\n",
       "var x = new MutationObserver(function (mutations, observer) {{\n",
       "        var display = window.getComputedStyle(gd).display;\n",
       "        if (!display || display === 'none') {{\n",
       "            console.log([gd, 'removed!']);\n",
       "            Plotly.purge(gd);\n",
       "            observer.disconnect();\n",
       "        }}\n",
       "}});\n",
       "\n",
       "// Listen for the removal of the full notebook cells\n",
       "var notebookContainer = gd.closest('#notebook-container');\n",
       "if (notebookContainer) {{\n",
       "    x.observe(notebookContainer, {childList: true});\n",
       "}}\n",
       "\n",
       "// Listen for the clearing of the current output cell\n",
       "var outputEl = gd.closest('.output');\n",
       "if (outputEl) {{\n",
       "    x.observe(outputEl, {childList: true});\n",
       "}}\n",
       "\n",
       "                        })                };                });            </script>        </div>"
      ]
     },
     "metadata": {},
     "output_type": "display_data"
    }
   ],
   "source": [
    "data = [go.Bar(\n",
    "    x = df_scores['team_season'],\n",
    "    y = df_scores['diff differential']\n",
    ")]\n",
    "\n",
    "layout = go.Layout(\n",
    "    title = 'Home vs Away Score Differential', # Graph title\n",
    "    xaxis = dict(title = 'Home Diff'), # x-axis label\n",
    "    yaxis = dict(title = 'Away Diff'), # y-axis label\n",
    "    hovermode ='closest' # handles multiple points landing on the same vertical\n",
    ")\n",
    "\n",
    "fig = go.Figure(data=data, layout=layout)\n",
    "fig.show()"
   ]
  },
  {
   "cell_type": "code",
   "execution_count": null,
   "metadata": {},
   "outputs": [],
   "source": []
  }
 ],
 "metadata": {
  "kernelspec": {
   "display_name": "datacamp",
   "language": "python",
   "name": "datacamp"
  },
  "language_info": {
   "codemirror_mode": {
    "name": "ipython",
    "version": 3
   },
   "file_extension": ".py",
   "mimetype": "text/x-python",
   "name": "python",
   "nbconvert_exporter": "python",
   "pygments_lexer": "ipython3",
   "version": "3.6.12"
  }
 },
 "nbformat": 4,
 "nbformat_minor": 4
}
